{
 "cells": [
  {
   "cell_type": "markdown",
   "metadata": {
    "toc": true
   },
   "source": [
    "<h1>Table of Contents<span class=\"tocSkip\"></span></h1>\n",
    "<div class=\"toc\"><ul class=\"toc-item\"><li><span><a href=\"#Preamble\" data-toc-modified-id=\"Preamble-1\"><span class=\"toc-item-num\">1&nbsp;&nbsp;</span>Preamble</a></span></li><li><span><a href=\"#Reading-in-csv-Data-as-Dataframes\" data-toc-modified-id=\"Reading-in-csv-Data-as-Dataframes-2\"><span class=\"toc-item-num\">2&nbsp;&nbsp;</span>Reading in csv Data as Dataframes</a></span><ul class=\"toc-item\"><li><span><a href=\"#Merge-and-Save-Data-to-Data-Dir\" data-toc-modified-id=\"Merge-and-Save-Data-to-Data-Dir-2.1\"><span class=\"toc-item-num\">2.1&nbsp;&nbsp;</span>Merge and Save Data to Data Dir</a></span></li></ul></li><li><span><a href=\"#Retrieve-Stellar-Radii-from-Gaia\" data-toc-modified-id=\"Retrieve-Stellar-Radii-from-Gaia-3\"><span class=\"toc-item-num\">3&nbsp;&nbsp;</span>Retrieve Stellar Radii from Gaia</a></span><ul class=\"toc-item\"><li><span><a href=\"#Parse-Target-Coordinates-into-SkyCoord-Objects\" data-toc-modified-id=\"Parse-Target-Coordinates-into-SkyCoord-Objects-3.1\"><span class=\"toc-item-num\">3.1&nbsp;&nbsp;</span>Parse Target Coordinates into SkyCoord Objects</a></span></li><li><span><a href=\"#Query-Gaia-Using-Astroquery\" data-toc-modified-id=\"Query-Gaia-Using-Astroquery-3.2\"><span class=\"toc-item-num\">3.2&nbsp;&nbsp;</span>Query Gaia Using Astroquery</a></span></li></ul></li></ul></div>"
   ]
  },
  {
   "cell_type": "markdown",
   "metadata": {},
   "source": [
    "Kaimi Kahihikolo\n",
    "\n",
    "**Updated** : 2018-06-18 03:34:01 \n",
    "\n",
    "Below is a script to read in and merge the csv data files."
   ]
  },
  {
   "cell_type": "markdown",
   "metadata": {},
   "source": [
    "## Preamble"
   ]
  },
  {
   "cell_type": "code",
   "execution_count": 1,
   "metadata": {
    "collapsed": true
   },
   "outputs": [],
   "source": [
    "import numpy as np\n",
    "import pandas as pd\n",
    "import warnings\n",
    "warnings.filterwarnings('ignore')"
   ]
  },
  {
   "cell_type": "code",
   "execution_count": 2,
   "metadata": {},
   "outputs": [],
   "source": [
    "main_dir = \"/Volumes/LaCie/Research/NAC/\"\n",
    "data_dir = \"{}data/\".format(main_dir)\n",
    "out_dir = \"{}output/\".format(main_dir)"
   ]
  },
  {
   "cell_type": "markdown",
   "metadata": {},
   "source": [
    "## Reading in csv Data as Dataframes"
   ]
  },
  {
   "cell_type": "code",
   "execution_count": 3,
   "metadata": {},
   "outputs": [],
   "source": [
    "df1 = pd.read_csv(\"{}MN_17_3616_MJ_Table2.csv\".format(data_dir))\n",
    "\n",
    "df2 = pd.read_csv(\"{}MN_17_3616_MJ_Table4.csv\".format(data_dir))"
   ]
  },
  {
   "cell_type": "markdown",
   "metadata": {},
   "source": [
    "The csv files have a second header (with units) that is causing problems, so I will just remove it."
   ]
  },
  {
   "cell_type": "code",
   "execution_count": 4,
   "metadata": {},
   "outputs": [],
   "source": [
    "df1 = df1.drop(0)\n",
    "df2 = df2.drop(0)\n",
    "df2 = df2.drop(columns=[\"PERIOD\", \"Name\"])"
   ]
  },
  {
   "cell_type": "code",
   "execution_count": 5,
   "metadata": {},
   "outputs": [
    {
     "data": {
      "text/plain": [
       "Index(['MK', 'logL/Lo', 'SNR', 'RV', 'SRV', 'FWHM', 'SFWHM', 'FWHMo', 'VSINI',\n",
       "       'EVSINI', 'Rsini'],\n",
       "      dtype='object')"
      ]
     },
     "execution_count": 5,
     "metadata": {},
     "output_type": "execute_result"
    }
   ],
   "source": [
    "df2.columns"
   ]
  },
  {
   "cell_type": "code",
   "execution_count": 6,
   "metadata": {},
   "outputs": [],
   "source": [
    "df1.index = range(len(df1))\n",
    "df2.index = range(len(df1))"
   ]
  },
  {
   "cell_type": "markdown",
   "metadata": {},
   "source": [
    "### Merge and Save Data to Data Dir"
   ]
  },
  {
   "cell_type": "code",
   "execution_count": 7,
   "metadata": {},
   "outputs": [],
   "source": [
    "merge = pd.merge(df1, df2, left_index=True,\n",
    "                right_index=True, how=\"outer\",\n",
    "                suffixes=(\"\", \"_y\"))\n",
    "\n",
    "merge.to_csv(\"{}MN_17_3616_merge.csv\".format(out_dir),\n",
    "            float_format='%g')"
   ]
  },
  {
   "cell_type": "markdown",
   "metadata": {},
   "source": [
    "## Retrieve Stellar Radii from Gaia"
   ]
  },
  {
   "cell_type": "markdown",
   "metadata": {},
   "source": [
    "Below I will query the [Gaia Archive](https://gea.esac.esa.int/archive/) to retrive the stellar radius, *radius_val*"
   ]
  },
  {
   "cell_type": "code",
   "execution_count": 8,
   "metadata": {
    "collapsed": true
   },
   "outputs": [],
   "source": [
    "import astropy.units as u\n",
    "from astropy.coordinates.sky_coordinate import SkyCoord"
   ]
  },
  {
   "cell_type": "markdown",
   "metadata": {},
   "source": [
    "### Parse Target Coordinates into SkyCoord Objects"
   ]
  },
  {
   "cell_type": "code",
   "execution_count": 9,
   "metadata": {
    "collapsed": true
   },
   "outputs": [],
   "source": [
    "def str_merge(str1, str2):\n",
    "    \"\"\"\n",
    "    Parameters\n",
    "    ----------\n",
    "        str1 : str \n",
    "            First string\n",
    "        str2 : (str)\n",
    "            Second string\n",
    "    Returns\n",
    "    -------\n",
    "        (str) str1 and str2 separated by a \" \"\n",
    "    \"\"\"\n",
    "    return \"{} {}\".format(str1, str2)"
   ]
  },
  {
   "cell_type": "code",
   "execution_count": 10,
   "metadata": {
    "collapsed": true
   },
   "outputs": [],
   "source": [
    "def to_skycoord(coords):\n",
    "    \"\"\"\n",
    "    Parameters\n",
    "    ----------\n",
    "    coords : (list)\n",
    "            An object RA and DEC in (hourangle, deg) format\n",
    "    Returns\n",
    "    -------\n",
    "    c : SkyCoord\n",
    "        Object coordinates mapped to a SkyCoord object\n",
    "    \"\"\"\n",
    "    coord = str_merge(*coords)\n",
    "    c = SkyCoord(coord, unit=(u.hourangle, u.deg))\n",
    "    return c"
   ]
  },
  {
   "cell_type": "code",
   "execution_count": 11,
   "metadata": {},
   "outputs": [],
   "source": [
    "coords = merge[[\"RA\", \"Dec\"]].apply(to_skycoord, axis=1)"
   ]
  },
  {
   "cell_type": "markdown",
   "metadata": {},
   "source": [
    "### Query Gaia Using Astroquery"
   ]
  },
  {
   "cell_type": "markdown",
   "metadata": {},
   "source": [
    "To query the Gaia database, we will be using the [Astroquery library](http://astroquery.readthedocs.io/en/latest/gaia/gaia.html). \n",
    "```Python\n",
    "from astroquery.gaia import Gaia\n",
    "```\n",
    "\n",
    "For example,\n",
    "\n",
    "```python\n",
    "job = Gaia.launch_job_async(\"SELECT * FROM gaiadr1.gaia_source WHERE CONTAINS(POINT('ICRS',gaiadr1.gaia_source.ra, gaiadr1.gaia_source.dec),CIRCLE('ICRS',56.75,24.1167,2))=1;\", dump_to_file=True)\n",
    "\n",
    "r = job.get_results()\n",
    "print (r['source_id'])\n",
    "```\n",
    "Returns and astropy table of the form:\n",
    "\n",
    "```text\n",
    "source_id    \n",
    "-----------------\n",
    "66926207631181184\n",
    "66818318054203520\n",
    "66917823855519360\n",
    "66830859358837888\n",
    "...\n",
    "```\n",
    "\n",
    "For a list of tables, use...\n",
    "```python\n",
    "tables = Gaia.load_tables(only_names=True)\n",
    "for table in (tables):\n",
    "    print (table.get_qualified_name())\n",
    "```\n",
    "\n",
    "Other [tutorial](https://gea.esac.esa.int/archive-help/tutorials/python_cluster/index.html)"
   ]
  },
  {
   "cell_type": "code",
   "execution_count": 12,
   "metadata": {},
   "outputs": [
    {
     "name": "stdout",
     "output_type": "stream",
     "text": [
      "Created TAP+ (v1.0.1) - Connection:\n",
      "\tHost: gea.esac.esa.int\n",
      "\tUse HTTPS: False\n",
      "\tPort: 80\n",
      "\tSSL Port: 443\n"
     ]
    }
   ],
   "source": [
    "from astroquery.gaia import Gaia"
   ]
  },
  {
   "cell_type": "code",
   "execution_count": 13,
   "metadata": {
    "scrolled": true
   },
   "outputs": [],
   "source": [
    "width = u.Quantity(2.0, u.arcsec)\n",
    "height = u.Quantity(2.0, u.arcsec)"
   ]
  },
  {
   "cell_type": "code",
   "execution_count": 14,
   "metadata": {
    "collapsed": true
   },
   "outputs": [],
   "source": [
    "from multiprocessing import Manager, Pool, active_children"
   ]
  },
  {
   "cell_type": "code",
   "execution_count": 15,
   "metadata": {
    "collapsed": true
   },
   "outputs": [],
   "source": [
    "def arg_nearest_vector(array, value):\n",
    "    array = np.asarray(array)\n",
    "    \n",
    "    if len(array) == 1:\n",
    "        return 0\n",
    "    else:\n",
    "        idx = np.array([np.linalg.norm(x+y) for (x,y) in array-value]).argmin()\n",
    "        return idx"
   ]
  },
  {
   "cell_type": "code",
   "execution_count": 16,
   "metadata": {},
   "outputs": [],
   "source": [
    "N = len(coords)\n",
    "\n",
    "## -- List of keys to retrieve from Gaia database\n",
    "features = [\"parallax\", \"parallax_error\",\n",
    "            \"radius_val\", \"radius_percentile_lower\", \"radius_percentile_upper\",\n",
    "            \"lum_val\", \"lum_percentile_lower\", \"lum_percentile_upper\",\n",
    "            \"teff_val\", \"teff_percentile_lower\", \"teff_percentile_upper\"]\n",
    "\n",
    "mylist = Manager().list()\n",
    "\n",
    "def main(n):\n",
    "    global features\n",
    "    coord = n\n",
    "    \n",
    "    col = np.ones(len(features)+1)\n",
    "    \n",
    "    if coord % 10 == 0:\n",
    "        print(\"{} / {}\".format(coord, N))\n",
    "    \n",
    "    try:\n",
    "        r = Gaia.query_object_async(\n",
    "                coordinate=coords.values[coord], \n",
    "                width = width,\n",
    "                height = height\n",
    "            );\n",
    "        cat = SkyCoord(ra=r[\"ra\"].data*u.deg, dec=r[\"dec\"].data*u.deg)\n",
    "        #print(cat)\n",
    "        \n",
    "        c = SkyCoord(coords.loc[coord])\n",
    "        \n",
    "        idx, _, _ = c.match_to_catalog_sky(cat)\n",
    "        \n",
    "        idx = int(idx)\n",
    "        \n",
    "#         idx = arg_nearest_vector([r[\"ra\"].data,\n",
    "#                            r[\"dec\"].data], \n",
    "#                       [coords.values[coord].ra.deg, \n",
    "#                        coords.values[coord].dec.deg])\n",
    "        \n",
    "        col[0] = coord\n",
    "        col[1] = float((r[\"parallax\"]).data[idx])\n",
    "        col[2] = float((r[\"parallax_error\"]).data[idx])\n",
    "        col[3] = float((r[\"radius_val\"]).data[idx])\n",
    "        col[4] = float((r[\"radius_percentile_lower\"]).data[idx])\n",
    "        col[5] = float((r[\"radius_percentile_upper\"]).data[idx])\n",
    "        col[6] = float((r[\"lum_val\"]).data[idx])\n",
    "        col[7] = float((r[\"lum_percentile_lower\"]).data[idx])\n",
    "        col[8] = float((r[\"lum_percentile_upper\"]).data[idx])\n",
    "        col[9] = float((r[\"teff_val\"]).data[idx])\n",
    "        col[10] = float((r[\"teff_percentile_lower\"]).data[idx])\n",
    "        col[11] = float((r[\"teff_percentile_upper\"]).data[idx])\n",
    "\n",
    "\n",
    "    except TypeError:\n",
    "        col[0] = coord\n",
    "        col[1] = float((r[\"parallax\"]).data[0])\n",
    "        col[2] = float((r[\"parallax_error\"]).data[0])\n",
    "        col[3] = float((r[\"radius_val\"]).data[0])\n",
    "        col[4] = float((r[\"radius_percentile_lower\"]).data[0])\n",
    "        col[5] = float((r[\"radius_percentile_upper\"]).data[0])\n",
    "        col[6] = float((r[\"lum_val\"]).data[0])\n",
    "        col[7] = float((r[\"lum_percentile_lower\"]).data[0])\n",
    "        col[8] = float((r[\"lum_percentile_upper\"]).data[0])\n",
    "        col[9] = float((r[\"teff_val\"]).data[0])\n",
    "        col[10] = float((r[\"teff_percentile_lower\"]).data[0])\n",
    "        col[11] = float((r[\"teff_percentile_upper\"]).data[0])\n",
    "    \n",
    "    mylist.append(col)"
   ]
  },
  {
   "cell_type": "code",
   "execution_count": 17,
   "metadata": {
    "scrolled": true
   },
   "outputs": [
    {
     "name": "stdout",
     "output_type": "stream",
     "text": [
      "0 / 319\n",
      "Query finished.\n",
      "Query finished.\n",
      "Query finished.\n",
      "10 / 319\n",
      "Query finished.\n",
      "Query finished.\n",
      "Query finished.\n",
      "Query finished.\n",
      "Query finished.\n",
      "Query finished.\n",
      "Query finished.\n",
      "Query finished.\n",
      "Query finished.\n",
      "20 / 319\n",
      "Query finished.\n",
      "Query finished.\n",
      "Query finished.\n",
      "Query finished.\n",
      "Query finished.\n",
      "Query finished.\n",
      "Query finished.\n",
      "Query finished.\n",
      "Query finished.\n",
      "Query finished.\n",
      "30 / 319\n",
      "Query finished.\n",
      "Query finished.\n",
      "Query finished.\n",
      "Query finished.\n",
      "Query finished.\n",
      "Query finished.\n",
      "Query finished.\n",
      "Query finished.\n",
      "Query finished.\n",
      "Query finished.\n",
      "40 / 319\n",
      "Query finished.\n",
      "Query finished.\n",
      "Query finished.\n",
      "Query finished.\n",
      "Query finished.\n",
      "Query finished.\n",
      "Query finished.\n",
      "Query finished.\n",
      "Query finished.\n",
      "Query finished.\n",
      "Query finished.\n",
      "Query finished.\n",
      "50 / 319\n",
      "Query finished.\n",
      "Query finished.\n",
      "Query finished.\n",
      "Query finished.\n",
      "Query finished.\n",
      "Query finished.\n",
      "Query finished.\n",
      "Query finished.\n",
      "Query finished.\n",
      "Query finished.\n",
      "60 / 319\n",
      "Query finished.\n",
      "Query finished.\n",
      "Query finished.\n",
      "Query finished.\n",
      "Query finished.\n",
      "Query finished.\n",
      "Query finished.\n",
      "Query finished.\n",
      "Query finished.\n",
      "Query finished.\n",
      "70 / 319\n",
      "Query finished.\n",
      "Query finished.\n",
      "Query finished.\n",
      "Query finished.\n",
      "Query finished.\n",
      "Query finished.\n",
      "Query finished.\n",
      "Query finished.\n",
      "80 / 319\n",
      "Query finished.\n",
      "Query finished.\n",
      "Query finished.\n",
      "Query finished.\n",
      "Query finished.\n",
      "Query finished.\n",
      "Query finished.\n",
      "Query finished.\n",
      "Query finished.\n",
      "Query finished.\n",
      "Query finished.\n",
      "90 / 319\n",
      "Query finished.\n",
      "Query finished.\n",
      "Query finished.\n",
      "Query finished.\n",
      "Query finished.\n",
      "Query finished.\n",
      "Query finished.\n",
      "Query finished.\n",
      "Query finished.\n",
      "Query finished.\n",
      "Query finished.\n",
      "100 / 319\n",
      "Query finished.\n",
      "Query finished.\n",
      "Query finished.\n",
      "Query finished.\n",
      "Query finished.\n",
      "Query finished.\n",
      "Query finished.\n",
      "110 / 319\n",
      "Query finished.\n",
      "Query finished.\n",
      "Query finished.\n",
      "Query finished.\n",
      "Query finished.\n",
      "Query finished.\n",
      "Query finished.\n",
      "Query finished.\n",
      "Query finished.\n",
      "Query finished.\n",
      "120 / 319\n",
      "Query finished.\n",
      "Query finished.\n",
      "Query finished.\n",
      "Query finished.\n",
      "Query finished.\n",
      "Query finished.\n",
      "Query finished.\n",
      "Query finished.\n",
      "Query finished.\n",
      "Query finished.\n",
      "130 / 319\n",
      "Query finished.\n",
      "Query finished.\n",
      "Query finished.\n",
      "Query finished.\n",
      "Query finished.\n",
      "Query finished.\n",
      "Query finished.\n",
      "Query finished.\n",
      "Query finished.\n",
      "Query finished.\n",
      "140 / 319\n",
      "Query finished.\n",
      "Query finished.\n",
      "Query finished.\n",
      "Query finished.\n",
      "Query finished.\n",
      "Query finished.\n",
      "Query finished.\n",
      "Query finished.\n",
      "Query finished.\n",
      "Query finished.\n",
      "Query finished.\n",
      "Query finished.\n",
      "150 / 319\n",
      "Query finished.\n",
      "Query finished.\n",
      "Query finished.\n",
      "Query finished.\n",
      "Query finished.\n",
      "Query finished.\n",
      "Query finished.\n",
      "Query finished.\n",
      "Query finished.\n",
      "Query finished.\n",
      "Query finished.\n",
      "Query finished.\n",
      "160 / 319\n",
      "Query finished.\n",
      "Query finished.\n",
      "Query finished.\n",
      "Query finished.\n",
      "Query finished.\n",
      "Query finished.\n",
      "Query finished.\n",
      "Query finished.\n",
      "Query finished.\n",
      "Query finished.\n",
      "170 / 319\n",
      "Query finished.\n",
      "Query finished.\n",
      "Query finished.\n",
      "Query finished.\n",
      "Query finished.\n",
      "Query finished.\n",
      "Query finished.\n",
      "Query finished.\n",
      "Query finished.\n",
      "Query finished.\n",
      "180 / 319\n",
      "Query finished.\n",
      "Query finished.\n",
      "Query finished.\n",
      "Query finished.\n",
      "Query finished.\n",
      "Query finished.\n",
      "Query finished.\n",
      "Query finished.\n",
      "Query finished.\n",
      "Query finished.\n",
      "Query finished.\n",
      "Query finished.\n",
      "Query finished.\n",
      "Query finished.\n",
      "Query finished.\n",
      "190 / 319\n",
      "Query finished.\n",
      "Query finished.\n",
      "Query finished.\n",
      "Query finished.\n",
      "Query finished.\n",
      "Query finished.\n",
      "Query finished.\n",
      "Query finished.\n",
      "Query finished.\n",
      "Query finished.\n",
      "200 / 319\n",
      "Query finished.\n",
      "Query finished.\n",
      "Query finished.\n",
      "Query finished.\n",
      "Query finished.\n",
      "Query finished.\n",
      "Query finished.\n",
      "Query finished.\n",
      "210 / 319\n",
      "Query finished.\n",
      "Query finished.\n",
      "Query finished.\n",
      "Query finished.\n",
      "Query finished.\n",
      "Query finished.\n",
      "Query finished.\n",
      "Query finished.\n",
      "Query finished.\n",
      "220 / 319\n",
      "Query finished.\n",
      "Query finished.\n",
      "Query finished.\n",
      "Query finished.\n",
      "Query finished.\n",
      "Query finished.\n",
      "Query finished.\n",
      "Query finished.\n",
      "Query finished.\n",
      "230 / 319\n",
      "Query finished.\n",
      "Query finished.\n",
      "Query finished.\n",
      "Query finished.\n",
      "Query finished.\n",
      "Query finished.\n",
      "240 / 319\n",
      "Query finished.\n",
      "Query finished.\n",
      "Query finished.\n",
      "Query finished.\n",
      "Query finished.\n",
      "Query finished.\n",
      "Query finished.\n",
      "Query finished.\n",
      "Query finished.\n",
      "Query finished.\n",
      "Query finished.\n",
      "Query finished.\n",
      "Query finished.\n",
      "Query finished.\n",
      "Query finished.\n",
      "Query finished.\n",
      "Query finished.\n",
      "Query finished.\n",
      "250 / 319\n",
      "Query finished.\n",
      "Query finished.\n",
      "Query finished.\n",
      "Query finished.\n",
      "Query finished.\n",
      "Query finished.\n",
      "Query finished.\n",
      "Query finished.\n",
      "260 / 319\n",
      "Query finished.\n",
      "Query finished.\n",
      "Query finished.\n",
      "Query finished.\n",
      "Query finished.\n",
      "Query finished.\n",
      "Query finished.\n",
      "Query finished.\n",
      "Query finished.\n",
      "Query finished.\n",
      "Query finished.\n",
      "Query finished.\n",
      "270 / 319\n",
      "Query finished.\n",
      "Query finished.\n",
      "Query finished.\n",
      "Query finished.\n",
      "Query finished.\n",
      "Query finished.\n",
      "Query finished.\n",
      "Query finished.\n",
      "Query finished.\n",
      "Query finished.\n",
      "280 / 319\n",
      "Query finished.\n",
      "Query finished.\n",
      "Query finished.\n",
      "Query finished.\n",
      "Query finished.\n",
      "Query finished.\n",
      "Query finished.\n",
      "290 / 319\n",
      "Query finished.\n",
      "Query finished.\n",
      "Query finished.\n",
      "Query finished.\n",
      "Query finished.\n",
      "Query finished.\n",
      "Query finished.\n",
      "Query finished.\n",
      "Query finished.\n",
      "Query finished.\n",
      "Query finished.\n",
      "300 / 319\n",
      "Query finished.\n",
      "Query finished.\n",
      "Query finished.\n",
      "Query finished.\n",
      "Query finished.\n",
      "Query finished.\n",
      "Query finished.\n",
      "Query finished.\n",
      "Query finished.\n",
      "310 / 319\n",
      "Query finished.\n",
      "Query finished.\n",
      "Query finished.\n",
      "Query finished.\n",
      "Query finished.\n",
      "Query finished.\n",
      "Query finished.\n",
      "Query finished.\n",
      "Query finished.\n",
      "Query finished.\n",
      "Query finished.\n",
      "Query finished.\n"
     ]
    }
   ],
   "source": [
    "from time import sleep\n",
    "if __name__ == \"__main__\":\n",
    "    pool = Pool(10)\n",
    "    \n",
    "    for i in range(N):\n",
    "        pool.apply_async(main, (i,))\n",
    "    pool.close()\n",
    "    \n",
    "    while len(active_children()) > 1:\n",
    "        sleep(0.5)\n",
    "    pool.join()"
   ]
  },
  {
   "cell_type": "code",
   "execution_count": 18,
   "metadata": {},
   "outputs": [],
   "source": [
    "df = pd.DataFrame([i for i in mylist])\n",
    "df.columns = [\"temp_idx\"]+features"
   ]
  },
  {
   "cell_type": "code",
   "execution_count": 19,
   "metadata": {},
   "outputs": [],
   "source": [
    "df = df.sort_values(by=\"temp_idx\").drop(columns=\"temp_idx\")\n",
    "df.index = range(len(df))"
   ]
  },
  {
   "cell_type": "code",
   "execution_count": 20,
   "metadata": {},
   "outputs": [],
   "source": [
    "df[\"radius_sigma\"] = pd.DataFrame([df[\"radius_percentile_upper\"] - df[\"radius_val\"],\n",
    "                                 df[\"radius_val\"] - df[\"radius_percentile_lower\"]]).mean(axis=0)\n",
    "\n",
    "df[\"lum_sigma\"] = pd.DataFrame([df[\"lum_percentile_upper\"] - df[\"lum_val\"],\n",
    "                                 df[\"lum_val\"] - df[\"lum_percentile_lower\"]]).mean(axis=0)\n",
    "\n",
    "df[\"teff_sigma\"] = pd.DataFrame([df[\"teff_percentile_upper\"] - df[\"teff_val\"],\n",
    "                                 df[\"teff_val\"] - df[\"teff_percentile_lower\"]]).mean(axis=0)"
   ]
  },
  {
   "cell_type": "code",
   "execution_count": 24,
   "metadata": {},
   "outputs": [],
   "source": [
    "merge1 = pd.merge(merge.reindex(), df.reindex(), left_index=True,\n",
    "                right_index=True, how=\"outer\",\n",
    "                suffixes=(\"\", \"_y\"))\n",
    "\n",
    "merge1.to_csv(\"{}MN_17_3616_gaia.csv\".format(out_dir),\n",
    "              float_format='%g')"
   ]
  },
  {
   "cell_type": "code",
   "execution_count": null,
   "metadata": {
    "collapsed": true
   },
   "outputs": [],
   "source": []
  }
 ],
 "metadata": {
  "anaconda-cloud": {},
  "kernelspec": {
   "display_name": "Python 3",
   "language": "python",
   "name": "python3"
  },
  "language_info": {
   "codemirror_mode": {
    "name": "ipython",
    "version": 3
   },
   "file_extension": ".py",
   "mimetype": "text/x-python",
   "name": "python",
   "nbconvert_exporter": "python",
   "pygments_lexer": "ipython3",
   "version": "3.6.5"
  },
  "latex_envs": {
   "LaTeX_envs_menu_present": true,
   "autoclose": true,
   "autocomplete": true,
   "bibliofile": "biblio.bib",
   "cite_by": "apalike",
   "current_citInitial": 1,
   "eqLabelWithNumbers": true,
   "eqNumInitial": 1,
   "hotkeys": {
    "equation": "Ctrl-E",
    "itemize": "Ctrl-I"
   },
   "labels_anchors": false,
   "latex_user_defs": false,
   "report_style_numbering": false,
   "user_envs_cfg": false
  },
  "toc": {
   "base_numbering": 1,
   "nav_menu": {},
   "number_sections": true,
   "sideBar": true,
   "skip_h1_title": true,
   "title_cell": "Table of Contents",
   "title_sidebar": "Contents",
   "toc_cell": true,
   "toc_position": {},
   "toc_section_display": true,
   "toc_window_display": true
  },
  "varInspector": {
   "cols": {
    "lenName": 16,
    "lenType": 16,
    "lenVar": 40
   },
   "kernels_config": {
    "python": {
     "delete_cmd_postfix": "",
     "delete_cmd_prefix": "del ",
     "library": "var_list.py",
     "varRefreshCmd": "print(var_dic_list())"
    },
    "r": {
     "delete_cmd_postfix": ") ",
     "delete_cmd_prefix": "rm(",
     "library": "var_list.r",
     "varRefreshCmd": "cat(var_dic_list()) "
    }
   },
   "types_to_exclude": [
    "module",
    "function",
    "builtin_function_or_method",
    "instance",
    "_Feature"
   ],
   "window_display": false
  }
 },
 "nbformat": 4,
 "nbformat_minor": 2
}
