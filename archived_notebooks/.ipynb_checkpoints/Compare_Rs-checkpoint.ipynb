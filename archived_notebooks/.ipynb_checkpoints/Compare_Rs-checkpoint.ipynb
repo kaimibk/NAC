{
 "cells": [
  {
   "cell_type": "markdown",
   "metadata": {
    "toc": true
   },
   "source": [
    "<h1>Table of Contents<span class=\"tocSkip\"></span></h1>\n",
    "<div class=\"toc\"><ul class=\"toc-item\"><li><span><a href=\"#Comparing-to-GAIA\" data-toc-modified-id=\"Comparing-to-GAIA-1\"><span class=\"toc-item-num\">1&nbsp;&nbsp;</span>Comparing to GAIA</a></span></li><li><span><a href=\"#Comparing-to-Jackson-et-al-(2018)\" data-toc-modified-id=\"Comparing-to-Jackson-et-al-(2018)-2\"><span class=\"toc-item-num\">2&nbsp;&nbsp;</span>Comparing to Jackson et al (2018)</a></span></li><li><span><a href=\"#Compare-GAIA-to-Jackson-et-al-(2018)\" data-toc-modified-id=\"Compare-GAIA-to-Jackson-et-al-(2018)-3\"><span class=\"toc-item-num\">3&nbsp;&nbsp;</span>Compare GAIA to Jackson et al (2018)</a></span><ul class=\"toc-item\"><li><span><a href=\"#Compare-all-three-to-eachother\" data-toc-modified-id=\"Compare-all-three-to-eachother-3.1\"><span class=\"toc-item-num\">3.1&nbsp;&nbsp;</span>Compare all three to eachother</a></span></li></ul></li></ul></div>"
   ]
  },
  {
   "cell_type": "code",
   "execution_count": 9,
   "metadata": {},
   "outputs": [],
   "source": [
    "import plotly.plotly as py\n",
    "import plotly.graph_objs as go\n",
    "from plotly import tools\n",
    "import pandas as pd"
   ]
  },
  {
   "cell_type": "code",
   "execution_count": 5,
   "metadata": {
    "deletable": false,
    "editable": false
   },
   "outputs": [],
   "source": [
    "tools.set_credentials_file(username='kaimibk', api_key='1CHORCMT0nPPfjQo3KHQ')"
   ]
  },
  {
   "cell_type": "code",
   "execution_count": 7,
   "metadata": {},
   "outputs": [],
   "source": [
    "main_dir = \"/u/kaimibk/Documents/Research/NAC/\"\n",
    "data_dir = main_dir+\"data/\"\n",
    "out_dir = main_dir+\"/output/\""
   ]
  },
  {
   "cell_type": "code",
   "execution_count": 12,
   "metadata": {},
   "outputs": [],
   "source": [
    "df = pd.read_csv(main_dir+\"Pleiades_G_2M_I.csv\", index_col=0)"
   ]
  },
  {
   "cell_type": "code",
   "execution_count": 13,
   "metadata": {},
   "outputs": [
    {
     "data": {
      "text/html": [
       "<div>\n",
       "<style scoped>\n",
       "    .dataframe tbody tr th:only-of-type {\n",
       "        vertical-align: middle;\n",
       "    }\n",
       "\n",
       "    .dataframe tbody tr th {\n",
       "        vertical-align: top;\n",
       "    }\n",
       "\n",
       "    .dataframe thead th {\n",
       "        text-align: right;\n",
       "    }\n",
       "</style>\n",
       "<table border=\"1\" class=\"dataframe\">\n",
       "  <thead>\n",
       "    <tr style=\"text-align: right;\">\n",
       "      <th></th>\n",
       "      <th>Name</th>\n",
       "      <th>RA</th>\n",
       "      <th>Dec</th>\n",
       "      <th>K2MASS</th>\n",
       "      <th>(V-K)o</th>\n",
       "      <th>Period</th>\n",
       "      <th>Ref</th>\n",
       "      <th>BCK</th>\n",
       "      <th>logL/Lo</th>\n",
       "      <th>M/Mo</th>\n",
       "      <th>...</th>\n",
       "      <th>teff_percentile_upper</th>\n",
       "      <th>radius_sigma</th>\n",
       "      <th>lum_sigma</th>\n",
       "      <th>teff_sigma</th>\n",
       "      <th>sinI_s</th>\n",
       "      <th>sinI_s_sigma</th>\n",
       "      <th>V</th>\n",
       "      <th>V_sigma</th>\n",
       "      <th>iso_rad</th>\n",
       "      <th>iso_rad_Err</th>\n",
       "    </tr>\n",
       "  </thead>\n",
       "  <tbody>\n",
       "    <tr>\n",
       "      <th>0</th>\n",
       "      <td>J03394633+2358531</td>\n",
       "      <td>54.943067</td>\n",
       "      <td>23.981442</td>\n",
       "      <td>11.83</td>\n",
       "      <td>4.89</td>\n",
       "      <td>1.138</td>\n",
       "      <td>1</td>\n",
       "      <td>2.73</td>\n",
       "      <td>-1.66</td>\n",
       "      <td>0.41</td>\n",
       "      <td>...</td>\n",
       "      <td>3929.82</td>\n",
       "      <td>NaN</td>\n",
       "      <td>NaN</td>\n",
       "      <td>358.077</td>\n",
       "      <td>NaN</td>\n",
       "      <td>NaN</td>\n",
       "      <td>NaN</td>\n",
       "      <td>NaN</td>\n",
       "      <td>0.328400</td>\n",
       "      <td>0.016717</td>\n",
       "    </tr>\n",
       "    <tr>\n",
       "      <th>1</th>\n",
       "      <td>J03414664+2301198</td>\n",
       "      <td>55.444367</td>\n",
       "      <td>23.022186</td>\n",
       "      <td>13.16</td>\n",
       "      <td>5.63</td>\n",
       "      <td>0.294</td>\n",
       "      <td>1</td>\n",
       "      <td>2.81</td>\n",
       "      <td>-2.23</td>\n",
       "      <td>0.19</td>\n",
       "      <td>...</td>\n",
       "      <td>NaN</td>\n",
       "      <td>NaN</td>\n",
       "      <td>NaN</td>\n",
       "      <td>NaN</td>\n",
       "      <td>NaN</td>\n",
       "      <td>NaN</td>\n",
       "      <td>NaN</td>\n",
       "      <td>NaN</td>\n",
       "      <td>0.268599</td>\n",
       "      <td>0.009612</td>\n",
       "    </tr>\n",
       "    <tr>\n",
       "      <th>2</th>\n",
       "      <td>J03414895+2303235</td>\n",
       "      <td>55.453963</td>\n",
       "      <td>23.056539</td>\n",
       "      <td>13.19</td>\n",
       "      <td>6.09</td>\n",
       "      <td>0.239</td>\n",
       "      <td>1</td>\n",
       "      <td>2.86</td>\n",
       "      <td>-2.26</td>\n",
       "      <td>0.19</td>\n",
       "      <td>...</td>\n",
       "      <td>NaN</td>\n",
       "      <td>NaN</td>\n",
       "      <td>NaN</td>\n",
       "      <td>NaN</td>\n",
       "      <td>NaN</td>\n",
       "      <td>NaN</td>\n",
       "      <td>NaN</td>\n",
       "      <td>NaN</td>\n",
       "      <td>0.269544</td>\n",
       "      <td>0.014740</td>\n",
       "    </tr>\n",
       "    <tr>\n",
       "      <th>3</th>\n",
       "      <td>J03415671+2358434</td>\n",
       "      <td>55.486317</td>\n",
       "      <td>23.978728</td>\n",
       "      <td>13.25</td>\n",
       "      <td>5.76</td>\n",
       "      <td>0.401</td>\n",
       "      <td>1</td>\n",
       "      <td>2.82</td>\n",
       "      <td>-2.27</td>\n",
       "      <td>0.18</td>\n",
       "      <td>...</td>\n",
       "      <td>NaN</td>\n",
       "      <td>NaN</td>\n",
       "      <td>NaN</td>\n",
       "      <td>NaN</td>\n",
       "      <td>NaN</td>\n",
       "      <td>NaN</td>\n",
       "      <td>NaN</td>\n",
       "      <td>NaN</td>\n",
       "      <td>0.303899</td>\n",
       "      <td>0.012164</td>\n",
       "    </tr>\n",
       "  </tbody>\n",
       "</table>\n",
       "<p>4 rows × 43 columns</p>\n",
       "</div>"
      ],
      "text/plain": [
       "                Name         RA        Dec  K2MASS  (V-K)o  Period  Ref   BCK  \\\n",
       "0  J03394633+2358531  54.943067  23.981442   11.83    4.89   1.138    1  2.73   \n",
       "1  J03414664+2301198  55.444367  23.022186   13.16    5.63   0.294    1  2.81   \n",
       "2  J03414895+2303235  55.453963  23.056539   13.19    6.09   0.239    1  2.86   \n",
       "3  J03415671+2358434  55.486317  23.978728   13.25    5.76   0.401    1  2.82   \n",
       "\n",
       "   logL/Lo  M/Mo     ...       teff_percentile_upper  radius_sigma  lum_sigma  \\\n",
       "0    -1.66  0.41     ...                     3929.82           NaN        NaN   \n",
       "1    -2.23  0.19     ...                         NaN           NaN        NaN   \n",
       "2    -2.26  0.19     ...                         NaN           NaN        NaN   \n",
       "3    -2.27  0.18     ...                         NaN           NaN        NaN   \n",
       "\n",
       "   teff_sigma  sinI_s  sinI_s_sigma   V  V_sigma   iso_rad  iso_rad_Err  \n",
       "0     358.077     NaN           NaN NaN      NaN  0.328400     0.016717  \n",
       "1         NaN     NaN           NaN NaN      NaN  0.268599     0.009612  \n",
       "2         NaN     NaN           NaN NaN      NaN  0.269544     0.014740  \n",
       "3         NaN     NaN           NaN NaN      NaN  0.303899     0.012164  \n",
       "\n",
       "[4 rows x 43 columns]"
      ]
     },
     "execution_count": 13,
     "metadata": {},
     "output_type": "execute_result"
    }
   ],
   "source": [
    "df.head(4)"
   ]
  },
  {
   "cell_type": "markdown",
   "metadata": {},
   "source": [
    "## Comparing to GAIA"
   ]
  },
  {
   "cell_type": "code",
   "execution_count": 14,
   "metadata": {},
   "outputs": [
    {
     "data": {
      "text/html": [
       "<iframe id=\"igraph\" scrolling=\"no\" style=\"border:none;\" seamless=\"seamless\" src=\"https://plot.ly/~kaimibk/155.embed\" height=\"525px\" width=\"100%\"></iframe>"
      ],
      "text/plain": [
       "<plotly.tools.PlotlyDisplay object>"
      ]
     },
     "execution_count": 14,
     "metadata": {},
     "output_type": "execute_result"
    }
   ],
   "source": [
    "trace1 = go.Scatter(\n",
    "    mode = \"markers\",\n",
    "    x = df.radius_val,\n",
    "    y = df.iso_rad,\n",
    "    \n",
    "    error_y = {\n",
    "        \"type\" : \"data\",\n",
    "        \"array\" : df.iso_rad_Err,\n",
    "        \"visible\" : True\n",
    "        },\n",
    "    error_x = {\n",
    "        \"type\" : \"data\",\n",
    "        \"array\" : df.radius_sigma,\n",
    "        \"visible\" : True\n",
    "        }\n",
    "    )\n",
    "\n",
    "layout = go.Layout(\n",
    "            yaxis={\n",
    "                \"title\" : \"Radius from Isoclassify\",\n",
    "                \"mirror\" : \"ticks\",\n",
    "                \"linecolor\" : \"black\",\n",
    "                \"linewidth\" : 1,\n",
    "                \"range\" : [0.4,1.4]},\n",
    "            xaxis={\n",
    "                \"title\" : \"Radius from GAIA D2\",\n",
    "                \"mirror\" : \"ticks\",\n",
    "                \"linecolor\" : \"black\",\n",
    "                \"linewidth\" : 1,\n",
    "                \"range\" : [0.4,1.4]},\n",
    "            shapes = [{\n",
    "                \"type\" : \"line\",\n",
    "                \"x0\" : 0,\n",
    "                \"y0\" : 0,\n",
    "                \"x1\" : 1.5,\n",
    "                \"y1\" : 1.5,\n",
    "                \"line\" : {\n",
    "                    \"color\" : \"orange\",\n",
    "                    \"width\" : 3,\n",
    "                },\n",
    "                \"opacity\" : 0.5\n",
    "        \n",
    "            }],\n",
    "    )\n",
    "\n",
    "figure = go.Figure(data=[trace1], layout=layout)\n",
    "\n",
    "py.iplot(figure, filename=\"radius_scatter\")"
   ]
  },
  {
   "cell_type": "code",
   "execution_count": 16,
   "metadata": {},
   "outputs": [
    {
     "data": {
      "text/html": [
       "<iframe id=\"igraph\" scrolling=\"no\" style=\"border:none;\" seamless=\"seamless\" src=\"https://plot.ly/~kaimibk/157.embed\" height=\"525px\" width=\"100%\"></iframe>"
      ],
      "text/plain": [
       "<plotly.tools.PlotlyDisplay object>"
      ]
     },
     "execution_count": 16,
     "metadata": {},
     "output_type": "execute_result"
    }
   ],
   "source": [
    "trace2 = go.Parcoords(\n",
    "            line = {'color' : 'blue'},\n",
    "            dimensions = list([\n",
    "                dict(range = [0,1.4],\n",
    "                     label = 'GAIA D2', values = df.radius_val),\n",
    "                \n",
    "                dict(range = [0,1.4],\n",
    "                     label = 'Isoclassify', values = df.iso_rad)\n",
    "        ])\n",
    "    )\n",
    "\n",
    "figure = go.Figure(data=[trace2])\n",
    "\n",
    "py.iplot([trace2], filename = 'radius_parcoords')"
   ]
  },
  {
   "cell_type": "markdown",
   "metadata": {},
   "source": [
    "## Comparing to Jackson et al (2018)"
   ]
  },
  {
   "cell_type": "code",
   "execution_count": 17,
   "metadata": {},
   "outputs": [
    {
     "data": {
      "text/html": [
       "<iframe id=\"igraph\" scrolling=\"no\" style=\"border:none;\" seamless=\"seamless\" src=\"https://plot.ly/~kaimibk/158.embed\" height=\"525px\" width=\"100%\"></iframe>"
      ],
      "text/plain": [
       "<plotly.tools.PlotlyDisplay object>"
      ]
     },
     "execution_count": 17,
     "metadata": {},
     "output_type": "execute_result"
    }
   ],
   "source": [
    "trace1 = go.Scatter(\n",
    "    mode = \"markers\",\n",
    "    x = df[\"R/Ro\"],\n",
    "    y = df.iso_rad,\n",
    "    \n",
    "    error_y = {\n",
    "        \"type\" : \"data\",\n",
    "        \"array\" : df.iso_rad_Err,\n",
    "        \"visible\" : True\n",
    "        }\n",
    "    )\n",
    "\n",
    "layout = go.Layout(\n",
    "            yaxis={\n",
    "                \"title\" : \"Radius from Isoclassify\",\n",
    "                \"mirror\" : \"ticks\",\n",
    "                \"linecolor\" : \"black\",\n",
    "                \"linewidth\" : 1,\n",
    "                \"range\" : [0.1,1.4]},\n",
    "            xaxis={\n",
    "                \"title\" : \"Radius from Jackson et al. (2018)\",\n",
    "                \"mirror\" : \"ticks\",\n",
    "                \"linecolor\" : \"black\",\n",
    "                \"linewidth\" : 1,\n",
    "                \"range\" : [0.1,1.4]},\n",
    "            shapes = [{\n",
    "                \"type\" : \"line\",\n",
    "                \"x0\" : 0,\n",
    "                \"y0\" : 0,\n",
    "                \"x1\" : 1.5,\n",
    "                \"y1\" : 1.5,\n",
    "                \"line\" : {\n",
    "                    \"color\" : \"orange\",\n",
    "                    \"width\" : 3,\n",
    "                },\n",
    "                \"opacity\" : 0.5\n",
    "        \n",
    "            }],\n",
    "    )\n",
    "\n",
    "figure = go.Figure(data=[trace1], layout=layout)\n",
    "\n",
    "py.iplot(figure, filename=\"radius_scatter_2\")"
   ]
  },
  {
   "cell_type": "code",
   "execution_count": 18,
   "metadata": {},
   "outputs": [
    {
     "data": {
      "text/html": [
       "<iframe id=\"igraph\" scrolling=\"no\" style=\"border:none;\" seamless=\"seamless\" src=\"https://plot.ly/~kaimibk/160.embed\" height=\"525px\" width=\"100%\"></iframe>"
      ],
      "text/plain": [
       "<plotly.tools.PlotlyDisplay object>"
      ]
     },
     "execution_count": 18,
     "metadata": {},
     "output_type": "execute_result"
    }
   ],
   "source": [
    "trace2 = go.Parcoords(\n",
    "            line = {'color' : 'blue'},\n",
    "            dimensions = list([\n",
    "                dict(range = [0,1.4],\n",
    "                     label = 'Jackson et al. (2018)', values = df[\"R/Ro\"]),\n",
    "                \n",
    "                dict(range = [0,1.4],\n",
    "                     label = 'Isoclassify', values = df.iso_rad)\n",
    "        ])\n",
    "    )\n",
    "\n",
    "figure = go.Figure(data=[trace2])\n",
    "\n",
    "py.iplot([trace2], filename = 'radius_parcoords_2')"
   ]
  },
  {
   "cell_type": "markdown",
   "metadata": {},
   "source": [
    "## Compare GAIA to Jackson et al (2018)"
   ]
  },
  {
   "cell_type": "code",
   "execution_count": 19,
   "metadata": {
    "scrolled": false
   },
   "outputs": [
    {
     "data": {
      "text/html": [
       "<iframe id=\"igraph\" scrolling=\"no\" style=\"border:none;\" seamless=\"seamless\" src=\"https://plot.ly/~kaimibk/162.embed\" height=\"525px\" width=\"100%\"></iframe>"
      ],
      "text/plain": [
       "<plotly.tools.PlotlyDisplay object>"
      ]
     },
     "execution_count": 19,
     "metadata": {},
     "output_type": "execute_result"
    }
   ],
   "source": [
    "trace1 = go.Scatter(\n",
    "    mode = \"markers\",\n",
    "    x = df[\"R/Ro\"],\n",
    "    y = df.radius_val,\n",
    "    \n",
    "    error_y = {\n",
    "        \"type\" : \"data\",\n",
    "        \"array\" : df.iso_rad_Err,\n",
    "        \"visible\" : True\n",
    "        }\n",
    "    )\n",
    "\n",
    "layout = go.Layout(\n",
    "            yaxis={\n",
    "                \"title\" : \"Radius from GAIA\",\n",
    "                \"mirror\" : \"ticks\",\n",
    "                \"linecolor\" : \"black\",\n",
    "                \"linewidth\" : 1,\n",
    "                \"range\" : [0.1,1.4]},\n",
    "            xaxis={\n",
    "                \"title\" : \"Radius from Jackson et al. (2018)\",\n",
    "                \"mirror\" : \"ticks\",\n",
    "                \"linecolor\" : \"black\",\n",
    "                \"linewidth\" : 1,\n",
    "                \"range\" : [0.1,1.4]},\n",
    "            shapes = [{\n",
    "                \"type\" : \"line\",\n",
    "                \"x0\" : 0,\n",
    "                \"y0\" : 0,\n",
    "                \"x1\" : 1.5,\n",
    "                \"y1\" : 1.5,\n",
    "                \"line\" : {\n",
    "                    \"color\" : \"orange\",\n",
    "                    \"width\" : 3,\n",
    "                },\n",
    "                \"opacity\" : 0.5\n",
    "        \n",
    "            }],\n",
    "    )\n",
    "\n",
    "figure = go.Figure(data=[trace1], layout=layout)\n",
    "\n",
    "py.iplot(figure, filename=\"radius_scatter_3\")"
   ]
  },
  {
   "cell_type": "markdown",
   "metadata": {},
   "source": [
    "### Compare all three to eachother"
   ]
  },
  {
   "cell_type": "code",
   "execution_count": 20,
   "metadata": {},
   "outputs": [
    {
     "data": {
      "text/html": [
       "<iframe id=\"igraph\" scrolling=\"no\" style=\"border:none;\" seamless=\"seamless\" src=\"https://plot.ly/~kaimibk/161.embed\" height=\"525px\" width=\"100%\"></iframe>"
      ],
      "text/plain": [
       "<plotly.tools.PlotlyDisplay object>"
      ]
     },
     "execution_count": 20,
     "metadata": {},
     "output_type": "execute_result"
    }
   ],
   "source": [
    "trace_all = go.Parcoords(\n",
    "            line = {'color' : 'blue'},\n",
    "            dimensions = list([\n",
    "            dict(range = [0,1.4],\n",
    "                     label = 'GAIA D2', values = df.radius_val),\n",
    "                \n",
    "            dict(range = [0,1.4],\n",
    "                     label = 'Jackson et al. (2018)', values = df[\"R/Ro\"]),\n",
    "                \n",
    "                dict(range = [0,1.4],\n",
    "                     label = 'Isoclassify', values = df.iso_rad)\n",
    "        ])\n",
    "    )\n",
    "\n",
    "figure = go.Figure(data=[trace_all])\n",
    "\n",
    "py.iplot(figure, filename = 'radius_parcoords_3')"
   ]
  },
  {
   "cell_type": "code",
   "execution_count": null,
   "metadata": {},
   "outputs": [],
   "source": []
  }
 ],
 "metadata": {
  "kernelspec": {
   "display_name": "Python 3",
   "language": "python",
   "name": "python3"
  },
  "language_info": {
   "codemirror_mode": {
    "name": "ipython",
    "version": 3
   },
   "file_extension": ".py",
   "mimetype": "text/x-python",
   "name": "python",
   "nbconvert_exporter": "python",
   "pygments_lexer": "ipython3",
   "version": "3.6.5"
  },
  "toc": {
   "base_numbering": 1,
   "nav_menu": {},
   "number_sections": true,
   "sideBar": true,
   "skip_h1_title": false,
   "title_cell": "Table of Contents",
   "title_sidebar": "Contents",
   "toc_cell": true,
   "toc_position": {},
   "toc_section_display": true,
   "toc_window_display": true
  },
  "varInspector": {
   "cols": {
    "lenName": 16,
    "lenType": 16,
    "lenVar": 40
   },
   "kernels_config": {
    "python": {
     "delete_cmd_postfix": "",
     "delete_cmd_prefix": "del ",
     "library": "var_list.py",
     "varRefreshCmd": "print(var_dic_list())"
    },
    "r": {
     "delete_cmd_postfix": ") ",
     "delete_cmd_prefix": "rm(",
     "library": "var_list.r",
     "varRefreshCmd": "cat(var_dic_list()) "
    }
   },
   "types_to_exclude": [
    "module",
    "function",
    "builtin_function_or_method",
    "instance",
    "_Feature"
   ],
   "window_display": false
  }
 },
 "nbformat": 4,
 "nbformat_minor": 2
}
