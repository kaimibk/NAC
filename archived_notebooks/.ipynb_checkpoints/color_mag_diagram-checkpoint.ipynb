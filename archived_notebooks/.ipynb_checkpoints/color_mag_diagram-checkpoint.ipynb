{
 "cells": [
  {
   "cell_type": "markdown",
   "metadata": {
    "toc": true
   },
   "source": [
    "<h1>Table of Contents<span class=\"tocSkip\"></span></h1>\n",
    "<div class=\"toc\"><ul class=\"toc-item\"><li><span><a href=\"#Using-2MASS-j,-h,-k\" data-toc-modified-id=\"Using-2MASS-j,-h,-k-1\"><span class=\"toc-item-num\">1&nbsp;&nbsp;</span>Using 2MASS <em>j</em>, <em>h</em>, <em>k</em></a></span></li><li><span><a href=\"#Using-GAIA-Colors\" data-toc-modified-id=\"Using-GAIA-Colors-2\"><span class=\"toc-item-num\">2&nbsp;&nbsp;</span>Using GAIA Colors</a></span></li></ul></div>"
   ]
  },
  {
   "cell_type": "code",
   "execution_count": 10,
   "metadata": {},
   "outputs": [],
   "source": [
    "import plotly.plotly as py\n",
    "import plotly.graph_objs as go\n",
    "from plotly import tools\n",
    "import pandas as pd\n",
    "from uncertainties import unumpy"
   ]
  },
  {
   "cell_type": "code",
   "execution_count": 4,
   "metadata": {},
   "outputs": [],
   "source": [
    "main_dir = \"/u/kaimibk/Documents/Research/NAC/\"\n",
    "out_dir = main_dir+\"output/\""
   ]
  },
  {
   "cell_type": "code",
   "execution_count": 8,
   "metadata": {},
   "outputs": [
    {
     "data": {
      "text/html": [
       "<div>\n",
       "<style scoped>\n",
       "    .dataframe tbody tr th:only-of-type {\n",
       "        vertical-align: middle;\n",
       "    }\n",
       "\n",
       "    .dataframe tbody tr th {\n",
       "        vertical-align: top;\n",
       "    }\n",
       "\n",
       "    .dataframe thead th {\n",
       "        text-align: right;\n",
       "    }\n",
       "</style>\n",
       "<table border=\"1\" class=\"dataframe\">\n",
       "  <thead>\n",
       "    <tr style=\"text-align: right;\">\n",
       "      <th></th>\n",
       "      <th>Name</th>\n",
       "      <th>RA</th>\n",
       "      <th>Dec</th>\n",
       "      <th>K2MASS</th>\n",
       "      <th>(V-K)o</th>\n",
       "      <th>Period</th>\n",
       "      <th>Ref</th>\n",
       "      <th>BCK</th>\n",
       "      <th>logL/Lo</th>\n",
       "      <th>M/Mo</th>\n",
       "      <th>...</th>\n",
       "      <th>sinI_s</th>\n",
       "      <th>sinI_s_sigma</th>\n",
       "      <th>V</th>\n",
       "      <th>V_sigma</th>\n",
       "      <th>j_m</th>\n",
       "      <th>j_msigcom</th>\n",
       "      <th>h_m</th>\n",
       "      <th>h_msigcom</th>\n",
       "      <th>k_m</th>\n",
       "      <th>k_msigcom</th>\n",
       "    </tr>\n",
       "  </thead>\n",
       "  <tbody>\n",
       "    <tr>\n",
       "      <th>0</th>\n",
       "      <td>J03394633+2358531</td>\n",
       "      <td>54.943067</td>\n",
       "      <td>23.981442</td>\n",
       "      <td>11.83</td>\n",
       "      <td>4.89</td>\n",
       "      <td>1.138</td>\n",
       "      <td>1</td>\n",
       "      <td>2.73</td>\n",
       "      <td>-1.66</td>\n",
       "      <td>0.41</td>\n",
       "      <td>...</td>\n",
       "      <td>NaN</td>\n",
       "      <td>NaN</td>\n",
       "      <td>NaN</td>\n",
       "      <td>NaN</td>\n",
       "      <td>12.643</td>\n",
       "      <td>0.026</td>\n",
       "      <td>12.004</td>\n",
       "      <td>0.030</td>\n",
       "      <td>11.830</td>\n",
       "      <td>0.022</td>\n",
       "    </tr>\n",
       "    <tr>\n",
       "      <th>1</th>\n",
       "      <td>J03414664+2301198</td>\n",
       "      <td>55.444367</td>\n",
       "      <td>23.022186</td>\n",
       "      <td>13.16</td>\n",
       "      <td>5.63</td>\n",
       "      <td>0.294</td>\n",
       "      <td>1</td>\n",
       "      <td>2.81</td>\n",
       "      <td>-2.23</td>\n",
       "      <td>0.19</td>\n",
       "      <td>...</td>\n",
       "      <td>NaN</td>\n",
       "      <td>NaN</td>\n",
       "      <td>NaN</td>\n",
       "      <td>NaN</td>\n",
       "      <td>14.081</td>\n",
       "      <td>0.024</td>\n",
       "      <td>13.485</td>\n",
       "      <td>0.031</td>\n",
       "      <td>13.162</td>\n",
       "      <td>0.028</td>\n",
       "    </tr>\n",
       "    <tr>\n",
       "      <th>2</th>\n",
       "      <td>J03414895+2303235</td>\n",
       "      <td>55.453963</td>\n",
       "      <td>23.056539</td>\n",
       "      <td>13.19</td>\n",
       "      <td>6.09</td>\n",
       "      <td>0.239</td>\n",
       "      <td>1</td>\n",
       "      <td>2.86</td>\n",
       "      <td>-2.26</td>\n",
       "      <td>0.19</td>\n",
       "      <td>...</td>\n",
       "      <td>NaN</td>\n",
       "      <td>NaN</td>\n",
       "      <td>NaN</td>\n",
       "      <td>NaN</td>\n",
       "      <td>14.145</td>\n",
       "      <td>0.026</td>\n",
       "      <td>13.491</td>\n",
       "      <td>0.034</td>\n",
       "      <td>13.194</td>\n",
       "      <td>0.033</td>\n",
       "    </tr>\n",
       "    <tr>\n",
       "      <th>3</th>\n",
       "      <td>J03415671+2358434</td>\n",
       "      <td>55.486317</td>\n",
       "      <td>23.978728</td>\n",
       "      <td>13.25</td>\n",
       "      <td>5.76</td>\n",
       "      <td>0.401</td>\n",
       "      <td>1</td>\n",
       "      <td>2.82</td>\n",
       "      <td>-2.27</td>\n",
       "      <td>0.18</td>\n",
       "      <td>...</td>\n",
       "      <td>NaN</td>\n",
       "      <td>NaN</td>\n",
       "      <td>NaN</td>\n",
       "      <td>NaN</td>\n",
       "      <td>14.244</td>\n",
       "      <td>0.028</td>\n",
       "      <td>13.568</td>\n",
       "      <td>0.035</td>\n",
       "      <td>13.250</td>\n",
       "      <td>0.029</td>\n",
       "    </tr>\n",
       "  </tbody>\n",
       "</table>\n",
       "<p>4 rows × 47 columns</p>\n",
       "</div>"
      ],
      "text/plain": [
       "                Name         RA        Dec  K2MASS  (V-K)o  Period  Ref   BCK  \\\n",
       "0  J03394633+2358531  54.943067  23.981442   11.83    4.89   1.138    1  2.73   \n",
       "1  J03414664+2301198  55.444367  23.022186   13.16    5.63   0.294    1  2.81   \n",
       "2  J03414895+2303235  55.453963  23.056539   13.19    6.09   0.239    1  2.86   \n",
       "3  J03415671+2358434  55.486317  23.978728   13.25    5.76   0.401    1  2.82   \n",
       "\n",
       "   logL/Lo  M/Mo    ...      sinI_s  sinI_s_sigma   V  V_sigma     j_m  \\\n",
       "0    -1.66  0.41    ...         NaN           NaN NaN      NaN  12.643   \n",
       "1    -2.23  0.19    ...         NaN           NaN NaN      NaN  14.081   \n",
       "2    -2.26  0.19    ...         NaN           NaN NaN      NaN  14.145   \n",
       "3    -2.27  0.18    ...         NaN           NaN NaN      NaN  14.244   \n",
       "\n",
       "   j_msigcom     h_m  h_msigcom     k_m  k_msigcom  \n",
       "0      0.026  12.004      0.030  11.830      0.022  \n",
       "1      0.024  13.485      0.031  13.162      0.028  \n",
       "2      0.026  13.491      0.034  13.194      0.033  \n",
       "3      0.028  13.568      0.035  13.250      0.029  \n",
       "\n",
       "[4 rows x 47 columns]"
      ]
     },
     "execution_count": 8,
     "metadata": {},
     "output_type": "execute_result"
    }
   ],
   "source": [
    "df = pd.read_csv(main_dir+\"Pleiades_G_2M_I.csv\", index_col=0)\n",
    "df.head(4)"
   ]
  },
  {
   "cell_type": "markdown",
   "metadata": {},
   "source": [
    "## Using 2MASS *j*, *h*, *k*"
   ]
  },
  {
   "cell_type": "code",
   "execution_count": 29,
   "metadata": {},
   "outputs": [],
   "source": [
    "j = unumpy.uarray(df.j_m.values, df.j_msigcom.values)\n",
    "h = unumpy.uarray(df.h_m.values, df.h_msigcom.values)\n",
    "k = unumpy.uarray(df.k_m.values, df.k_msigcom.values)"
   ]
  },
  {
   "cell_type": "code",
   "execution_count": 48,
   "metadata": {},
   "outputs": [
    {
     "data": {
      "text/html": [
       "<iframe id=\"igraph\" scrolling=\"no\" style=\"border:none;\" seamless=\"seamless\" src=\"https://plot.ly/~kaimibk/172.embed\" height=\"525px\" width=\"100%\"></iframe>"
      ],
      "text/plain": [
       "<plotly.tools.PlotlyDisplay object>"
      ]
     },
     "execution_count": 48,
     "metadata": {},
     "output_type": "execute_result"
    }
   ],
   "source": [
    "trace1 = go.Scatter(\n",
    "    mode = \"markers\",\n",
    "    text = df.Name,\n",
    "    hoverinfo = \"text+x+y\",\n",
    "    \n",
    "    x = unumpy.nominal_values(j-k),\n",
    "    y = unumpy.nominal_values(k),\n",
    "    \n",
    "    error_x = {\n",
    "        \"type\" : \"data\",\n",
    "        \"array\" : unumpy.std_devs(j-k),\n",
    "        \"visible\" : True,\n",
    "        \"color\" : 'black'\n",
    "        },\n",
    "    error_y = {\n",
    "        \"type\" : \"data\",\n",
    "        \"array\" : unumpy.std_devs(k),\n",
    "        \"visible\" : True,\n",
    "        \"color\" : 'black'\n",
    "        },\n",
    "    marker = {\n",
    "        \"color\" : 'rgba(17, 157, 255, 0.3)',\n",
    "        \"size\" : 10,\n",
    "        \"line\" : {\n",
    "            \"color\" : 'rgb(0, 0, 0)',\n",
    "            \"width\" : 1\n",
    "            }\n",
    "        }\n",
    "    )\n",
    "\n",
    "layout = go.Layout(\n",
    "            xaxis={\n",
    "                \"title\" : \"j - k\",\n",
    "                \"mirror\" : \"ticks\",\n",
    "                \"linecolor\" : \"black\",\n",
    "                \"linewidth\" : 1,\n",
    "            },\n",
    "            yaxis={\n",
    "                \"title\" : \"k\",\n",
    "                \"mirror\" : \"ticks\",\n",
    "                \"linecolor\" : \"black\",\n",
    "                \"linewidth\" : 1,\n",
    "                \"autorange\" : 'reversed',\n",
    "            }\n",
    "        )\n",
    "\n",
    "figure = go.Figure(data=[trace1], layout=layout)\n",
    "\n",
    "py.iplot(figure, filename=\"cmd_2mass_jk\")"
   ]
  },
  {
   "cell_type": "markdown",
   "metadata": {},
   "source": [
    "## Using GAIA Colors"
   ]
  },
  {
   "cell_type": "code",
   "execution_count": null,
   "metadata": {},
   "outputs": [],
   "source": []
  }
 ],
 "metadata": {
  "kernelspec": {
   "display_name": "Python 3",
   "language": "python",
   "name": "python3"
  },
  "language_info": {
   "codemirror_mode": {
    "name": "ipython",
    "version": 3
   },
   "file_extension": ".py",
   "mimetype": "text/x-python",
   "name": "python",
   "nbconvert_exporter": "python",
   "pygments_lexer": "ipython3",
   "version": "3.6.5"
  },
  "toc": {
   "base_numbering": 1,
   "nav_menu": {},
   "number_sections": true,
   "sideBar": true,
   "skip_h1_title": false,
   "title_cell": "Table of Contents",
   "title_sidebar": "Contents",
   "toc_cell": true,
   "toc_position": {
    "height": "calc(100% - 180px)",
    "left": "10px",
    "top": "150px",
    "width": "249px"
   },
   "toc_section_display": true,
   "toc_window_display": true
  },
  "varInspector": {
   "cols": {
    "lenName": 16,
    "lenType": 16,
    "lenVar": 40
   },
   "kernels_config": {
    "python": {
     "delete_cmd_postfix": "",
     "delete_cmd_prefix": "del ",
     "library": "var_list.py",
     "varRefreshCmd": "print(var_dic_list())"
    },
    "r": {
     "delete_cmd_postfix": ") ",
     "delete_cmd_prefix": "rm(",
     "library": "var_list.r",
     "varRefreshCmd": "cat(var_dic_list()) "
    }
   },
   "types_to_exclude": [
    "module",
    "function",
    "builtin_function_or_method",
    "instance",
    "_Feature"
   ],
   "window_display": false
  }
 },
 "nbformat": 4,
 "nbformat_minor": 2
}
