{
 "cells": [
  {
   "cell_type": "markdown",
   "metadata": {
    "toc": true
   },
   "source": [
    "<h1>Table of Contents<span class=\"tocSkip\"></span></h1>\n",
    "<div class=\"toc\"><ul class=\"toc-item\"><li><span><a href=\"#Reading-Merged-Data\" data-toc-modified-id=\"Reading-Merged-Data-1\"><span class=\"toc-item-num\">1&nbsp;&nbsp;</span>Reading Merged Data</a></span></li><li><span><a href=\"#Stellar-Inclination-Point-Estimates\" data-toc-modified-id=\"Stellar-Inclination-Point-Estimates-2\"><span class=\"toc-item-num\">2&nbsp;&nbsp;</span>Stellar Inclination Point Estimates</a></span></li><li><span><a href=\"#Viewing\" data-toc-modified-id=\"Viewing-3\"><span class=\"toc-item-num\">3&nbsp;&nbsp;</span>Viewing</a></span><ul class=\"toc-item\"><li><span><a href=\"#Histogram-of-Parallax\" data-toc-modified-id=\"Histogram-of-Parallax-3.1\"><span class=\"toc-item-num\">3.1&nbsp;&nbsp;</span>Histogram of Parallax</a></span></li><li><span><a href=\"#$vsin(i)$-against-$v=2\\pi-R/P_{rot}$-with-error-bars\" data-toc-modified-id=\"$vsin(i)$-against-$v=2\\pi-R/P_{rot}$-with-error-bars-3.2\"><span class=\"toc-item-num\">3.2&nbsp;&nbsp;</span>$vsin(i)$ against $v=2\\pi R/P_{rot}$ with error bars</a></span></li><li><span><a href=\"#Historgram-of-$sin(I_s)$\" data-toc-modified-id=\"Historgram-of-$sin(I_s)$-3.3\"><span class=\"toc-item-num\">3.3&nbsp;&nbsp;</span>Historgram of $sin(I_s)$</a></span></li></ul></li><li><span><a href=\"#Table\" data-toc-modified-id=\"Table-4\"><span class=\"toc-item-num\">4&nbsp;&nbsp;</span>Table</a></span></li></ul></div>"
   ]
  },
  {
   "cell_type": "code",
   "execution_count": 1,
   "metadata": {},
   "outputs": [],
   "source": [
    "import pandas as pd\n",
    "import numpy as np\n",
    "import astropy.units as u"
   ]
  },
  {
   "cell_type": "code",
   "execution_count": 2,
   "metadata": {
    "collapsed": true
   },
   "outputs": [],
   "source": [
    "main_dir = \"/Volumes/LaCie/Research/NAC\"\n",
    "data_dir = \"{}/data/\".format(main_dir)\n",
    "out_dir = \"{}/output/\".format(main_dir)"
   ]
  },
  {
   "cell_type": "markdown",
   "metadata": {},
   "source": [
    "## Reading Merged Data"
   ]
  },
  {
   "cell_type": "code",
   "execution_count": 3,
   "metadata": {},
   "outputs": [],
   "source": [
    "df = pd.read_csv(\"{}MN_17_3616_gaia.csv\".format(out_dir),\n",
    "                index_col = 0,\n",
    "                na_values= \" ---\")"
   ]
  },
  {
   "cell_type": "code",
   "execution_count": 4,
   "metadata": {
    "scrolled": true
   },
   "outputs": [
    {
     "data": {
      "text/html": [
       "<div>\n",
       "<style scoped>\n",
       "    .dataframe tbody tr th:only-of-type {\n",
       "        vertical-align: middle;\n",
       "    }\n",
       "\n",
       "    .dataframe tbody tr th {\n",
       "        vertical-align: top;\n",
       "    }\n",
       "\n",
       "    .dataframe thead th {\n",
       "        text-align: right;\n",
       "    }\n",
       "</style>\n",
       "<table border=\"1\" class=\"dataframe\">\n",
       "  <thead>\n",
       "    <tr style=\"text-align: right;\">\n",
       "      <th></th>\n",
       "      <th>Name</th>\n",
       "      <th>RA</th>\n",
       "      <th>Dec</th>\n",
       "      <th>K2MASS</th>\n",
       "      <th>(V-K)o</th>\n",
       "      <th>Period</th>\n",
       "      <th>Ref</th>\n",
       "      <th>BCK</th>\n",
       "      <th>logL/Lo</th>\n",
       "      <th>M/Mo</th>\n",
       "      <th>...</th>\n",
       "      <th>radius_percentile_upper</th>\n",
       "      <th>lum_val</th>\n",
       "      <th>lum_percentile_lower</th>\n",
       "      <th>lum_percentile_upper</th>\n",
       "      <th>teff_val</th>\n",
       "      <th>teff_percentile_lower</th>\n",
       "      <th>teff_percentile_upper</th>\n",
       "      <th>radius_sigma</th>\n",
       "      <th>lum_sigma</th>\n",
       "      <th>teff_sigma</th>\n",
       "    </tr>\n",
       "  </thead>\n",
       "  <tbody>\n",
       "    <tr>\n",
       "      <th>0</th>\n",
       "      <td>J03394633+2358531</td>\n",
       "      <td>03 39 46.336</td>\n",
       "      <td>+23 58 53.19</td>\n",
       "      <td>11.83</td>\n",
       "      <td>4.89</td>\n",
       "      <td>1.138</td>\n",
       "      <td>1</td>\n",
       "      <td>2.73</td>\n",
       "      <td>-1.66</td>\n",
       "      <td>0.41</td>\n",
       "      <td>...</td>\n",
       "      <td>NaN</td>\n",
       "      <td>NaN</td>\n",
       "      <td>NaN</td>\n",
       "      <td>NaN</td>\n",
       "      <td>3562.0</td>\n",
       "      <td>3213.67</td>\n",
       "      <td>3929.82</td>\n",
       "      <td>NaN</td>\n",
       "      <td>NaN</td>\n",
       "      <td>358.077</td>\n",
       "    </tr>\n",
       "    <tr>\n",
       "      <th>1</th>\n",
       "      <td>J03414664+2301198</td>\n",
       "      <td>03 41 46.648</td>\n",
       "      <td>+23 01 19.87</td>\n",
       "      <td>13.16</td>\n",
       "      <td>5.63</td>\n",
       "      <td>0.294</td>\n",
       "      <td>1</td>\n",
       "      <td>2.81</td>\n",
       "      <td>-2.23</td>\n",
       "      <td>0.19</td>\n",
       "      <td>...</td>\n",
       "      <td>NaN</td>\n",
       "      <td>NaN</td>\n",
       "      <td>NaN</td>\n",
       "      <td>NaN</td>\n",
       "      <td>NaN</td>\n",
       "      <td>NaN</td>\n",
       "      <td>NaN</td>\n",
       "      <td>NaN</td>\n",
       "      <td>NaN</td>\n",
       "      <td>NaN</td>\n",
       "    </tr>\n",
       "    <tr>\n",
       "      <th>2</th>\n",
       "      <td>J03414895+2303235</td>\n",
       "      <td>03 41 48.951</td>\n",
       "      <td>+23 03 23.54</td>\n",
       "      <td>13.19</td>\n",
       "      <td>6.09</td>\n",
       "      <td>0.239</td>\n",
       "      <td>1</td>\n",
       "      <td>2.86</td>\n",
       "      <td>-2.26</td>\n",
       "      <td>0.19</td>\n",
       "      <td>...</td>\n",
       "      <td>NaN</td>\n",
       "      <td>NaN</td>\n",
       "      <td>NaN</td>\n",
       "      <td>NaN</td>\n",
       "      <td>NaN</td>\n",
       "      <td>NaN</td>\n",
       "      <td>NaN</td>\n",
       "      <td>NaN</td>\n",
       "      <td>NaN</td>\n",
       "      <td>NaN</td>\n",
       "    </tr>\n",
       "  </tbody>\n",
       "</table>\n",
       "<p>3 rows × 37 columns</p>\n",
       "</div>"
      ],
      "text/plain": [
       "                Name            RA           Dec  K2MASS  (V-K)o  Period  Ref  \\\n",
       "0  J03394633+2358531  03 39 46.336  +23 58 53.19   11.83    4.89   1.138    1   \n",
       "1  J03414664+2301198  03 41 46.648  +23 01 19.87   13.16    5.63   0.294    1   \n",
       "2  J03414895+2303235  03 41 48.951  +23 03 23.54   13.19    6.09   0.239    1   \n",
       "\n",
       "    BCK  logL/Lo  M/Mo     ...      radius_percentile_upper  lum_val  \\\n",
       "0  2.73    -1.66  0.41     ...                          NaN      NaN   \n",
       "1  2.81    -2.23  0.19     ...                          NaN      NaN   \n",
       "2  2.86    -2.26  0.19     ...                          NaN      NaN   \n",
       "\n",
       "   lum_percentile_lower  lum_percentile_upper  teff_val  \\\n",
       "0                   NaN                   NaN    3562.0   \n",
       "1                   NaN                   NaN       NaN   \n",
       "2                   NaN                   NaN       NaN   \n",
       "\n",
       "   teff_percentile_lower  teff_percentile_upper  radius_sigma  lum_sigma  \\\n",
       "0                3213.67                3929.82           NaN        NaN   \n",
       "1                    NaN                    NaN           NaN        NaN   \n",
       "2                    NaN                    NaN           NaN        NaN   \n",
       "\n",
       "   teff_sigma  \n",
       "0     358.077  \n",
       "1         NaN  \n",
       "2         NaN  \n",
       "\n",
       "[3 rows x 37 columns]"
      ]
     },
     "execution_count": 4,
     "metadata": {},
     "output_type": "execute_result"
    }
   ],
   "source": [
    "df.head(3)"
   ]
  },
  {
   "cell_type": "code",
   "execution_count": 5,
   "metadata": {},
   "outputs": [],
   "source": [
    "df.VSINI.replace(regex=True,inplace=True,to_replace=r'<',value=r'')\n",
    "df.VSINI = df.VSINI.astype(float)\n",
    "df.EVSINI.replace(regex=True,inplace=True,to_replace=r'<',value=r'')\n",
    "df.EVSINI = df.EVSINI.astype(float)"
   ]
  },
  {
   "cell_type": "code",
   "execution_count": 6,
   "metadata": {},
   "outputs": [
    {
     "data": {
      "text/plain": [
       "Index(['Name', 'RA', 'Dec', 'K2MASS', '(V-K)o', 'Period', 'Ref', 'BCK',\n",
       "       'logL/Lo', 'M/Mo', 'R/Ro', '(vsini)p', 'MK', 'logL/Lo_y', 'SNR', 'RV',\n",
       "       'SRV', 'FWHM', 'SFWHM', 'FWHMo', 'VSINI', 'EVSINI', 'Rsini', 'parallax',\n",
       "       'parallax_error', 'radius_val', 'radius_percentile_lower',\n",
       "       'radius_percentile_upper', 'lum_val', 'lum_percentile_lower',\n",
       "       'lum_percentile_upper', 'teff_val', 'teff_percentile_lower',\n",
       "       'teff_percentile_upper', 'radius_sigma', 'lum_sigma', 'teff_sigma'],\n",
       "      dtype='object')"
      ]
     },
     "execution_count": 6,
     "metadata": {},
     "output_type": "execute_result"
    }
   ],
   "source": [
    "df.columns"
   ]
  },
  {
   "cell_type": "markdown",
   "metadata": {},
   "source": [
    "## Stellar Inclination Point Estimates"
   ]
  },
  {
   "cell_type": "markdown",
   "metadata": {},
   "source": [
    "Obtain the \"point estimates\" for the stellar inclination $I_s$ for each star, $sin(I_{s})=(P_{rot}/2\\pi R_s)\\cdot vsin(i)$, using the rotation period $P_{rot}$, radius $R_s$, and $vsin(i)$ in the table. Then let's take a look at the resulting distribution of $cos(I_s)$, which should be roughly flat if the spin axes are randomly distributed. "
   ]
  },
  {
   "cell_type": "code",
   "execution_count": 7,
   "metadata": {
    "collapsed": true
   },
   "outputs": [],
   "source": [
    "from quantities import UncertainQuantity as d"
   ]
  },
  {
   "cell_type": "code",
   "execution_count": 8,
   "metadata": {},
   "outputs": [],
   "source": [
    "p = d(df.Period.values,\n",
    "     units=\"day\").rescale(\"second\")\n",
    "r = d(df.radius_val.values, \n",
    "      units = \"R_sun\",\n",
    "      uncertainty=df.radius_sigma.values).rescale(\"meter\")\n",
    "vs = d(df.VSINI.values, \n",
    "       units=\"kilometer / second\",\n",
    "       uncertainty=df.EVSINI.values).rescale(\"meter / second\")"
   ]
  },
  {
   "cell_type": "markdown",
   "metadata": {},
   "source": [
    "Calculating $$sin(I_{s})=(P_{rot}/2\\pi R_s)\\cdot vsin(i)$$"
   ]
  },
  {
   "cell_type": "code",
   "execution_count": 9,
   "metadata": {
    "scrolled": true
   },
   "outputs": [],
   "source": [
    "sinI_s = p/(2.0*np.pi*r)*vs\n",
    "df[\"sinI_s\"] = sinI_s.magnitude\n",
    "df[\"sinI_s_sigma\"] = sinI_s.uncertainty"
   ]
  },
  {
   "cell_type": "markdown",
   "metadata": {},
   "source": [
    "Calculating the star rotation velocity, $$V = 2\\pi R_* / P_{rot}$$"
   ]
  },
  {
   "cell_type": "code",
   "execution_count": 10,
   "metadata": {},
   "outputs": [],
   "source": [
    "V = (2.0 * np.pi * r / p).rescale(\"km/s\")\n",
    "df[\"V\"] = V.magnitude\n",
    "df[\"V_sigma\"] = V.uncertainty\n",
    "\n",
    "df.to_csv(out_dir+\"result_1.csv\")"
   ]
  },
  {
   "cell_type": "markdown",
   "metadata": {},
   "source": [
    "## Viewing"
   ]
  },
  {
   "cell_type": "code",
   "execution_count": 11,
   "metadata": {},
   "outputs": [],
   "source": [
    "import plotly.plotly  as py\n",
    "import plotly.graph_objs as go\n",
    "from plotly import tools"
   ]
  },
  {
   "cell_type": "markdown",
   "metadata": {},
   "source": [
    "### Histogram of Parallax"
   ]
  },
  {
   "cell_type": "code",
   "execution_count": 14,
   "metadata": {},
   "outputs": [
    {
     "data": {
      "text/html": [
       "<iframe id=\"igraph\" scrolling=\"no\" style=\"border:none;\" seamless=\"seamless\" src=\"https://plot.ly/~kaimibk/124.embed\" height=\"525px\" width=\"100%\"></iframe>"
      ],
      "text/plain": [
       "<plotly.tools.PlotlyDisplay object>"
      ]
     },
     "execution_count": 14,
     "metadata": {},
     "output_type": "execute_result"
    }
   ],
   "source": [
    "trace1 = go.Histogram(\n",
    "    x = df.parallax.values,\n",
    "    hoverinfo = \"all\"\n",
    "    )\n",
    "\n",
    "data = [trace1]\n",
    "\n",
    "layout = go.Layout(\n",
    "            plot_bgcolor='#EEEEEE',\n",
    "            xaxis={\n",
    "                \"title\" : \"Parallax\",\n",
    "                \"mirror\" : \"ticks\",\n",
    "                \"linecolor\" : \"black\",\n",
    "                \"linewidth\" : 1},\n",
    "            yaxis={\n",
    "                \"mirror\" : \"ticks\",\n",
    "                \"linecolor\" : \"black\",\n",
    "                \"linewidth\" : 1})\n",
    "\n",
    "figure = go.Figure(data=data, layout=layout)\n",
    "\n",
    "py.iplot(figure, filename=\"parallax_hist\")"
   ]
  },
  {
   "cell_type": "markdown",
   "metadata": {},
   "source": [
    "###  $vsin(i)$ against $v=2\\pi R/P_{rot}$ with error bars"
   ]
  },
  {
   "cell_type": "code",
   "execution_count": 16,
   "metadata": {},
   "outputs": [
    {
     "data": {
      "text/html": [
       "<iframe id=\"igraph\" scrolling=\"no\" style=\"border:none;\" seamless=\"seamless\" src=\"https://plot.ly/~kaimibk/126.embed\" height=\"400px\" width=\"800px\"></iframe>"
      ],
      "text/plain": [
       "<plotly.tools.PlotlyDisplay object>"
      ]
     },
     "execution_count": 16,
     "metadata": {},
     "output_type": "execute_result"
    }
   ],
   "source": [
    "trace1 = go.Scatter(\n",
    "    y = df.VSINI.values,\n",
    "    x = V.magnitude,\n",
    "    error_y = {\n",
    "        \"type\" : \"data\",\n",
    "        \"array\" : df.EVSINI.values,\n",
    "        \"visible\" : True\n",
    "        },\n",
    "    \n",
    "    error_x = {\n",
    "        \"type\" : \"data\",\n",
    "        \"array\" : V.uncertainty.magnitude,\n",
    "        \"visible\" : True\n",
    "      },\n",
    "    text = df.Name,\n",
    "    mode = \"markers\",\n",
    "    hoverinfo = \"text\"\n",
    "    )\n",
    "\n",
    "data = [trace1]\n",
    "\n",
    "layout = go.Layout(\n",
    "            plot_bgcolor='#EEEEEE',\n",
    "            yaxis={\n",
    "                \"title\" : \"$v\\cdot sin(I_s) \\, [kms^{-1}]$\",\n",
    "                \"mirror\" : \"ticks\",\n",
    "                \"linecolor\" : \"black\",\n",
    "                \"linewidth\" : 1,\n",
    "                \"range\" : [0,130]},\n",
    "            xaxis={\n",
    "                \"title\" : \"$V \\, [kms^{-1}]$\",\n",
    "                \"mirror\" : \"ticks\",\n",
    "                \"linecolor\" : \"black\",\n",
    "                \"linewidth\" : 1,\n",
    "                \"range\" : [0,130]},\n",
    "            shapes = [{\n",
    "                \"type\" : \"line\",\n",
    "                \"x0\" : 0,\n",
    "                \"y0\" : 0,\n",
    "                \"x1\" : 140,\n",
    "                \"y1\" : 140,\n",
    "                \"line\" : {\n",
    "                    \"color\" : \"orange\",\n",
    "                    \"width\" : 3,\n",
    "                }\n",
    "        \n",
    "            }],\n",
    "    )\n",
    "\n",
    "figure = go.Figure(data=data, layout=layout)\n",
    "\n",
    "py.iplot(figure, filename=\"vsinis_v\")"
   ]
  },
  {
   "cell_type": "markdown",
   "metadata": {},
   "source": [
    "### Historgram of $sin(I_s)$"
   ]
  },
  {
   "cell_type": "code",
   "execution_count": 17,
   "metadata": {},
   "outputs": [
    {
     "data": {
      "text/html": [
       "<iframe id=\"igraph\" scrolling=\"no\" style=\"border:none;\" seamless=\"seamless\" src=\"https://plot.ly/~kaimibk/120.embed\" height=\"525px\" width=\"100%\"></iframe>"
      ],
      "text/plain": [
       "<plotly.tools.PlotlyDisplay object>"
      ]
     },
     "execution_count": 17,
     "metadata": {},
     "output_type": "execute_result"
    }
   ],
   "source": [
    "trace1 = go.Histogram(\n",
    "    x = df.sinI_s,\n",
    "    name = \"$sin(I_s)$\",\n",
    "    hoverinfo = \"all\"\n",
    "    )\n",
    "\n",
    "data = [trace1]\n",
    "\n",
    "layout = go.Layout(\n",
    "            plot_bgcolor='#EEEEEE',\n",
    "            xaxis={\n",
    "                \"title\" : \"$sin(I_s)$\",\n",
    "                \"mirror\" : \"ticks\",\n",
    "                \"linecolor\" : \"black\",\n",
    "                \"linewidth\" : 1},\n",
    "            yaxis={\n",
    "                \"mirror\" : \"ticks\",\n",
    "                \"linecolor\" : \"black\",\n",
    "                \"linewidth\" : 1})\n",
    "\n",
    "figure = go.Figure(data=data, layout=layout)\n",
    "\n",
    "py.iplot(figure, filename=\"sinis_hist\")"
   ]
  },
  {
   "cell_type": "markdown",
   "metadata": {
    "collapsed": true
   },
   "source": [
    "## Table"
   ]
  },
  {
   "cell_type": "code",
   "execution_count": 19,
   "metadata": {},
   "outputs": [],
   "source": [
    "feat = [\"Name\", \"RA\", \"Dec\", \"Period\", \"radius_val\", \n",
    "        \"radius_sigma\", \"lum_val\", \"lum_sigma\", \n",
    "        \"teff_val\", \"teff_sigma\", \"sinI_s\", \n",
    "        \"sinI_s_sigma\", \"V\", \"V_sigma\"]\n",
    "\n",
    "trace = go.Table(\n",
    "    columnwidth = [300],\n",
    "\n",
    "    header = {\n",
    "        \"values\" : list(feat),\n",
    "        \"fill\" : {\"color\" : \"#FED631\"},\n",
    "        \"align\" : ['center'] * len(feat),\n",
    "        \"font\" : {\"size\" : 6}\n",
    "    },\n",
    "\n",
    "    cells = {\n",
    "        \"values\" : [round(df[i],3) if i not in [\"Name\", \"RA\", \"Dec\"] \n",
    "                    else df[i] for i in feat],\n",
    "\n",
    "        \"fill\" : dict(color='#FAFAFA'),\n",
    "        \"align\" : ['center'] * len(feat),\n",
    "        \"font\" : {\"size\" : 6}\n",
    "    }\n",
    "\n",
    "    )\n",
    "\n",
    "data = [trace] \n",
    "py.iplot(data, filename = 'table')"
   ]
  }
 ],
 "metadata": {
  "anaconda-cloud": {},
  "kernelspec": {
   "display_name": "Python [conda env:UHenv]",
   "language": "python",
   "name": "conda-env-UHenv-py"
  },
  "language_info": {
   "codemirror_mode": {
    "name": "ipython",
    "version": 3
   },
   "file_extension": ".py",
   "mimetype": "text/x-python",
   "name": "python",
   "nbconvert_exporter": "python",
   "pygments_lexer": "ipython3",
   "version": "3.6.1"
  },
  "latex_envs": {
   "LaTeX_envs_menu_present": true,
   "autoclose": true,
   "autocomplete": true,
   "bibliofile": "biblio.bib",
   "cite_by": "apalike",
   "current_citInitial": 1,
   "eqLabelWithNumbers": true,
   "eqNumInitial": 1,
   "hotkeys": {
    "equation": "Ctrl-E",
    "itemize": "Ctrl-I"
   },
   "labels_anchors": false,
   "latex_user_defs": false,
   "report_style_numbering": false,
   "user_envs_cfg": false
  },
  "toc": {
   "base_numbering": 1,
   "nav_menu": {},
   "number_sections": true,
   "sideBar": true,
   "skip_h1_title": true,
   "title_cell": "Table of Contents",
   "title_sidebar": "Contents",
   "toc_cell": true,
   "toc_position": {},
   "toc_section_display": true,
   "toc_window_display": true
  }
 },
 "nbformat": 4,
 "nbformat_minor": 2
}
