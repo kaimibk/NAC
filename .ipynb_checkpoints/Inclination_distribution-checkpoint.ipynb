{
 "cells": [
  {
   "cell_type": "markdown",
   "metadata": {
    "toc": true
   },
   "source": [
    "<h1>Table of Contents<span class=\"tocSkip\"></span></h1>\n",
    "<div class=\"toc\"><ul class=\"toc-item\"><li><span><a href=\"#Histogram-of-Modes-of-Individual-$p(\\cos(I_*))$\" data-toc-modified-id=\"Histogram-of-Modes-of-Individual-$p(\\cos(I_*))$-1\"><span class=\"toc-item-num\">1&nbsp;&nbsp;</span>Histogram of Modes of Individual $p(\\cos(I_*))$</a></span></li><li><span><a href=\"#Average-of-Individual,-normalized-$p(\\cos(I_*))$\" data-toc-modified-id=\"Average-of-Individual,-normalized-$p(\\cos(I_*))$-2\"><span class=\"toc-item-num\">2&nbsp;&nbsp;</span>Average of Individual, normalized $p(\\cos(I_*))$</a></span></li></ul></div>"
   ]
  },
  {
   "cell_type": "code",
   "execution_count": 36,
   "metadata": {
    "collapsed": true,
    "deletable": true,
    "editable": true
   },
   "outputs": [],
   "source": [
    "import numpy as np\n",
    "import pandas as pd\n",
    "import plotly.plotly  as py\n",
    "import plotly.graph_objs as go"
   ]
  },
  {
   "cell_type": "code",
   "execution_count": 30,
   "metadata": {
    "collapsed": true
   },
   "outputs": [],
   "source": [
    "main_dir = \"/Volumes/LaCie/Research/NAC/\"\n",
    "data_dir = main_dir+\"data/\"\n",
    "out_dir = main_dir+\"output/\""
   ]
  },
  {
   "cell_type": "code",
   "execution_count": 31,
   "metadata": {
    "collapsed": false
   },
   "outputs": [],
   "source": [
    "df = pd.read_csv(out_dir+\"cosi.csv\",\n",
    "                index_col=0)\n",
    "\n",
    "## Fixing floating point errors in header names\n",
    "df.columns = [i for i in np.arange(0, 1, 0.002)]+[\"Name\"]\n",
    "\n",
    "## Moving Name column to front of dataframe, for convinence\n",
    "df = df[[\"Name\"]+[i for i in np.arange(0, 1, 0.002)]]"
   ]
  },
  {
   "cell_type": "code",
   "execution_count": 32,
   "metadata": {
    "collapsed": false
   },
   "outputs": [
    {
     "data": {
      "text/html": [
       "<div>\n",
       "<style scoped>\n",
       "    .dataframe tbody tr th:only-of-type {\n",
       "        vertical-align: middle;\n",
       "    }\n",
       "\n",
       "    .dataframe tbody tr th {\n",
       "        vertical-align: top;\n",
       "    }\n",
       "\n",
       "    .dataframe thead th {\n",
       "        text-align: right;\n",
       "    }\n",
       "</style>\n",
       "<table border=\"1\" class=\"dataframe\">\n",
       "  <thead>\n",
       "    <tr style=\"text-align: right;\">\n",
       "      <th></th>\n",
       "      <th>Name</th>\n",
       "      <th>0.0</th>\n",
       "      <th>0.002</th>\n",
       "      <th>0.004</th>\n",
       "      <th>0.006</th>\n",
       "      <th>0.008</th>\n",
       "      <th>0.01</th>\n",
       "      <th>0.012</th>\n",
       "      <th>0.014</th>\n",
       "      <th>0.016</th>\n",
       "      <th>...</th>\n",
       "      <th>0.98</th>\n",
       "      <th>0.982</th>\n",
       "      <th>0.984</th>\n",
       "      <th>0.986</th>\n",
       "      <th>0.988</th>\n",
       "      <th>0.99</th>\n",
       "      <th>0.992</th>\n",
       "      <th>0.994</th>\n",
       "      <th>0.996</th>\n",
       "      <th>0.998</th>\n",
       "    </tr>\n",
       "  </thead>\n",
       "  <tbody>\n",
       "    <tr>\n",
       "      <th>0</th>\n",
       "      <td>J03422628+2253408</td>\n",
       "      <td>0.103599</td>\n",
       "      <td>0.103601</td>\n",
       "      <td>0.103608</td>\n",
       "      <td>0.103618</td>\n",
       "      <td>0.103633</td>\n",
       "      <td>0.103653</td>\n",
       "      <td>0.103676</td>\n",
       "      <td>0.103704</td>\n",
       "      <td>0.103736</td>\n",
       "      <td>...</td>\n",
       "      <td>1.645389e-23</td>\n",
       "      <td>5.888804e-27</td>\n",
       "      <td>3.395080e-31</td>\n",
       "      <td>1.626905e-36</td>\n",
       "      <td>2.405394e-43</td>\n",
       "      <td>2.255007e-52</td>\n",
       "      <td>8.763925e-65</td>\n",
       "      <td>6.828806e-83</td>\n",
       "      <td>4.431302e-111</td>\n",
       "      <td>2.548504e-159</td>\n",
       "    </tr>\n",
       "    <tr>\n",
       "      <th>1</th>\n",
       "      <td>J03422941+2247261</td>\n",
       "      <td>0.037283</td>\n",
       "      <td>0.037284</td>\n",
       "      <td>0.037286</td>\n",
       "      <td>0.037290</td>\n",
       "      <td>0.037295</td>\n",
       "      <td>0.037301</td>\n",
       "      <td>0.037309</td>\n",
       "      <td>0.037319</td>\n",
       "      <td>0.037329</td>\n",
       "      <td>...</td>\n",
       "      <td>1.859229e-12</td>\n",
       "      <td>1.049386e-14</td>\n",
       "      <td>1.508729e-17</td>\n",
       "      <td>2.789335e-21</td>\n",
       "      <td>6.922431e-27</td>\n",
       "      <td>6.616869e-36</td>\n",
       "      <td>7.005121e-50</td>\n",
       "      <td>5.403722e-71</td>\n",
       "      <td>2.317606e-103</td>\n",
       "      <td>1.572345e-157</td>\n",
       "    </tr>\n",
       "    <tr>\n",
       "      <th>2</th>\n",
       "      <td>J03430418+2248035</td>\n",
       "      <td>2.428808</td>\n",
       "      <td>2.428771</td>\n",
       "      <td>2.428658</td>\n",
       "      <td>2.428470</td>\n",
       "      <td>2.428206</td>\n",
       "      <td>2.427867</td>\n",
       "      <td>2.427453</td>\n",
       "      <td>2.426964</td>\n",
       "      <td>2.426400</td>\n",
       "      <td>...</td>\n",
       "      <td>8.479414e-08</td>\n",
       "      <td>7.591506e-08</td>\n",
       "      <td>6.749401e-08</td>\n",
       "      <td>5.951035e-08</td>\n",
       "      <td>5.194051e-08</td>\n",
       "      <td>4.475589e-08</td>\n",
       "      <td>3.791846e-08</td>\n",
       "      <td>3.137061e-08</td>\n",
       "      <td>2.500633e-08</td>\n",
       "      <td>1.855333e-08</td>\n",
       "    </tr>\n",
       "    <tr>\n",
       "      <th>3</th>\n",
       "      <td>J03433659+2327142</td>\n",
       "      <td>2.704659</td>\n",
       "      <td>2.704609</td>\n",
       "      <td>2.704460</td>\n",
       "      <td>2.704211</td>\n",
       "      <td>2.703862</td>\n",
       "      <td>2.703414</td>\n",
       "      <td>2.702867</td>\n",
       "      <td>2.702220</td>\n",
       "      <td>2.701473</td>\n",
       "      <td>...</td>\n",
       "      <td>1.830010e-07</td>\n",
       "      <td>1.378891e-07</td>\n",
       "      <td>1.020070e-07</td>\n",
       "      <td>7.382422e-08</td>\n",
       "      <td>5.201158e-08</td>\n",
       "      <td>3.542093e-08</td>\n",
       "      <td>2.306558e-08</td>\n",
       "      <td>1.410213e-08</td>\n",
       "      <td>7.812296e-09</td>\n",
       "      <td>3.577948e-09</td>\n",
       "    </tr>\n",
       "  </tbody>\n",
       "</table>\n",
       "<p>4 rows × 501 columns</p>\n",
       "</div>"
      ],
      "text/plain": [
       "                Name       0.0     0.002     0.004     0.006     0.008  \\\n",
       "0  J03422628+2253408  0.103599  0.103601  0.103608  0.103618  0.103633   \n",
       "1  J03422941+2247261  0.037283  0.037284  0.037286  0.037290  0.037295   \n",
       "2  J03430418+2248035  2.428808  2.428771  2.428658  2.428470  2.428206   \n",
       "3  J03433659+2327142  2.704659  2.704609  2.704460  2.704211  2.703862   \n",
       "\n",
       "       0.01     0.012     0.014     0.016      ...                0.98  \\\n",
       "0  0.103653  0.103676  0.103704  0.103736      ...        1.645389e-23   \n",
       "1  0.037301  0.037309  0.037319  0.037329      ...        1.859229e-12   \n",
       "2  2.427867  2.427453  2.426964  2.426400      ...        8.479414e-08   \n",
       "3  2.703414  2.702867  2.702220  2.701473      ...        1.830010e-07   \n",
       "\n",
       "          0.982         0.984         0.986         0.988          0.99  \\\n",
       "0  5.888804e-27  3.395080e-31  1.626905e-36  2.405394e-43  2.255007e-52   \n",
       "1  1.049386e-14  1.508729e-17  2.789335e-21  6.922431e-27  6.616869e-36   \n",
       "2  7.591506e-08  6.749401e-08  5.951035e-08  5.194051e-08  4.475589e-08   \n",
       "3  1.378891e-07  1.020070e-07  7.382422e-08  5.201158e-08  3.542093e-08   \n",
       "\n",
       "          0.992         0.994          0.996          0.998  \n",
       "0  8.763925e-65  6.828806e-83  4.431302e-111  2.548504e-159  \n",
       "1  7.005121e-50  5.403722e-71  2.317606e-103  1.572345e-157  \n",
       "2  3.791846e-08  3.137061e-08   2.500633e-08   1.855333e-08  \n",
       "3  2.306558e-08  1.410213e-08   7.812296e-09   3.577948e-09  \n",
       "\n",
       "[4 rows x 501 columns]"
      ]
     },
     "execution_count": 32,
     "metadata": {},
     "output_type": "execute_result"
    }
   ],
   "source": [
    "df.head(4)"
   ]
  },
  {
   "cell_type": "markdown",
   "metadata": {},
   "source": [
    "## Histogram of Modes of Individual $p(\\cos(I_*))$"
   ]
  },
  {
   "cell_type": "code",
   "execution_count": 56,
   "metadata": {
    "collapsed": false
   },
   "outputs": [],
   "source": [
    "df[\"mode\"] = df[[i for i in np.arange(0, 1, 0.002)]].idxmax(axis=1)#, numeric_only=True)"
   ]
  },
  {
   "cell_type": "code",
   "execution_count": 71,
   "metadata": {
    "collapsed": false
   },
   "outputs": [
    {
     "data": {
      "text/html": [
       "<iframe id=\"igraph\" scrolling=\"no\" style=\"border:none;\" seamless=\"seamless\" src=\"https://plot.ly/~kaimibk/144.embed\" height=\"525px\" width=\"100%\"></iframe>"
      ],
      "text/plain": [
       "<plotly.tools.PlotlyDisplay object>"
      ]
     },
     "execution_count": 71,
     "metadata": {},
     "output_type": "execute_result"
    }
   ],
   "source": [
    "trace = [go.Histogram(\n",
    "    x = df[\"mode\"],\n",
    "    name = \"mode\"\n",
    "    )]\n",
    "\n",
    "layout = go.Layout(\n",
    "            title = \"$\\\\text{Mode of Individual } p(\\cos(I_*))$\",\n",
    "            xaxis={\n",
    "                \"title\" : \"$cos(I_*)$\",\n",
    "                \"mirror\" : \"ticks\",\n",
    "                \"linecolor\" : \"black\",\n",
    "                \"linewidth\" : 1\n",
    "                },\n",
    "            yaxis={\n",
    "                \"mirror\" : \"ticks\",\n",
    "                \"linecolor\" : \"black\",\n",
    "                \"linewidth\" : 1\n",
    "                },\n",
    "        )\n",
    "figure = go.Figure(data=trace, layout=layout)\n",
    "py.iplot(figure, filename=\"pcosi_mode\")"
   ]
  },
  {
   "cell_type": "markdown",
   "metadata": {},
   "source": [
    "## Average of Individual, normalized $p(\\cos(I_*))$"
   ]
  },
  {
   "cell_type": "code",
   "execution_count": 65,
   "metadata": {
    "collapsed": false
   },
   "outputs": [],
   "source": [
    "#df[\"avg\"] = df.mean(axis=0, numeric_only=True)\n",
    "temp = df[[i for i in np.arange(0, 1, 0.002)]].mean(axis=0, numeric_only=True)"
   ]
  },
  {
   "cell_type": "code",
   "execution_count": 78,
   "metadata": {
    "collapsed": false
   },
   "outputs": [
    {
     "data": {
      "text/html": [
       "<iframe id=\"igraph\" scrolling=\"no\" style=\"border:none;\" seamless=\"seamless\" src=\"https://plot.ly/~kaimibk/146.embed\" height=\"525px\" width=\"100%\"></iframe>"
      ],
      "text/plain": [
       "<plotly.tools.PlotlyDisplay object>"
      ]
     },
     "execution_count": 78,
     "metadata": {},
     "output_type": "execute_result"
    }
   ],
   "source": [
    "trace2 = [go.Scatter(\n",
    "    x = [i for i in np.arange(0, 1, 0.002)],\n",
    "    y = temp,\n",
    "    name = \"Average\"\n",
    "    )]\n",
    "\n",
    "layout = go.Layout(\n",
    "            barmode='group',\n",
    "            title = \"$\\\\text{Average of Individual } p(\\cos(I_*))$\",\n",
    "            xaxis={\n",
    "                \"title\" : \"$(\\cos(I_*))$\",\n",
    "                \"mirror\" : \"ticks\",\n",
    "                \"linecolor\" : \"black\",\n",
    "                \"linewidth\" : 1\n",
    "                },\n",
    "            yaxis={\n",
    "                \"mirror\" : \"ticks\",\n",
    "                \"linecolor\" : \"black\",\n",
    "                \"linewidth\" : 1\n",
    "                },\n",
    "        )\n",
    "figure = go.Figure(data=trace2, layout=layout)\n",
    "py.iplot(figure, filename=\"pcosi_avg\")"
   ]
  },
  {
   "cell_type": "code",
   "execution_count": null,
   "metadata": {
    "collapsed": true
   },
   "outputs": [],
   "source": []
  }
 ],
 "metadata": {
  "anaconda-cloud": {},
  "kernelspec": {
   "display_name": "Python [conda env:UHenv]",
   "language": "python",
   "name": "conda-env-UHenv-py"
  },
  "language_info": {
   "codemirror_mode": {
    "name": "ipython",
    "version": 3
   },
   "file_extension": ".py",
   "mimetype": "text/x-python",
   "name": "python",
   "nbconvert_exporter": "python",
   "pygments_lexer": "ipython3",
   "version": "3.6.1"
  },
  "latex_envs": {
   "LaTeX_envs_menu_present": true,
   "autoclose": true,
   "autocomplete": true,
   "bibliofile": "biblio.bib",
   "cite_by": "apalike",
   "current_citInitial": 1,
   "eqLabelWithNumbers": true,
   "eqNumInitial": 1,
   "hotkeys": {
    "equation": "Ctrl-E",
    "itemize": "Ctrl-I"
   },
   "labels_anchors": false,
   "latex_user_defs": false,
   "report_style_numbering": false,
   "user_envs_cfg": false
  },
  "toc": {
   "nav_menu": {},
   "number_sections": true,
   "sideBar": true,
   "skip_h1_title": true,
   "title_cell": "Table of Contents",
   "title_sidebar": "Contents",
   "toc_cell": true,
   "toc_position": {},
   "toc_section_display": true,
   "toc_window_display": true
  }
 },
 "nbformat": 4,
 "nbformat_minor": 2
}
