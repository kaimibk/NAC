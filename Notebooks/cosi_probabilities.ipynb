{
 "cells": [
  {
   "cell_type": "markdown",
   "metadata": {
    "deletable": true,
    "editable": true,
    "toc": true
   },
   "source": [
    "<h1>Table of Contents<span class=\"tocSkip\"></span></h1>\n",
    "<div class=\"toc\"><ul class=\"toc-item\"><li><span><a href=\"#Directories\" data-toc-modified-id=\"Directories-1\"><span class=\"toc-item-num\">1&nbsp;&nbsp;</span>Directories</a></span></li><li><span><a href=\"#Summary\" data-toc-modified-id=\"Summary-2\"><span class=\"toc-item-num\">2&nbsp;&nbsp;</span>Summary</a></span></li></ul></div>"
   ]
  },
  {
   "cell_type": "code",
   "execution_count": 1,
   "metadata": {
    "collapsed": true,
    "deletable": true,
    "editable": true
   },
   "outputs": [],
   "source": [
    "import scipy.stats as stats\n",
    "import pandas as pd\n",
    "import numpy as np\n",
    "from scipy.integrate import quad\n",
    "import plotly.plotly  as py\n",
    "import plotly.graph_objs as go"
   ]
  },
  {
   "cell_type": "markdown",
   "metadata": {
    "deletable": true,
    "editable": true
   },
   "source": [
    "## Directories"
   ]
  },
  {
   "cell_type": "code",
   "execution_count": 2,
   "metadata": {
    "collapsed": true,
    "deletable": true,
    "editable": true
   },
   "outputs": [],
   "source": [
    "main_dir = \"/Volumes/LaCie/Research/NAC/\"\n",
    "data_dir = main_dir+\"data/\"\n",
    "out_dir = main_dir+\"output/\""
   ]
  },
  {
   "cell_type": "markdown",
   "metadata": {
    "deletable": true,
    "editable": true
   },
   "source": [
    "## Summary"
   ]
  },
  {
   "cell_type": "markdown",
   "metadata": {
    "deletable": true,
    "editable": true
   },
   "source": [
    "Define, $v\\equiv \\frac{2\\pi R_*}{P_{rot}}$ and $u\\equiv v \\sin(I_*)$\n",
    "\n",
    "$$p(D| cos(I_*)) = \\int_0^\\infty \\mathcal{N}(V, \\sigma_V ; v) \\mathcal{N}(U, \\sigma_U;v\\sqrt{1-\\cos^2(I_*)}) dv$$\n",
    "\n",
    "where $\\mathcal{N}$ denotes a Gaussian function of $x$ with a mean $\\mu$ and standard deviation $\\sigma$, and $(V, \\sigma_V)$ and $(U,\\sigma_U)$ are the measurements of $v$ and $u$, respectively."
   ]
  },
  {
   "cell_type": "code",
   "execution_count": 3,
   "metadata": {
    "collapsed": false,
    "deletable": true,
    "editable": true
   },
   "outputs": [],
   "source": [
    "df = pd.read_csv(\"{}MN_17_3616_point.csv\".format(data_dir),\n",
    "                index_col=[0])\n",
    "df_trim = df[df.V.notnull()].reset_index(drop=True)\n",
    "df_trim = df_trim[np.isfinite(df_trim.EVSINI)].reset_index(drop=True)"
   ]
  },
  {
   "cell_type": "code",
   "execution_count": 4,
   "metadata": {
    "collapsed": true,
    "deletable": true,
    "editable": true
   },
   "outputs": [],
   "source": [
    "from multiprocessing import Pool, Manager, active_children\n",
    "\n",
    "## list of columns to retrive\n",
    "features = [\"V\", \"V_sigma\", \"VSINI\", \"EVSINI\"]\n",
    "\n",
    "def integrand(u, p1, p2, cosi):\n",
    "    r'''\n",
    "    Parameters:\n",
    "    -----------\n",
    "    u : For use in scipy.integrate.quad\n",
    "    p1 : scipy.stats._distn_infrastructure.rv_frozen\n",
    "        Frozen distribution of \"v\"\n",
    "    p2 : scipy.stats._distn_infrastructure.rv_frozen\n",
    "        Frozen distribution of \"vsini\"\n",
    "    sini : float\n",
    "        sin(I_*) measurement for a star\n",
    "    \n",
    "    Returns:\n",
    "    --------\n",
    "    u * (p1 evaluated at u) * (p2 evaluated at u*sini)\n",
    "    '''\n",
    "    return u*p1.pdf(u)*p2.pdf(u*np.sqrt(1- cosi**2))\n",
    "\n",
    "def compute_L(args, start=0.0, end=300.0):\n",
    "    global integrand\n",
    "    cosi, p1, p2 = args\n",
    "    return quad(integrand, start, end, args=(p1,p2, cosi))[0]\n",
    "\n",
    "pool = Pool(8)\n",
    "\n",
    "def likelihood(cosis, v, v_sigma, vsini, vsini_sigma):\n",
    "    r'''\n",
    "    Computes integrand from 0 to +infinity\n",
    "    \n",
    "    Parameters:\n",
    "    -----------\n",
    "    sinis : array or list\n",
    "        sinis to compute the likelihood for\n",
    "    v : float\n",
    "        velocity for a star\n",
    "    v_sigma : float\n",
    "        Error on the velocity\n",
    "    vsini : float\n",
    "        vsini for a star\n",
    "    vsini_sigma : float\n",
    "        error on vsini\n",
    "\n",
    "    Returns:\n",
    "    --------\n",
    "    (pdf/norm) : ndarray\n",
    "        Normalized likelihoods given a range of sini\n",
    "    '''\n",
    "    \n",
    "    p1 = stats.norm(loc=v, scale=v_sigma)\n",
    "    p2 = stats.norm(loc=vsini, scale=vsini_sigma)\n",
    "    \n",
    "    pdf = pool.map(compute_L, [(i, p1, p2) for i in cosis])\n",
    "    #pdf = np.array([quad(integrand, 0, np.inf, args=(p1,p2, sini)) for sini in sinis])[:,0]\n",
    "    \n",
    "    norm = np.trapz(pdf, cosis, dx=0.01)\n",
    "    \n",
    "    return pdf/norm"
   ]
  },
  {
   "cell_type": "code",
   "execution_count": 5,
   "metadata": {
    "collapsed": true,
    "deletable": true,
    "editable": true
   },
   "outputs": [],
   "source": [
    "Ls = Manager().list()\n",
    "\n",
    "def main(index):\n",
    "    global Ls\n",
    "    global traces\n",
    "    global df_trim\n",
    "    global cosi\n",
    "    \n",
    "    if index % 10 == 0:\n",
    "        print(\"Inspecting Star {}...\".format(index))\n",
    "    \n",
    "    v, v_sigma, vsini, vsini_sigma = df_trim.loc[index][features].values\n",
    "    ##v, v_sigma, vsini, vsini_sigma = 10, 0.5, 10, 0.5\n",
    "    \n",
    "    L = likelihood(cosi, v, v_sigma, vsini, vsini_sigma)\n",
    "    \n",
    "    Ls.append(L)"
   ]
  },
  {
   "cell_type": "code",
   "execution_count": 6,
   "metadata": {
    "collapsed": false,
    "deletable": true,
    "editable": true
   },
   "outputs": [
    {
     "name": "stdout",
     "output_type": "stream",
     "text": [
      "Inspecting Star 0...\n",
      "Inspecting Star 10...\n",
      "Inspecting Star 20...\n",
      "Inspecting Star 30...\n",
      "Inspecting Star 40...\n",
      "Inspecting Star 50...\n"
     ]
    }
   ],
   "source": [
    "from joblib import Parallel, delayed\n",
    "cosi = np.arange(0.0, 1.0, 0.002)\n",
    "\n",
    "if __name__ == \"__main__\":\n",
    "    Parallel(n_jobs=3, backend=\"threading\")(\n",
    "        map(delayed(main), range(len(df_trim))))"
   ]
  },
  {
   "cell_type": "code",
   "execution_count": 7,
   "metadata": {
    "collapsed": true,
    "deletable": true,
    "editable": true
   },
   "outputs": [],
   "source": [
    "traces = []\n",
    "\n",
    "for L in range(len(Ls)):\n",
    "    traces.append(go.Scatter(\n",
    "            x = cosi,\n",
    "            y = Ls[L],\n",
    "            name = df_trim.loc[L].Name\n",
    "        )\n",
    "    )"
   ]
  },
  {
   "cell_type": "code",
   "execution_count": 8,
   "metadata": {
    "collapsed": false,
    "deletable": true,
    "editable": true
   },
   "outputs": [
    {
     "data": {
      "text/html": [
       "<iframe id=\"igraph\" scrolling=\"no\" style=\"border:none;\" seamless=\"seamless\" src=\"https://plot.ly/~kaimibk/138.embed\" height=\"525px\" width=\"100%\"></iframe>"
      ],
      "text/plain": [
       "<plotly.tools.PlotlyDisplay object>"
      ]
     },
     "execution_count": 8,
     "metadata": {},
     "output_type": "execute_result"
    }
   ],
   "source": [
    "layout = go.Layout(\n",
    "            xaxis={\n",
    "                \"title\" : \"$\\cos(I_*)$\",\n",
    "                \"mirror\" : \"ticks\",\n",
    "                \"linecolor\" : \"black\",\n",
    "                \"linewidth\" : 1,\n",
    "                \"range\" : [0, 1]\n",
    "                },\n",
    "            yaxis={\n",
    "                \"title\" : \"$L$\",\n",
    "                \"mirror\" : \"ticks\",\n",
    "                \"linecolor\" : \"black\",\n",
    "                \"linewidth\" : 1\n",
    "                },\n",
    "        )\n",
    "figure = go.Figure(data=traces, layout=layout)\n",
    "py.iplot(figure, filename=\"pcosi\")"
   ]
  },
  {
   "cell_type": "code",
   "execution_count": 9,
   "metadata": {
    "collapsed": true,
    "deletable": true,
    "editable": true
   },
   "outputs": [],
   "source": [
    "temp = pd.DataFrame(list(Ls), columns = cosi)\n",
    "temp[\"Name\"] = df_trim.Name\n",
    "temp.to_csv(out_dir+\"cosi.csv\")"
   ]
  },
  {
   "cell_type": "code",
   "execution_count": null,
   "metadata": {
    "collapsed": true,
    "deletable": true,
    "editable": true
   },
   "outputs": [],
   "source": []
  }
 ],
 "metadata": {
  "anaconda-cloud": {},
  "kernelspec": {
   "display_name": "Python [conda env:UHenv]",
   "language": "python",
   "name": "conda-env-UHenv-py"
  },
  "language_info": {
   "codemirror_mode": {
    "name": "ipython",
    "version": 3
   },
   "file_extension": ".py",
   "mimetype": "text/x-python",
   "name": "python",
   "nbconvert_exporter": "python",
   "pygments_lexer": "ipython3",
   "version": "3.6.1"
  },
  "latex_envs": {
   "LaTeX_envs_menu_present": true,
   "autoclose": true,
   "autocomplete": true,
   "bibliofile": "biblio.bib",
   "cite_by": "apalike",
   "current_citInitial": 1,
   "eqLabelWithNumbers": true,
   "eqNumInitial": 1,
   "hotkeys": {
    "equation": "Ctrl-E",
    "itemize": "Ctrl-I"
   },
   "labels_anchors": false,
   "latex_user_defs": false,
   "report_style_numbering": false,
   "user_envs_cfg": false
  },
  "toc": {
   "nav_menu": {},
   "number_sections": true,
   "sideBar": true,
   "skip_h1_title": true,
   "title_cell": "Table of Contents",
   "title_sidebar": "Contents",
   "toc_cell": true,
   "toc_position": {
    "height": "calc(100% - 180px)",
    "left": "10px",
    "top": "150px",
    "width": "169px"
   },
   "toc_section_display": true,
   "toc_window_display": true
  }
 },
 "nbformat": 4,
 "nbformat_minor": 2
}
