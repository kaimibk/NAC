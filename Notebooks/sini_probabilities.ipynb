{
 "cells": [
  {
   "cell_type": "markdown",
   "metadata": {
    "deletable": true,
    "editable": true,
    "toc": true
   },
   "source": [
    "<h1>Table of Contents<span class=\"tocSkip\"></span></h1>\n",
    "<div class=\"toc\"><ul class=\"toc-item\"><li><span><a href=\"#Probabilistic-Inference\" data-toc-modified-id=\"Probabilistic-Inference-1\"><span class=\"toc-item-num\">1&nbsp;&nbsp;</span>Probabilistic Inference</a></span></li><li><span><a href=\"#Directories\" data-toc-modified-id=\"Directories-2\"><span class=\"toc-item-num\">2&nbsp;&nbsp;</span>Directories</a></span></li><li><span><a href=\"#Reading-in-Data\" data-toc-modified-id=\"Reading-in-Data-3\"><span class=\"toc-item-num\">3&nbsp;&nbsp;</span>Reading in Data</a></span></li><li><span><a href=\"#Compute-Likelihood,-$L(D-|-sin(I_*))$\" data-toc-modified-id=\"Compute-Likelihood,-$L(D-|-sin(I_*))$-4\"><span class=\"toc-item-num\">4&nbsp;&nbsp;</span>Compute Likelihood, $L(D | sin(I_*))$</a></span><ul class=\"toc-item\"><li><span><a href=\"#Executing\" data-toc-modified-id=\"Executing-4.1\"><span class=\"toc-item-num\">4.1&nbsp;&nbsp;</span>Executing</a></span></li></ul></li><li><span><a href=\"#Archive\" data-toc-modified-id=\"Archive-5\"><span class=\"toc-item-num\">5&nbsp;&nbsp;</span>Archive</a></span></li></ul></div>"
   ]
  },
  {
   "cell_type": "markdown",
   "metadata": {
    "deletable": true,
    "editable": true
   },
   "source": [
    "## Probabilistic Inference"
   ]
  },
  {
   "cell_type": "markdown",
   "metadata": {
    "deletable": true,
    "editable": true
   },
   "source": [
    "$$\\mathcal{L}(D | sin(I_*)) = \\int_1^\\infty u p_1(u) p_2(u\\sin(I_*)) du$$\n",
    "\n",
    "where $p_1$ is the probability distribution of $V=2\\pi R_* / P_{rot}$ and $p_2$ is the probability distribution of $V \\sin(I_*)$"
   ]
  },
  {
   "cell_type": "code",
   "execution_count": 1,
   "metadata": {
    "collapsed": true,
    "deletable": true,
    "editable": true
   },
   "outputs": [],
   "source": [
    "import scipy.stats as stats\n",
    "import pandas as pd\n",
    "import numpy as np\n",
    "from scipy.integrate import quad"
   ]
  },
  {
   "cell_type": "code",
   "execution_count": 2,
   "metadata": {
    "collapsed": true,
    "deletable": true,
    "editable": true
   },
   "outputs": [],
   "source": [
    "import plotly.plotly  as py\n",
    "import plotly.graph_objs as go"
   ]
  },
  {
   "cell_type": "markdown",
   "metadata": {
    "deletable": true,
    "editable": true
   },
   "source": [
    "## Directories"
   ]
  },
  {
   "cell_type": "code",
   "execution_count": 3,
   "metadata": {
    "collapsed": true,
    "deletable": true,
    "editable": true
   },
   "outputs": [],
   "source": [
    "main_dir = \"/Volumes/LaCie/Research/NAC/\"\n",
    "data_dir = main_dir+\"data/\"\n",
    "out_dir = main_dir+\"output/\""
   ]
  },
  {
   "cell_type": "markdown",
   "metadata": {
    "deletable": true,
    "editable": true
   },
   "source": [
    "## Reading in Data"
   ]
  },
  {
   "cell_type": "code",
   "execution_count": 4,
   "metadata": {
    "collapsed": false,
    "deletable": true,
    "editable": true
   },
   "outputs": [],
   "source": [
    "df = pd.read_csv(\"{}MN_17_3616_point.csv\".format(data_dir),\n",
    "                index_col=[0])"
   ]
  },
  {
   "cell_type": "code",
   "execution_count": 5,
   "metadata": {
    "collapsed": false,
    "deletable": true,
    "editable": true
   },
   "outputs": [],
   "source": [
    "df_trim = df[df.V.notnull()].reset_index(drop=True)\n",
    "df_trim = df_trim[np.isfinite(df_trim.EVSINI)].reset_index(drop=True)"
   ]
  },
  {
   "cell_type": "markdown",
   "metadata": {
    "deletable": true,
    "editable": true
   },
   "source": [
    "## Compute Likelihood, $L(D | sin(I_*))$"
   ]
  },
  {
   "cell_type": "code",
   "execution_count": 6,
   "metadata": {
    "collapsed": false,
    "deletable": true,
    "editable": true
   },
   "outputs": [],
   "source": [
    "from multiprocessing import Pool, Manager, active_children\n",
    "\n",
    "## list of columns to retrive\n",
    "features = [\"V\", \"V_sigma\", \"VSINI\", \"EVSINI\"]\n",
    "\n",
    "def integrand(u, p1, p2, sini):\n",
    "    r'''\n",
    "    Parameters:\n",
    "    -----------\n",
    "    u : For use in scipy.integrate.quad\n",
    "    p1 : scipy.stats._distn_infrastructure.rv_frozen\n",
    "        Frozen distribution of \"v\"\n",
    "    p2 : scipy.stats._distn_infrastructure.rv_frozen\n",
    "        Frozen distribution of \"vsini\"\n",
    "    sini : float\n",
    "        sin(I_*) measurement for a star\n",
    "    \n",
    "    Returns:\n",
    "    --------\n",
    "    u * (p1 evaluated at u) * (p2 evaluated at u*sini)\n",
    "    '''\n",
    "    return u*p1.pdf(u)*p2.pdf(u*sini)\n",
    "\n",
    "def compute_L(args, start=0.0, end=300.0):\n",
    "    global integrand\n",
    "    sini, p1, p2 = args\n",
    "    return quad(integrand, start, end, args=(p1,p2, sini))[0]\n",
    "\n",
    "pool = Pool(8)\n",
    "\n",
    "def likelihood(sinis, v, v_sigma, vsini, vsini_sigma):\n",
    "    r'''\n",
    "    Computes integrand from 0 to +infinity\n",
    "    \n",
    "    Parameters:\n",
    "    -----------\n",
    "    sinis : array or list\n",
    "        sinis to compute the likelihood for\n",
    "    v : float\n",
    "        velocity for a star\n",
    "    v_sigma : float\n",
    "        Error on the velocity\n",
    "    vsini : float\n",
    "        vsini for a star\n",
    "    vsini_sigma : float\n",
    "        error on vsini\n",
    "\n",
    "    Returns:\n",
    "    --------\n",
    "    (pdf/norm) : ndarray\n",
    "        Normalized likelihoods given a range of sini\n",
    "    '''\n",
    "    \n",
    "    p1 = stats.norm(loc=v, scale=v_sigma)\n",
    "    p2 = stats.norm(loc=vsini, scale=vsini_sigma)\n",
    "    \n",
    "    pdf = pool.map(compute_L, [(i, p1, p2) for i in sinis])\n",
    "    #pdf = np.array([quad(integrand, 0, np.inf, args=(p1,p2, sini)) for sini in sinis])[:,0]\n",
    "    \n",
    "    norm = np.trapz(pdf, sinis, dx=0.01)\n",
    "    \n",
    "    return pdf/norm"
   ]
  },
  {
   "cell_type": "markdown",
   "metadata": {
    "deletable": true,
    "editable": true
   },
   "source": [
    "### Executing"
   ]
  },
  {
   "cell_type": "code",
   "execution_count": 7,
   "metadata": {
    "collapsed": false,
    "deletable": true,
    "editable": true
   },
   "outputs": [],
   "source": [
    "Ls = Manager().list()\n",
    "#traces = Manager().list()\n",
    "\n",
    "def main(index):\n",
    "    global Ls\n",
    "    global traces\n",
    "    global df_trim\n",
    "    global sini\n",
    "    \n",
    "    if index % 10 == 0:\n",
    "        print(\"Inspecting Star {}...\".format(index))\n",
    "    \n",
    "    v, v_sigma, vsini, vsini_sigma = df_trim.loc[index][features].values\n",
    "    \n",
    "    L = likelihood(sini, v, v_sigma, vsini, vsini_sigma)\n",
    "    \n",
    "    Ls.append(L)\n",
    "    \n",
    "#     traces = go.Scatter(\n",
    "#             x = sini,\n",
    "#             y = L,\n",
    "#             name = df_trim.loc[index].Name)\n",
    "    \n",
    "#     Ls.append([L, traces])\n"
   ]
  },
  {
   "cell_type": "code",
   "execution_count": 8,
   "metadata": {
    "collapsed": false,
    "deletable": true,
    "editable": true
   },
   "outputs": [
    {
     "name": "stdout",
     "output_type": "stream",
     "text": [
      "Inspecting Star 0...\n",
      "Inspecting Star 10...\n",
      "Inspecting Star 20...\n",
      "Inspecting Star 30...\n",
      "Inspecting Star 40...\n",
      "Inspecting Star 50...\n"
     ]
    }
   ],
   "source": [
    "from joblib import Parallel, delayed\n",
    "sini = np.arange(0.0, 1.0, 0.002)\n",
    "\n",
    "if __name__ == \"__main__\":\n",
    "    Parallel(n_jobs=3, backend=\"threading\")(\n",
    "        map(delayed(main), range(len(df_trim))))\n",
    "    \n",
    "pool.join()"
   ]
  },
  {
   "cell_type": "code",
   "execution_count": 9,
   "metadata": {
    "collapsed": false,
    "deletable": true,
    "editable": true
   },
   "outputs": [],
   "source": [
    "traces = []\n",
    "\n",
    "for L in range(len(Ls)):\n",
    "    traces.append(go.Scatter(\n",
    "            x = sini,\n",
    "            y = Ls[L],\n",
    "            name = df_trim.loc[L].Name\n",
    "        )\n",
    "    )"
   ]
  },
  {
   "cell_type": "code",
   "execution_count": 10,
   "metadata": {
    "collapsed": false,
    "deletable": true,
    "editable": true,
    "scrolled": false
   },
   "outputs": [
    {
     "data": {
      "text/html": [
       "<iframe id=\"igraph\" scrolling=\"no\" style=\"border:none;\" seamless=\"seamless\" src=\"https://plot.ly/~kaimibk/140.embed\" height=\"525px\" width=\"100%\"></iframe>"
      ],
      "text/plain": [
       "<plotly.tools.PlotlyDisplay object>"
      ]
     },
     "execution_count": 10,
     "metadata": {},
     "output_type": "execute_result"
    }
   ],
   "source": [
    "layout = go.Layout(\n",
    "            xaxis={\n",
    "                \"title\" : \"$\\sin(I_*)$\",\n",
    "                \"mirror\" : \"ticks\",\n",
    "                \"linecolor\" : \"black\",\n",
    "                \"linewidth\" : 1,\n",
    "                \"range\" : [0, 1]\n",
    "                },\n",
    "            yaxis={\n",
    "                \"title\" : \"$L$\",\n",
    "                \"mirror\" : \"ticks\",\n",
    "                \"linecolor\" : \"black\",\n",
    "                \"linewidth\" : 1\n",
    "                },\n",
    "        )\n",
    "figure = go.Figure(data=traces, layout=layout)\n",
    "py.iplot(figure, filename=\"psini\")"
   ]
  },
  {
   "cell_type": "code",
   "execution_count": 11,
   "metadata": {
    "collapsed": false,
    "deletable": true,
    "editable": true
   },
   "outputs": [],
   "source": [
    "temp = pd.DataFrame(list(Ls), columns = sini)\n",
    "temp[\"Name\"] = df_trim.Name\n",
    "temp.to_csv(out_dir+\"sinis.csv\")\n",
    "\n",
    "# df_sinis = pd.DataFrame([])\n",
    "\n",
    "# traces = []\n",
    "# for star in range(len(df_trim)):\n",
    "    \n",
    "#     if star % 10 == 0:\n",
    "#         print(\"Inspecting Star {}...\".format(star))\n",
    "    \n",
    "#     v, v_sigma, vsini, vsini_sigma = df_trim.loc[star][features].values\n",
    "    \n",
    "#     L = likelihood(sini, v, v_sigma, vsini, vsini_sigma)\n",
    "    \n",
    "#     df_sinis = df_sinis.append(pd.DataFrame(L))\n",
    "    \n",
    "#     traces.append(go.Scatter(\n",
    "#         x = sini,\n",
    "#         y = L,\n",
    "#         name = df_trim.loc[star].Name))\n",
    "    "
   ]
  },
  {
   "cell_type": "code",
   "execution_count": null,
   "metadata": {
    "collapsed": false,
    "deletable": true,
    "editable": true
   },
   "outputs": [],
   "source": [
    "layout = go.Layout(\n",
    "            xaxis={\n",
    "                \"title\" : \"$\\sin(I_*)$\",\n",
    "                \"mirror\" : \"ticks\",\n",
    "                \"linecolor\" : \"black\",\n",
    "                \"linewidth\" : 1,\n",
    "                \"range\" : [0, 1]\n",
    "                },\n",
    "            yaxis={\n",
    "                \"title\" : \"$L$\",\n",
    "                \"mirror\" : \"ticks\",\n",
    "                \"linecolor\" : \"black\",\n",
    "                \"linewidth\" : 1\n",
    "                },\n",
    "        )\n",
    "\n",
    "figure = go.Figure(data=traces, layout=layout)\n",
    "py.iplot(figure, filename=\"test\")"
   ]
  },
  {
   "cell_type": "markdown",
   "metadata": {
    "deletable": true,
    "editable": true
   },
   "source": [
    "## Archive"
   ]
  },
  {
   "cell_type": "code",
   "execution_count": null,
   "metadata": {
    "collapsed": false,
    "deletable": true,
    "editable": true
   },
   "outputs": [],
   "source": [
    "def plot_likelihood(frame):\n",
    "    v, v_sigma, vsini, vsini_sigma, _ = frame[features].values\n",
    "    p1 = stats.norm(loc=v, scale=v_sigma).rvs(size=1000)\n",
    "    p2 = stats.norm(loc=vsini, scale=vsini_sigma).rvs(size=1000)\n",
    "    \n",
    "    return [\n",
    "        go.Histogram(\n",
    "            x = v * p1 * p2,\n",
    "            name = frame.Name,\n",
    "            opacity = 0.6,\n",
    "            xbins = {\"size\" : 1000}\n",
    "            ),\n",
    "        go.Histogram(\n",
    "            x = p1,\n",
    "            name = frame.Name,\n",
    "            opacity = 0.6,\n",
    "            xbins = {\"size\" : 1000}\n",
    "            ),\n",
    "        go.Histogram(\n",
    "            x = p2,\n",
    "            name = frame.Name,\n",
    "            opacity = 0.6,\n",
    "            xbins = {\"size\" : 1000}\n",
    "            ),\n",
    "           ]"
   ]
  },
  {
   "cell_type": "code",
   "execution_count": null,
   "metadata": {
    "collapsed": false,
    "deletable": true,
    "editable": true
   },
   "outputs": [],
   "source": [
    "data = np.array([plot_likelihood(df_trim.loc[i]) for i in range(len(df_trim))])\n",
    "\n",
    "layout = go.Layout(barmode='overlay',\n",
    "            xaxis={\n",
    "                \"mirror\" : \"ticks\",\n",
    "                \"linecolor\" : \"black\",\n",
    "                \"linewidth\" : 1},\n",
    "              yaxis={\n",
    "                \"mirror\" : \"ticks\",\n",
    "                \"linecolor\" : \"black\",\n",
    "                \"linewidth\" : 1}\n",
    "                  \n",
    "                  )\n",
    "\n",
    "figure = go.Figure(data=list(data[:,0]), layout=layout)\n",
    "py.iplot(figure, filename=\"likelihood\")"
   ]
  },
  {
   "cell_type": "code",
   "execution_count": null,
   "metadata": {
    "collapsed": false,
    "deletable": true,
    "editable": true
   },
   "outputs": [],
   "source": [
    "layout = go.Layout(barmode='overlay',\n",
    "              xaxis={\n",
    "                \"title\" : \"p(V)\",\n",
    "                \"mirror\" : \"ticks\",\n",
    "                \"linecolor\" : \"black\",\n",
    "                \"linewidth\" : 1},\n",
    "              yaxis={\n",
    "                \"mirror\" : \"ticks\",\n",
    "                \"linecolor\" : \"black\",\n",
    "                \"linewidth\" : 1}\n",
    "                  )\n",
    "\n",
    "figure = go.Figure(data=list(data[:,1]), layout=layout)\n",
    "py.iplot(figure, filename=\"p1\")"
   ]
  },
  {
   "cell_type": "code",
   "execution_count": null,
   "metadata": {
    "collapsed": false,
    "deletable": true,
    "editable": true
   },
   "outputs": [],
   "source": [
    "layout = go.Layout(barmode='overlay',\n",
    "              xaxis={\n",
    "                \"title\" : \"p(VSINI)\",\n",
    "                \"mirror\" : \"ticks\",\n",
    "                \"linecolor\" : \"black\",\n",
    "                \"linewidth\" : 1},\n",
    "              yaxis={\n",
    "                \"mirror\" : \"ticks\",\n",
    "                \"linecolor\" : \"black\",\n",
    "                \"linewidth\" : 1}\n",
    "                  )\n",
    "\n",
    "figure = go.Figure(data=list(data[:,2]), layout=layout)\n",
    "py.iplot(figure, filename=\"p2\")"
   ]
  },
  {
   "cell_type": "code",
   "execution_count": null,
   "metadata": {
    "collapsed": true,
    "deletable": true,
    "editable": true
   },
   "outputs": [],
   "source": []
  }
 ],
 "metadata": {
  "anaconda-cloud": {},
  "kernelspec": {
   "display_name": "Python [conda env:UHenv]",
   "language": "python",
   "name": "conda-env-UHenv-py"
  },
  "language_info": {
   "codemirror_mode": {
    "name": "ipython",
    "version": 3
   },
   "file_extension": ".py",
   "mimetype": "text/x-python",
   "name": "python",
   "nbconvert_exporter": "python",
   "pygments_lexer": "ipython3",
   "version": "3.6.1"
  },
  "latex_envs": {
   "LaTeX_envs_menu_present": true,
   "autoclose": true,
   "autocomplete": true,
   "bibliofile": "biblio.bib",
   "cite_by": "apalike",
   "current_citInitial": 1,
   "eqLabelWithNumbers": true,
   "eqNumInitial": 1,
   "hotkeys": {
    "equation": "Ctrl-E",
    "itemize": "Ctrl-I"
   },
   "labels_anchors": false,
   "latex_user_defs": false,
   "report_style_numbering": false,
   "user_envs_cfg": false
  },
  "toc": {
   "nav_menu": {},
   "number_sections": true,
   "sideBar": true,
   "skip_h1_title": true,
   "title_cell": "Table of Contents",
   "title_sidebar": "Contents",
   "toc_cell": true,
   "toc_position": {
    "height": "calc(100% - 180px)",
    "left": "10px",
    "top": "150px",
    "width": "224px"
   },
   "toc_section_display": true,
   "toc_window_display": true
  }
 },
 "nbformat": 4,
 "nbformat_minor": 2
}
