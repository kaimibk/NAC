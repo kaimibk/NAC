{
 "cells": [
  {
   "cell_type": "markdown",
   "metadata": {
    "toc": true
   },
   "source": [
    "<h1>Table of Contents<span class=\"tocSkip\"></span></h1>\n",
    "<div class=\"toc\"><ul class=\"toc-item\"><li><span><a href=\"#Reading-in-Data\" data-toc-modified-id=\"Reading-in-Data-1\"><span class=\"toc-item-num\">1&nbsp;&nbsp;</span>Reading in Data</a></span></li><li><span><a href=\"#Plotting\" data-toc-modified-id=\"Plotting-2\"><span class=\"toc-item-num\">2&nbsp;&nbsp;</span>Plotting</a></span><ul class=\"toc-item\"><li><span><a href=\"#Static-Trace\" data-toc-modified-id=\"Static-Trace-2.1\"><span class=\"toc-item-num\">2.1&nbsp;&nbsp;</span>Static Trace</a></span></li></ul></li><li><span><a href=\"#Polynomial-Fitting\" data-toc-modified-id=\"Polynomial-Fitting-3\"><span class=\"toc-item-num\">3&nbsp;&nbsp;</span>Polynomial Fitting</a></span></li></ul></div>"
   ]
  },
  {
   "cell_type": "markdown",
   "metadata": {},
   "source": [
    "From our previous analyses, a majority of our sample seems to be included in Redbull et al. (2016). For this reason we would like to focus on this homogeneous sample. Since they are derived from K2 light curves, they should be more reliable. So we wish to scrutinize this same a but more.\n",
    "\n",
    "If the object in question is in fact an unresolved binary, the total luminosity will be overestimated, sometimes up to a factor of two--when the secondary star is comparable, in terms of brightness, to the primary, while the color (temperature) remains mostly the same. Such an overestimation would result in an overestimation of Rs. Such systems would appear slightly above the main-sequence in a CMD.\n",
    "\n",
    "So, we will inspect how plots of Rs-Teff or vsini-v plots change if we removed these points. By doing the following:\n",
    "1. Fit a low order polynomial to M_G vs BP-RP to define the main sequence\n",
    "1. Cut the points above the line by some threshold, between 0 and 2.5 log10(2)--which corresponds to a twin binary case."
   ]
  },
  {
   "cell_type": "code",
   "execution_count": 1,
   "metadata": {},
   "outputs": [],
   "source": [
    "import pandas as pd\n",
    "import numpy as np"
   ]
  },
  {
   "cell_type": "code",
   "execution_count": 2,
   "metadata": {},
   "outputs": [],
   "source": [
    "main_dir = \"/u/kaimibk/Documents/Research/NAC/\"\n",
    "data_dir = main_dir+\"data/\"\n",
    "out_dir = main_dir+\"output/\""
   ]
  },
  {
   "cell_type": "markdown",
   "metadata": {},
   "source": [
    "## Reading in Data"
   ]
  },
  {
   "cell_type": "code",
   "execution_count": 4,
   "metadata": {},
   "outputs": [
    {
     "data": {
      "text/html": [
       "<div>\n",
       "<style scoped>\n",
       "    .dataframe tbody tr th:only-of-type {\n",
       "        vertical-align: middle;\n",
       "    }\n",
       "\n",
       "    .dataframe tbody tr th {\n",
       "        vertical-align: top;\n",
       "    }\n",
       "\n",
       "    .dataframe thead th {\n",
       "        text-align: right;\n",
       "    }\n",
       "</style>\n",
       "<table border=\"1\" class=\"dataframe\">\n",
       "  <thead>\n",
       "    <tr style=\"text-align: right;\">\n",
       "      <th></th>\n",
       "      <th>Name</th>\n",
       "      <th>RA</th>\n",
       "      <th>Dec</th>\n",
       "      <th>K2MASS</th>\n",
       "      <th>(V-K)o</th>\n",
       "      <th>Period</th>\n",
       "      <th>Ref</th>\n",
       "      <th>BCK</th>\n",
       "      <th>logL/Lo</th>\n",
       "      <th>M/Mo</th>\n",
       "      <th>...</th>\n",
       "      <th>k_msigcom</th>\n",
       "      <th>radius_sigma</th>\n",
       "      <th>lum_sigma</th>\n",
       "      <th>teff_sigma</th>\n",
       "      <th>V_iso</th>\n",
       "      <th>V_iso_err</th>\n",
       "      <th>iso_rad</th>\n",
       "      <th>iso_rad_Err</th>\n",
       "      <th>iso_teff</th>\n",
       "      <th>iso_teff_Err</th>\n",
       "    </tr>\n",
       "  </thead>\n",
       "  <tbody>\n",
       "    <tr>\n",
       "      <th>0</th>\n",
       "      <td>J03394633+2358531</td>\n",
       "      <td>54.943067</td>\n",
       "      <td>23.981442</td>\n",
       "      <td>11.83</td>\n",
       "      <td>4.89</td>\n",
       "      <td>1.138</td>\n",
       "      <td>1</td>\n",
       "      <td>2.73</td>\n",
       "      <td>-1.66</td>\n",
       "      <td>0.41</td>\n",
       "      <td>...</td>\n",
       "      <td>0.022</td>\n",
       "      <td>NaN</td>\n",
       "      <td>NaN</td>\n",
       "      <td>358.076660</td>\n",
       "      <td>18.646667</td>\n",
       "      <td>0.593949</td>\n",
       "      <td>0.419426</td>\n",
       "      <td>0.013360</td>\n",
       "      <td>4222.314643</td>\n",
       "      <td>100.0</td>\n",
       "    </tr>\n",
       "    <tr>\n",
       "      <th>1</th>\n",
       "      <td>J03414664+2301198</td>\n",
       "      <td>55.444367</td>\n",
       "      <td>23.022186</td>\n",
       "      <td>13.16</td>\n",
       "      <td>5.63</td>\n",
       "      <td>0.294</td>\n",
       "      <td>1</td>\n",
       "      <td>2.81</td>\n",
       "      <td>-2.23</td>\n",
       "      <td>0.19</td>\n",
       "      <td>...</td>\n",
       "      <td>0.028</td>\n",
       "      <td>NaN</td>\n",
       "      <td>NaN</td>\n",
       "      <td>NaN</td>\n",
       "      <td>46.221644</td>\n",
       "      <td>1.654124</td>\n",
       "      <td>0.268599</td>\n",
       "      <td>0.009612</td>\n",
       "      <td>3951.132391</td>\n",
       "      <td>100.0</td>\n",
       "    </tr>\n",
       "    <tr>\n",
       "      <th>2</th>\n",
       "      <td>J03414895+2303235</td>\n",
       "      <td>55.453963</td>\n",
       "      <td>23.056539</td>\n",
       "      <td>13.19</td>\n",
       "      <td>6.09</td>\n",
       "      <td>0.239</td>\n",
       "      <td>1</td>\n",
       "      <td>2.86</td>\n",
       "      <td>-2.26</td>\n",
       "      <td>0.19</td>\n",
       "      <td>...</td>\n",
       "      <td>0.033</td>\n",
       "      <td>NaN</td>\n",
       "      <td>NaN</td>\n",
       "      <td>NaN</td>\n",
       "      <td>57.058377</td>\n",
       "      <td>3.120213</td>\n",
       "      <td>0.269544</td>\n",
       "      <td>0.014740</td>\n",
       "      <td>3875.296173</td>\n",
       "      <td>100.0</td>\n",
       "    </tr>\n",
       "    <tr>\n",
       "      <th>3</th>\n",
       "      <td>J03415671+2358434</td>\n",
       "      <td>55.486317</td>\n",
       "      <td>23.978728</td>\n",
       "      <td>13.25</td>\n",
       "      <td>5.76</td>\n",
       "      <td>0.401</td>\n",
       "      <td>1</td>\n",
       "      <td>2.82</td>\n",
       "      <td>-2.27</td>\n",
       "      <td>0.18</td>\n",
       "      <td>...</td>\n",
       "      <td>0.029</td>\n",
       "      <td>NaN</td>\n",
       "      <td>NaN</td>\n",
       "      <td>NaN</td>\n",
       "      <td>38.341851</td>\n",
       "      <td>1.534672</td>\n",
       "      <td>0.303899</td>\n",
       "      <td>0.012164</td>\n",
       "      <td>3788.293001</td>\n",
       "      <td>100.0</td>\n",
       "    </tr>\n",
       "    <tr>\n",
       "      <th>4</th>\n",
       "      <td>J03415864+2257020</td>\n",
       "      <td>55.494367</td>\n",
       "      <td>22.950556</td>\n",
       "      <td>11.90</td>\n",
       "      <td>4.78</td>\n",
       "      <td>6.842</td>\n",
       "      <td>1</td>\n",
       "      <td>2.72</td>\n",
       "      <td>-1.68</td>\n",
       "      <td>0.40</td>\n",
       "      <td>...</td>\n",
       "      <td>0.020</td>\n",
       "      <td>NaN</td>\n",
       "      <td>NaN</td>\n",
       "      <td>249.679932</td>\n",
       "      <td>3.021724</td>\n",
       "      <td>0.095273</td>\n",
       "      <td>0.408648</td>\n",
       "      <td>0.012884</td>\n",
       "      <td>4135.851442</td>\n",
       "      <td>100.0</td>\n",
       "    </tr>\n",
       "  </tbody>\n",
       "</table>\n",
       "<p>5 rows × 51 columns</p>\n",
       "</div>"
      ],
      "text/plain": [
       "                Name         RA        Dec  K2MASS  (V-K)o  Period  Ref   BCK  \\\n",
       "0  J03394633+2358531  54.943067  23.981442   11.83    4.89   1.138    1  2.73   \n",
       "1  J03414664+2301198  55.444367  23.022186   13.16    5.63   0.294    1  2.81   \n",
       "2  J03414895+2303235  55.453963  23.056539   13.19    6.09   0.239    1  2.86   \n",
       "3  J03415671+2358434  55.486317  23.978728   13.25    5.76   0.401    1  2.82   \n",
       "4  J03415864+2257020  55.494367  22.950556   11.90    4.78   6.842    1  2.72   \n",
       "\n",
       "   logL/Lo  M/Mo      ...       k_msigcom  radius_sigma  lum_sigma  \\\n",
       "0    -1.66  0.41      ...           0.022           NaN        NaN   \n",
       "1    -2.23  0.19      ...           0.028           NaN        NaN   \n",
       "2    -2.26  0.19      ...           0.033           NaN        NaN   \n",
       "3    -2.27  0.18      ...           0.029           NaN        NaN   \n",
       "4    -1.68  0.40      ...           0.020           NaN        NaN   \n",
       "\n",
       "   teff_sigma      V_iso  V_iso_err   iso_rad  iso_rad_Err     iso_teff  \\\n",
       "0  358.076660  18.646667   0.593949  0.419426     0.013360  4222.314643   \n",
       "1         NaN  46.221644   1.654124  0.268599     0.009612  3951.132391   \n",
       "2         NaN  57.058377   3.120213  0.269544     0.014740  3875.296173   \n",
       "3         NaN  38.341851   1.534672  0.303899     0.012164  3788.293001   \n",
       "4  249.679932   3.021724   0.095273  0.408648     0.012884  4135.851442   \n",
       "\n",
       "   iso_teff_Err  \n",
       "0         100.0  \n",
       "1         100.0  \n",
       "2         100.0  \n",
       "3         100.0  \n",
       "4         100.0  \n",
       "\n",
       "[5 rows x 51 columns]"
      ]
     },
     "execution_count": 4,
     "metadata": {},
     "output_type": "execute_result"
    }
   ],
   "source": [
    "df = pd.read_csv(data_dir+\"Pleiades_master.csv\", index_col=0)\n",
    "df.head()"
   ]
  },
  {
   "cell_type": "code",
   "execution_count": 55,
   "metadata": {},
   "outputs": [],
   "source": [
    "x = df.bp_rp.values\n",
    "y = (df.phot_g_mean_mag + 5*np.log10(df.parallax*10**(-3) + 1)).values"
   ]
  },
  {
   "cell_type": "markdown",
   "metadata": {},
   "source": [
    "## Plotting"
   ]
  },
  {
   "cell_type": "code",
   "execution_count": 27,
   "metadata": {},
   "outputs": [],
   "source": [
    "import plotly.plotly as py\n",
    "import plotly.graph_objs as go"
   ]
  },
  {
   "cell_type": "markdown",
   "metadata": {},
   "source": [
    "### Static Trace"
   ]
  },
  {
   "cell_type": "code",
   "execution_count": 88,
   "metadata": {},
   "outputs": [],
   "source": [
    "data = []\n",
    "\n",
    "xs = np.arange(0, 4.0, 100)\n",
    "\n",
    "static = go.Scatter(\n",
    "    x = x,\n",
    "    y = y,\n",
    "    mode = 'markers',\n",
    "    )\n",
    "data.append(static)"
   ]
  },
  {
   "cell_type": "code",
   "execution_count": 89,
   "metadata": {},
   "outputs": [],
   "source": [
    "upper_thresh = 2.5* np.log10(2.0)"
   ]
  },
  {
   "cell_type": "markdown",
   "metadata": {},
   "source": [
    "## Polynomial Fitting"
   ]
  },
  {
   "cell_type": "code",
   "execution_count": 90,
   "metadata": {},
   "outputs": [],
   "source": [
    "from scipy.odr import ODR, Data, polynomial"
   ]
  },
  {
   "cell_type": "code",
   "execution_count": 91,
   "metadata": {
    "scrolled": true
   },
   "outputs": [],
   "source": [
    "mydata = Data(x,y)\n",
    "for count, degree in enumerate(range(3,8)):\n",
    "        #z = np.polyfit(x, y, degree, full=True)\n",
    "        #p = np.poly1d(z)\n",
    "        #fit = p(xs)\n",
    "        model = polynomial(degree)\n",
    "        myodr = ODR(mydata, model)\n",
    "        out = myodr.run()\n",
    "        p = np.poly1d(out.beta)\n",
    "        fit = p(xs)\n",
    "        \n",
    "        lower = go.Scatter(\n",
    "            mode = \"lines\",\n",
    "            showlegend = False,\n",
    "            \n",
    "            x = xs,\n",
    "            y = fit - upper_thresh,\n",
    "            fill = \"tonexty\"\n",
    "            )\n",
    "        \n",
    "        trace = go.Scatter(\n",
    "            mode = \"lines\",\n",
    "            name = \"Degree: \".format(degree),\n",
    "            showlegend = False,\n",
    "\n",
    "            x = xs,\n",
    "            y = fit,\n",
    "            fill = \"none\"\n",
    "            )\n",
    "        \n",
    "        upper = go.Scatter(\n",
    "            mode = \"lines\",\n",
    "            name = \"Degree: \".format(degree),\n",
    "            showlegend = False,\n",
    "\n",
    "            x = xs,\n",
    "            y = fit - upper_thresh,\n",
    "            fill = \"tonexty\"\n",
    "            )\n",
    "        \n",
    "        data.append(lower)\n",
    "        data.append(trace)\n",
    "        data.append(upper)"
   ]
  },
  {
   "cell_type": "code",
   "execution_count": 92,
   "metadata": {},
   "outputs": [
    {
     "data": {
      "text/html": [
       "<iframe id=\"igraph\" scrolling=\"no\" style=\"border:none;\" seamless=\"seamless\" src=\"https://plot.ly/~kaimibk/204.embed\" height=\"525px\" width=\"100%\"></iframe>"
      ],
      "text/plain": [
       "<plotly.tools.PlotlyDisplay object>"
      ]
     },
     "execution_count": 92,
     "metadata": {},
     "output_type": "execute_result"
    }
   ],
   "source": [
    "figure = go.Figure(data=data)\n",
    "\n",
    "py.iplot(figure, filename=\"cmd_thresh\")"
   ]
  },
  {
   "cell_type": "code",
   "execution_count": null,
   "metadata": {},
   "outputs": [],
   "source": []
  }
 ],
 "metadata": {
  "kernelspec": {
   "display_name": "Python 3",
   "language": "python",
   "name": "python3"
  },
  "language_info": {
   "codemirror_mode": {
    "name": "ipython",
    "version": 3
   },
   "file_extension": ".py",
   "mimetype": "text/x-python",
   "name": "python",
   "nbconvert_exporter": "python",
   "pygments_lexer": "ipython3",
   "version": "3.6.5"
  },
  "toc": {
   "base_numbering": 1,
   "nav_menu": {},
   "number_sections": true,
   "sideBar": true,
   "skip_h1_title": false,
   "title_cell": "Table of Contents",
   "title_sidebar": "Contents",
   "toc_cell": true,
   "toc_position": {},
   "toc_section_display": true,
   "toc_window_display": false
  },
  "varInspector": {
   "cols": {
    "lenName": 16,
    "lenType": 16,
    "lenVar": 40
   },
   "kernels_config": {
    "python": {
     "delete_cmd_postfix": "",
     "delete_cmd_prefix": "del ",
     "library": "var_list.py",
     "varRefreshCmd": "print(var_dic_list())"
    },
    "r": {
     "delete_cmd_postfix": ") ",
     "delete_cmd_prefix": "rm(",
     "library": "var_list.r",
     "varRefreshCmd": "cat(var_dic_list()) "
    }
   },
   "types_to_exclude": [
    "module",
    "function",
    "builtin_function_or_method",
    "instance",
    "_Feature"
   ],
   "window_display": false
  }
 },
 "nbformat": 4,
 "nbformat_minor": 2
}
