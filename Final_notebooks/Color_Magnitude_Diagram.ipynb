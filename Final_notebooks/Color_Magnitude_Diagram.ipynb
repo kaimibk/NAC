{
 "cells": [
  {
   "cell_type": "markdown",
   "metadata": {
    "toc": true
   },
   "source": [
    "<h1>Table of Contents<span class=\"tocSkip\"></span></h1>\n",
    "<div class=\"toc\"><ul class=\"toc-item\"><li><span><a href=\"#Using-2MASS-Photometry\" data-toc-modified-id=\"Using-2MASS-Photometry-1\"><span class=\"toc-item-num\">1&nbsp;&nbsp;</span>Using 2MASS Photometry</a></span></li><li><span><a href=\"#Using-GAIA-Measurements\" data-toc-modified-id=\"Using-GAIA-Measurements-2\"><span class=\"toc-item-num\">2&nbsp;&nbsp;</span>Using GAIA Measurements</a></span></li></ul></div>"
   ]
  },
  {
   "cell_type": "code",
   "execution_count": 11,
   "metadata": {},
   "outputs": [],
   "source": [
    "import plotly.plotly as py\n",
    "import plotly.graph_objs as go\n",
    "from plotly.tools import make_subplots\n",
    "import pandas as pd\n",
    "from uncertainties import unumpy"
   ]
  },
  {
   "cell_type": "code",
   "execution_count": 7,
   "metadata": {},
   "outputs": [],
   "source": [
    "main_dir = \"/u/kaimibk/Documents/Research/NAC/\"\n",
    "data_dir = main_dir+\"data/\"\n",
    "out_dir = main_dir+\"output/\""
   ]
  },
  {
   "cell_type": "code",
   "execution_count": 8,
   "metadata": {},
   "outputs": [
    {
     "data": {
      "text/html": [
       "<div>\n",
       "<style scoped>\n",
       "    .dataframe tbody tr th:only-of-type {\n",
       "        vertical-align: middle;\n",
       "    }\n",
       "\n",
       "    .dataframe tbody tr th {\n",
       "        vertical-align: top;\n",
       "    }\n",
       "\n",
       "    .dataframe thead th {\n",
       "        text-align: right;\n",
       "    }\n",
       "</style>\n",
       "<table border=\"1\" class=\"dataframe\">\n",
       "  <thead>\n",
       "    <tr style=\"text-align: right;\">\n",
       "      <th></th>\n",
       "      <th>Name</th>\n",
       "      <th>Name.1</th>\n",
       "      <th>RA</th>\n",
       "      <th>Dec</th>\n",
       "      <th>K2MASS</th>\n",
       "      <th>(V-K)o</th>\n",
       "      <th>Period</th>\n",
       "      <th>Ref</th>\n",
       "      <th>BCK</th>\n",
       "      <th>logL/Lo</th>\n",
       "      <th>...</th>\n",
       "      <th>j_msigcom</th>\n",
       "      <th>h_m</th>\n",
       "      <th>h_msigcom</th>\n",
       "      <th>k_m</th>\n",
       "      <th>k_msigcom</th>\n",
       "      <th>iso_rad</th>\n",
       "      <th>iso_rad_Err</th>\n",
       "      <th>radius_sigma</th>\n",
       "      <th>lum_sigma</th>\n",
       "      <th>teff_sigma</th>\n",
       "    </tr>\n",
       "  </thead>\n",
       "  <tbody>\n",
       "    <tr>\n",
       "      <th>0</th>\n",
       "      <td>J03394633+2358531</td>\n",
       "      <td>J03394633+2358531</td>\n",
       "      <td>54.943067</td>\n",
       "      <td>23.981442</td>\n",
       "      <td>11.83</td>\n",
       "      <td>4.89</td>\n",
       "      <td>1.138</td>\n",
       "      <td>1</td>\n",
       "      <td>2.73</td>\n",
       "      <td>-1.66</td>\n",
       "      <td>...</td>\n",
       "      <td>0.026</td>\n",
       "      <td>12.004</td>\n",
       "      <td>0.030</td>\n",
       "      <td>11.830</td>\n",
       "      <td>0.022</td>\n",
       "      <td>0.328400</td>\n",
       "      <td>0.016717</td>\n",
       "      <td>NaN</td>\n",
       "      <td>NaN</td>\n",
       "      <td>358.07666</td>\n",
       "    </tr>\n",
       "    <tr>\n",
       "      <th>1</th>\n",
       "      <td>J03414664+2301198</td>\n",
       "      <td>J03414664+2301198</td>\n",
       "      <td>55.444367</td>\n",
       "      <td>23.022186</td>\n",
       "      <td>13.16</td>\n",
       "      <td>5.63</td>\n",
       "      <td>0.294</td>\n",
       "      <td>1</td>\n",
       "      <td>2.81</td>\n",
       "      <td>-2.23</td>\n",
       "      <td>...</td>\n",
       "      <td>0.024</td>\n",
       "      <td>13.485</td>\n",
       "      <td>0.031</td>\n",
       "      <td>13.162</td>\n",
       "      <td>0.028</td>\n",
       "      <td>0.268599</td>\n",
       "      <td>0.009612</td>\n",
       "      <td>NaN</td>\n",
       "      <td>NaN</td>\n",
       "      <td>NaN</td>\n",
       "    </tr>\n",
       "  </tbody>\n",
       "</table>\n",
       "<p>2 rows × 48 columns</p>\n",
       "</div>"
      ],
      "text/plain": [
       "                Name             Name.1         RA        Dec  K2MASS  (V-K)o  \\\n",
       "0  J03394633+2358531  J03394633+2358531  54.943067  23.981442   11.83    4.89   \n",
       "1  J03414664+2301198  J03414664+2301198  55.444367  23.022186   13.16    5.63   \n",
       "\n",
       "   Period  Ref   BCK  logL/Lo     ...      j_msigcom     h_m  h_msigcom  \\\n",
       "0   1.138    1  2.73    -1.66     ...          0.026  12.004      0.030   \n",
       "1   0.294    1  2.81    -2.23     ...          0.024  13.485      0.031   \n",
       "\n",
       "      k_m  k_msigcom   iso_rad  iso_rad_Err  radius_sigma  lum_sigma  \\\n",
       "0  11.830      0.022  0.328400     0.016717           NaN        NaN   \n",
       "1  13.162      0.028  0.268599     0.009612           NaN        NaN   \n",
       "\n",
       "   teff_sigma  \n",
       "0   358.07666  \n",
       "1         NaN  \n",
       "\n",
       "[2 rows x 48 columns]"
      ]
     },
     "execution_count": 8,
     "metadata": {},
     "output_type": "execute_result"
    }
   ],
   "source": [
    "df = pd.read_csv(data_dir+\"Pleiades_master.csv\", index_col=0)\n",
    "df.head(2)"
   ]
  },
  {
   "cell_type": "markdown",
   "metadata": {},
   "source": [
    "### Using 2MASS Photometry"
   ]
  },
  {
   "cell_type": "markdown",
   "metadata": {},
   "source": [
    "Here we inspect the color magnitude diagram using the *j*, *h*, and *k* magnitudes reported by the 2MASS survey. We investigate *k* vs. *j - k* AND *j* vs. *j - h*."
   ]
  },
  {
   "cell_type": "code",
   "execution_count": 9,
   "metadata": {},
   "outputs": [],
   "source": [
    "j = unumpy.uarray(df.j_m.values, df.j_msigcom.values)\n",
    "h = unumpy.uarray(df.h_m.values, df.h_msigcom.values)\n",
    "k = unumpy.uarray(df.k_m.values, df.k_msigcom.values)"
   ]
  },
  {
   "cell_type": "code",
   "execution_count": 31,
   "metadata": {},
   "outputs": [
    {
     "name": "stdout",
     "output_type": "stream",
     "text": [
      "This is the format of your plot grid:\n",
      "[ (1,1) x1,y1 ]  [ (1,2) x2,y2 ]\n",
      "\n"
     ]
    },
    {
     "data": {
      "text/html": [
       "<iframe id=\"igraph\" scrolling=\"no\" style=\"border:none;\" seamless=\"seamless\" src=\"https://plot.ly/~kaimibk/172.embed\" height=\"525px\" width=\"100%\"></iframe>"
      ],
      "text/plain": [
       "<plotly.tools.PlotlyDisplay object>"
      ]
     },
     "execution_count": 31,
     "metadata": {},
     "output_type": "execute_result"
    }
   ],
   "source": [
    "j_k_trace = go.Scatter(\n",
    "    mode = \"markers\",\n",
    "    text = df.Name,\n",
    "    hoverinfo = \"text+x+y\",\n",
    "    \n",
    "    x = unumpy.nominal_values(j-k),\n",
    "    y = unumpy.nominal_values(k),\n",
    "    \n",
    "    error_x = {\n",
    "        \"type\" : \"data\",\n",
    "        \"array\" : unumpy.std_devs(j-k),\n",
    "        \"visible\" : True,\n",
    "        \"color\" : 'black'\n",
    "        },\n",
    "    error_y = {\n",
    "        \"type\" : \"data\",\n",
    "        \"array\" : unumpy.std_devs(k),\n",
    "        \"visible\" : True,\n",
    "        \"color\" : 'black'\n",
    "        },\n",
    "    marker = {\n",
    "        \"color\" : 'rgba(10, 100, 255, 0.3)',\n",
    "        \"size\" : 10,\n",
    "        \"line\" : {\n",
    "            \"color\" : 'rgb(0, 0, 0)',\n",
    "            \"width\" : 1\n",
    "            }\n",
    "        }\n",
    "    )\n",
    "\n",
    "j_h_trace = go.Scatter(\n",
    "    mode = \"markers\",\n",
    "    text = df.Name,\n",
    "    hoverinfo = \"text+x+y\",\n",
    "    \n",
    "    x = unumpy.nominal_values(j-h),\n",
    "    y = unumpy.nominal_values(h),\n",
    "    \n",
    "    error_x = {\n",
    "        \"type\" : \"data\",\n",
    "        \"array\" : unumpy.std_devs(j-h),\n",
    "        \"visible\" : True,\n",
    "        \"color\" : 'black'\n",
    "        },\n",
    "    error_y = {\n",
    "        \"type\" : \"data\",\n",
    "        \"array\" : unumpy.std_devs(j),\n",
    "        \"visible\" : True,\n",
    "        \"color\" : 'black'\n",
    "        },\n",
    "    marker = {\n",
    "        \"color\" : 'rgba(255, 100, 15, 0.3)',\n",
    "        \"size\" : 10,\n",
    "        \"line\" : {\n",
    "            \"color\" : 'rgb(0, 0, 0)',\n",
    "            \"width\" : 1\n",
    "            }\n",
    "        }\n",
    "    )\n",
    "fig = tools.make_subplots(rows=1, cols=2)\n",
    "fig.append_trace(j_k_trace, 1, 1)\n",
    "fig.append_trace(j_h_trace, 1, 2)\n",
    "\n",
    "fig['layout'].update(showlegend=False)\n",
    "\n",
    "fig['layout']['xaxis1'].update(title='j-k', mirror='ticks', linecolor='black', linewidth=1)\n",
    "fig['layout']['xaxis2'].update(title='j-h', mirror='ticks', linecolor='black', linewidth=1)\n",
    "\n",
    "fig['layout']['yaxis1'].update(title='k', autorange = 'reversed', mirror='ticks', linecolor='black', linewidth=1)\n",
    "fig['layout']['yaxis2'].update(title='j', autorange = 'reversed', mirror='ticks', linecolor='black', linewidth=1)\n",
    "\n",
    "\n",
    "\n",
    "py.iplot(fig, filename=\"cmd_2mass_jk\")"
   ]
  },
  {
   "cell_type": "markdown",
   "metadata": {},
   "source": [
    "### Using GAIA Measurements"
   ]
  },
  {
   "cell_type": "markdown",
   "metadata": {},
   "source": [
    "Here we inspect the color magnitude diagram using information provided by the GAIA survey, specifically *bp_rp*, color, and *phot_g_mean_mag*, apparent magnitude. Recall that apparent magnitude is converted using the following relation,\n",
    "\n",
    "$$M = m + 5(\\log_{10} p + 1)$$"
   ]
  },
  {
   "cell_type": "code",
   "execution_count": 21,
   "metadata": {},
   "outputs": [],
   "source": [
    "df[\"gaia_abs_mag\"] = df.phot_g_mean_mag + 5*np.log10(df.parallax + 1)"
   ]
  },
  {
   "cell_type": "code",
   "execution_count": 24,
   "metadata": {},
   "outputs": [
    {
     "data": {
      "text/plain": [
       "0    15.574630\n",
       "1    17.335994\n",
       "2    17.800427\n",
       "3    17.504567\n",
       "4    15.654725\n",
       "Name: gaia_abs_mag, dtype: float64"
      ]
     },
     "execution_count": 24,
     "metadata": {},
     "output_type": "execute_result"
    }
   ],
   "source": [
    "df.gaia_abs_mag.head(5)"
   ]
  },
  {
   "cell_type": "code",
   "execution_count": 28,
   "metadata": {},
   "outputs": [
    {
     "data": {
      "text/html": [
       "<iframe id=\"igraph\" scrolling=\"no\" style=\"border:none;\" seamless=\"seamless\" src=\"https://plot.ly/~kaimibk/176.embed\" height=\"525px\" width=\"100%\"></iframe>"
      ],
      "text/plain": [
       "<plotly.tools.PlotlyDisplay object>"
      ]
     },
     "execution_count": 28,
     "metadata": {},
     "output_type": "execute_result"
    }
   ],
   "source": [
    "gaia_trace = go.Scatter(\n",
    "    mode = \"markers\",\n",
    "    text = df.Name,\n",
    "    hoverinfo = \"text+x+y\",\n",
    "    \n",
    "    x = df.bp_rp,\n",
    "    y = df.gaia_abs_mag,\n",
    "\n",
    "    marker = {\n",
    "        \"color\" : 'rgba(15, 255, 100, 0.3)',\n",
    "        \"size\" : 10,\n",
    "        \"line\" : {\n",
    "            \"color\" : 'rgb(0, 0, 0)',\n",
    "            \"width\" : 1\n",
    "            }\n",
    "        }\n",
    "    )\n",
    "\n",
    "layout = go.Layout(\n",
    "            xaxis={\n",
    "                \"title\" : \"bp_rp\",\n",
    "                \"mirror\" : \"ticks\",\n",
    "                \"linecolor\" : \"black\",\n",
    "                \"linewidth\" : 1\n",
    "            },\n",
    "            yaxis={\n",
    "                \"title\" : \"M_G\",\n",
    "                \"mirror\" : \"ticks\",\n",
    "                \"linecolor\" : \"black\",\n",
    "                \"linewidth\" : 1,\n",
    "                \"autorange\" : \"reversed\"\n",
    "            },\n",
    "    )\n",
    "\n",
    "figure = go.Figure(data=[gaia_trace], layout=layout)\n",
    "\n",
    "py.iplot(figure, filename=\"cmd_gaia\")"
   ]
  },
  {
   "cell_type": "code",
   "execution_count": 34,
   "metadata": {},
   "outputs": [
    {
     "name": "stderr",
     "output_type": "stream",
     "text": [
      "/u/kaimibk/miniconda3/lib/python3.6/site-packages/plotly/graph_objs/_deprecations.py:318: DeprecationWarning:\n",
      "\n",
      "plotly.graph_objs.Font is deprecated.\n",
      "Please replace it with one of the following more specific types\n",
      "  - plotly.graph_objs.layout.Font\n",
      "  - plotly.graph_objs.layout.hoverlabel.Font\n",
      "  - etc.\n",
      "\n",
      "\n"
     ]
    },
    {
     "name": "stdout",
     "output_type": "stream",
     "text": [
      "This is the format of your plot grid:\n",
      "[ (1,1) x1,y1 ]  [ (1,2) x2,y2 ]\n",
      "[ (2,1) x3,y3           -      ]\n",
      "\n"
     ]
    },
    {
     "data": {
      "text/html": [
       "<iframe id=\"igraph\" scrolling=\"no\" style=\"border:none;\" seamless=\"seamless\" src=\"https://plot.ly/~kaimibk/180.embed\" height=\"525px\" width=\"100%\"></iframe>"
      ],
      "text/plain": [
       "<plotly.tools.PlotlyDisplay object>"
      ]
     },
     "execution_count": 34,
     "metadata": {},
     "output_type": "execute_result"
    }
   ],
   "source": [
    "fig = tools.make_subplots(rows=2, cols=2, specs=[[{}, {}], [{'colspan': 2}, None]],\n",
    "                          subplot_titles=('2MASS J-K','2MASS J-H', 'GAIA G Magnitude'))\n",
    "\n",
    "fig.append_trace(j_k_trace, 1, 1)\n",
    "fig.append_trace(j_h_trace, 1, 2)\n",
    "fig.append_trace(gaia_trace, 2, 1)\n",
    "\n",
    "fig['layout'].update(showlegend=False)\n",
    "\n",
    "fig['layout']['xaxis1'].update(title='j-k', mirror='ticks', linecolor='black', linewidth=1)\n",
    "fig['layout']['xaxis2'].update(title='j-h', mirror='ticks', linecolor='black', linewidth=1)\n",
    "fig['layout']['xaxis3'].update(title='bp_rp', mirror='ticks', linecolor='black', linewidth=1)\n",
    "\n",
    "\n",
    "fig['layout']['yaxis1'].update(title='k', autorange = 'reversed', mirror='ticks', linecolor='black', linewidth=1)\n",
    "fig['layout']['yaxis2'].update(title='j', autorange = 'reversed', mirror='ticks', linecolor='black', linewidth=1)\n",
    "fig['layout']['yaxis3'].update(title='M_G', autorange = 'reversed', mirror='ticks', linecolor='black', linewidth=1)\n",
    "\n",
    "\n",
    "py.iplot(fig, filename='cmd_combined')"
   ]
  },
  {
   "cell_type": "code",
   "execution_count": null,
   "metadata": {},
   "outputs": [],
   "source": []
  }
 ],
 "metadata": {
  "kernelspec": {
   "display_name": "Python 3",
   "language": "python",
   "name": "python3"
  },
  "language_info": {
   "codemirror_mode": {
    "name": "ipython",
    "version": 3
   },
   "file_extension": ".py",
   "mimetype": "text/x-python",
   "name": "python",
   "nbconvert_exporter": "python",
   "pygments_lexer": "ipython3",
   "version": "3.6.5"
  },
  "toc": {
   "base_numbering": 1,
   "nav_menu": {},
   "number_sections": true,
   "sideBar": true,
   "skip_h1_title": false,
   "title_cell": "Table of Contents",
   "title_sidebar": "Contents",
   "toc_cell": true,
   "toc_position": {},
   "toc_section_display": true,
   "toc_window_display": true
  },
  "varInspector": {
   "cols": {
    "lenName": 16,
    "lenType": 16,
    "lenVar": 40
   },
   "kernels_config": {
    "python": {
     "delete_cmd_postfix": "",
     "delete_cmd_prefix": "del ",
     "library": "var_list.py",
     "varRefreshCmd": "print(var_dic_list())"
    },
    "r": {
     "delete_cmd_postfix": ") ",
     "delete_cmd_prefix": "rm(",
     "library": "var_list.r",
     "varRefreshCmd": "cat(var_dic_list()) "
    }
   },
   "types_to_exclude": [
    "module",
    "function",
    "builtin_function_or_method",
    "instance",
    "_Feature"
   ],
   "window_display": false
  }
 },
 "nbformat": 4,
 "nbformat_minor": 2
}
