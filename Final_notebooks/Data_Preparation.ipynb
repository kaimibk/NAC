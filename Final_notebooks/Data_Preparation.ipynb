{
 "cells": [
  {
   "cell_type": "markdown",
   "metadata": {
    "toc": true
   },
   "source": [
    "<h1>Table of Contents<span class=\"tocSkip\"></span></h1>\n",
    "<div class=\"toc\"><ul class=\"toc-item\"><li><span><a href=\"#Merging-Data-from-Jackson-et-al-(2018)\" data-toc-modified-id=\"Merging-Data-from-Jackson-et-al-(2018)-1\"><span class=\"toc-item-num\">1&nbsp;&nbsp;</span>Merging Data from Jackson et al (2018)</a></span><ul class=\"toc-item\"><li><span><a href=\"#Parsing-Table-2\" data-toc-modified-id=\"Parsing-Table-2-1.1\"><span class=\"toc-item-num\">1.1&nbsp;&nbsp;</span>Parsing Table 2</a></span></li><li><span><a href=\"#Parsing-Table-4\" data-toc-modified-id=\"Parsing-Table-4-1.2\"><span class=\"toc-item-num\">1.2&nbsp;&nbsp;</span>Parsing Table 4</a></span></li><li><span><a href=\"#Merging-and-Unit-Correction\" data-toc-modified-id=\"Merging-and-Unit-Correction-1.3\"><span class=\"toc-item-num\">1.3&nbsp;&nbsp;</span>Merging and Unit Correction</a></span></li></ul></li><li><span><a href=\"#Query-GAIA-DR2-and-2MASS\" data-toc-modified-id=\"Query-GAIA-DR2-and-2MASS-2\"><span class=\"toc-item-num\">2&nbsp;&nbsp;</span>Query GAIA DR2 and 2MASS</a></span></li><li><span><a href=\"#Isoclassify-$R_*$-Calculations\" data-toc-modified-id=\"Isoclassify-$R_*$-Calculations-3\"><span class=\"toc-item-num\">3&nbsp;&nbsp;</span>Isoclassify $R_*$ Calculations</a></span><ul class=\"toc-item\"><li><span><a href=\"#Convert-Data-to-Isoclassify-readable-format\" data-toc-modified-id=\"Convert-Data-to-Isoclassify-readable-format-3.1\"><span class=\"toc-item-num\">3.1&nbsp;&nbsp;</span>Convert Data to Isoclassify readable format</a></span></li><li><span><a href=\"#Executing-Isoclassify\" data-toc-modified-id=\"Executing-Isoclassify-3.2\"><span class=\"toc-item-num\">3.2&nbsp;&nbsp;</span>Executing Isoclassify</a></span></li></ul></li></ul></div>"
   ]
  },
  {
   "cell_type": "code",
   "execution_count": 1,
   "metadata": {},
   "outputs": [],
   "source": [
    "import pandas as pd"
   ]
  },
  {
   "cell_type": "code",
   "execution_count": 2,
   "metadata": {},
   "outputs": [],
   "source": [
    "main_dir = \"/u/kaimibk/Documents/Research/NAC/\"\n",
    "data_dir = main_dir+\"data/\"\n",
    "out_dir = main_dir+\"output/\""
   ]
  },
  {
   "cell_type": "markdown",
   "metadata": {},
   "source": [
    "## Merging Data from Jackson et al (2018)"
   ]
  },
  {
   "cell_type": "markdown",
   "metadata": {},
   "source": [
    "### Parsing Table 2"
   ]
  },
  {
   "cell_type": "code",
   "execution_count": 3,
   "metadata": {},
   "outputs": [],
   "source": [
    "df_j1 = pd.read_csv(data_dir+\"MN_17_3616_MJ_Table2.csv\")\n",
    "# save units row\n",
    "j1_units = df_j1.loc[0]\n",
    "# drop units row\n",
    "df_j1 = df_j1.drop(0)\n",
    "# Set index to \"Name\" column\n",
    "df_j1 = df_j1.set_index(\"Name\")"
   ]
  },
  {
   "cell_type": "markdown",
   "metadata": {},
   "source": [
    "### Parsing Table 4"
   ]
  },
  {
   "cell_type": "code",
   "execution_count": 4,
   "metadata": {},
   "outputs": [],
   "source": [
    "df_j2 = pd.read_csv(data_dir+\"MN_17_3616_MJ_Table4.csv\")\n",
    "# save units row\n",
    "j2_units = df_j2.loc[0]\n",
    "# drop units row\n",
    "df_j2 = df_j2.drop(0)\n",
    "# drop repeat columns\n",
    "df_j2 = df_j2.drop(columns=[\"PERIOD\", \"logL/Lo\"])\n",
    "# Set index to \"Name\" column\n",
    "df_j2 = df_j2.set_index(\"Name\")"
   ]
  },
  {
   "cell_type": "markdown",
   "metadata": {},
   "source": [
    "### Merging and Unit Correction"
   ]
  },
  {
   "cell_type": "code",
   "execution_count": 5,
   "metadata": {},
   "outputs": [],
   "source": [
    "from astropy.coordinates import SkyCoord\n",
    "import astropy.units as u"
   ]
  },
  {
   "cell_type": "code",
   "execution_count": 6,
   "metadata": {},
   "outputs": [],
   "source": [
    "df = pd.concat([df_j1, df_j2], axis=1)"
   ]
  },
  {
   "cell_type": "code",
   "execution_count": 7,
   "metadata": {},
   "outputs": [],
   "source": [
    "temp = SkyCoord(ra=df.RA, dec=df.Dec, unit=(u.hourangle, u.deg))\n",
    "df.RA, df.Dec = temp.ra.degree, temp.dec.degree\n",
    "del temp"
   ]
  },
  {
   "cell_type": "code",
   "execution_count": 8,
   "metadata": {},
   "outputs": [],
   "source": [
    "'''\n",
    "If the VSINI is an upper limit (containing \"<\"), we shall use a flat distribution,\n",
    "other wise we assume a uniform distribution centered at VSINI with std_dev = EVSINI.\n",
    "So I am adding a column to reflect that for future reference.\n",
    "'''\n",
    "df[\"distribution\"] = df.VSINI.apply(lambda x: \"flat\" if \"<\" in x else \"uniform\")"
   ]
  },
  {
   "cell_type": "code",
   "execution_count": 9,
   "metadata": {},
   "outputs": [],
   "source": [
    "df.to_csv(data_dir+\"Pleiades_master.csv\")"
   ]
  },
  {
   "cell_type": "markdown",
   "metadata": {},
   "source": [
    "## Query GAIA DR2 and 2MASS"
   ]
  },
  {
   "cell_type": "code",
   "execution_count": 4,
   "metadata": {},
   "outputs": [],
   "source": [
    "df = pd.read_csv(data_dir+\"Pleiades_master.csv\")"
   ]
  },
  {
   "cell_type": "code",
   "execution_count": 11,
   "metadata": {},
   "outputs": [
    {
     "name": "stdout",
     "output_type": "stream",
     "text": [
      "Created TAP+ (v1.0.1) - Connection:\n",
      "\tHost: gea.esac.esa.int\n",
      "\tUse HTTPS: False\n",
      "\tPort: 80\n",
      "\tSSL Port: 443\n"
     ]
    }
   ],
   "source": [
    "from Queries import query_survey"
   ]
  },
  {
   "cell_type": "code",
   "execution_count": 12,
   "metadata": {},
   "outputs": [],
   "source": [
    "gaia_features = [\n",
    "        \"parallax\", \"parallax_error\",\n",
    "        \"radius_val\", \"radius_percentile_lower\", \"radius_percentile_upper\",\n",
    "        \"lum_val\", \"lum_percentile_lower\", \"lum_percentile_upper\",\n",
    "        \"teff_val\", \"teff_percentile_lower\", \"teff_percentile_upper\",\n",
    "        \"bp_rp\", \"phot_g_mean_mag\"\n",
    "    ]\n",
    "TMASS_features = [\n",
    "        \"j_m\", \"j_msigcom\", \n",
    "        \"h_m\", \"h_msigcom\",\n",
    "        \"k_m\", \"k_msigcom\"\n",
    "   ]"
   ]
  },
  {
   "cell_type": "code",
   "execution_count": 13,
   "metadata": {},
   "outputs": [],
   "source": [
    "def query(row):\n",
    "    if row % 10 == 0:\n",
    "        print(\"Inspecting row {}\".format(row))\n",
    "    global gaia_features\n",
    "    global TMASS_features\n",
    "    \n",
    "    query_survey(df, row, features=gaia_features, survey='GAIA')\n",
    "    query_survey(df, row, features=TMASS_features, survey='2MASS')"
   ]
  },
  {
   "cell_type": "code",
   "execution_count": 16,
   "metadata": {
    "scrolled": true
   },
   "outputs": [
    {
     "name": "stdout",
     "output_type": "stream",
     "text": [
      "Inspecting row 0\n"
     ]
    },
    {
     "name": "stderr",
     "output_type": "stream",
     "text": [
      "WARNING: W27: None:3:0: W27: COOSYS deprecated in VOTable 1.2 [astropy.io.votable.tree]\n",
      "WARNING: W35: None:5:0: W35: 'value' attribute required for INFO elements [astropy.io.votable.tree]\n",
      "WARNING: W35: None:6:0: W35: 'value' attribute required for INFO elements [astropy.io.votable.tree]\n",
      "WARNING: W35: None:7:0: W35: 'value' attribute required for INFO elements [astropy.io.votable.tree]\n",
      "WARNING: W35: None:8:0: W35: 'value' attribute required for INFO elements [astropy.io.votable.tree]\n",
      "WARNING: W35: None:10:0: W35: 'value' attribute required for INFO elements [astropy.io.votable.tree]\n",
      "WARNING: W06: None:46:0: W06: Invalid UCD 'arith.ratio': Secondary word 'arith.ratio' is not valid as a primary word [astropy.io.votable.tree]\n",
      "WARNING: W50: None:49:0: W50: Invalid unit string 'mas.yr**-1' [astropy.io.votable.tree]\n",
      "WARNING: W50: None:52:0: W50: Invalid unit string 'mas.yr**-1' [astropy.io.votable.tree]\n",
      "WARNING: W50: None:55:0: W50: Invalid unit string 'mas.yr**-1' [astropy.io.votable.tree]\n",
      "WARNING: W50: None:58:0: W50: Invalid unit string 'mas.yr**-1' [astropy.io.votable.tree]\n",
      "WARNING: W50: None:121:0: W50: Invalid unit string 'mas**-2' [astropy.io.votable.tree]\n",
      "WARNING: W50: None:124:0: W50: Invalid unit string 'um**-1' [astropy.io.votable.tree]\n",
      "WARNING: W06: None:127:0: W06: Invalid UCD 'em.wavenumber;stat.error': Primary word 'stat.error' is not valid as a secondary word [astropy.io.votable.tree]\n",
      "WARNING: W50: None:127:0: W50: Invalid unit string 'um**-1' [astropy.io.votable.tree]\n",
      "WARNING: W06: None:139:0: W06: Invalid UCD 'pos.errorEllipse;stat.max': Secondary word 'pos.errorEllipse' is not valid as a primary word [astropy.io.votable.tree]\n",
      "WARNING: W50: None:154:0: W50: Invalid unit string ''electron'.s**-1' [astropy.io.votable.tree]\n",
      "WARNING: W50: None:157:0: W50: Invalid unit string ''electron'.s**-1' [astropy.io.votable.tree]\n",
      "WARNING: W06: None:160:0: W06: Invalid UCD 'arith.ratio': Secondary word 'arith.ratio' is not valid as a primary word [astropy.io.votable.tree]\n",
      "WARNING: W50: None:169:0: W50: Invalid unit string ''electron'.s**-1' (suppressing further warnings of this type...) [astropy.io.votable.tree]\n",
      "WARNING: W06: None:175:0: W06: Invalid UCD 'arith.ratio': Secondary word 'arith.ratio' is not valid as a primary word [astropy.io.votable.tree]\n",
      "WARNING: W06: None:190:0: W06: Invalid UCD 'arith.ratio': Secondary word 'arith.ratio' is not valid as a primary word [astropy.io.votable.tree]\n",
      "WARNING: W06: None:202:0: W06: Invalid UCD 'phot.color': Unknown word 'phot.color' [astropy.io.votable.tree]\n",
      "WARNING: W06: None:205:0: W06: Invalid UCD 'phot.color': Unknown word 'phot.color' [astropy.io.votable.tree]\n",
      "WARNING: W06: None:208:0: W06: Invalid UCD 'phot.color': Unknown word 'phot.color' [astropy.io.votable.tree]\n",
      "WARNING: W06: None:280:0: W06: Invalid UCD 'phys.size.radius;stat.error': Primary word 'stat.error' is not valid as a secondary word (suppressing further warnings of this type...) [astropy.io.votable.tree]\n"
     ]
    },
    {
     "name": "stdout",
     "output_type": "stream",
     "text": [
      "Inspecting row 10\n",
      "Inspecting row 20\n",
      "Inspecting row 30\n",
      "Inspecting row 40\n",
      "Inspecting row 50\n",
      "Inspecting row 60\n",
      "Inspecting row 70\n",
      "Inspecting row 80\n",
      "Inspecting row 90\n",
      "Inspecting row 100\n",
      "Inspecting row 110\n",
      "Inspecting row 120\n",
      "Inspecting row 130\n",
      "Inspecting row 140\n",
      "Inspecting row 150\n",
      "Inspecting row 160\n",
      "Inspecting row 170\n",
      "Inspecting row 180\n",
      "Inspecting row 190\n",
      "Inspecting row 200\n",
      "Inspecting row 210\n",
      "Inspecting row 220\n",
      "Inspecting row 230\n",
      "Inspecting row 240\n",
      "Inspecting row 250\n",
      "Inspecting row 260\n",
      "Inspecting row 270\n",
      "Inspecting row 280\n",
      "Inspecting row 290\n",
      "Inspecting row 300\n",
      "Inspecting row 310\n"
     ]
    }
   ],
   "source": [
    "N = len(df)\n",
    "for i in range(N):\n",
    "    query(i)"
   ]
  },
  {
   "cell_type": "code",
   "execution_count": 18,
   "metadata": {},
   "outputs": [
    {
     "data": {
      "text/html": [
       "<div>\n",
       "<style scoped>\n",
       "    .dataframe tbody tr th:only-of-type {\n",
       "        vertical-align: middle;\n",
       "    }\n",
       "\n",
       "    .dataframe tbody tr th {\n",
       "        vertical-align: top;\n",
       "    }\n",
       "\n",
       "    .dataframe thead th {\n",
       "        text-align: right;\n",
       "    }\n",
       "</style>\n",
       "<table border=\"1\" class=\"dataframe\">\n",
       "  <thead>\n",
       "    <tr style=\"text-align: right;\">\n",
       "      <th></th>\n",
       "      <th>Name</th>\n",
       "      <th>RA</th>\n",
       "      <th>Dec</th>\n",
       "      <th>K2MASS</th>\n",
       "      <th>(V-K)o</th>\n",
       "      <th>Period</th>\n",
       "      <th>Ref</th>\n",
       "      <th>BCK</th>\n",
       "      <th>logL/Lo</th>\n",
       "      <th>M/Mo</th>\n",
       "      <th>...</th>\n",
       "      <th>teff_percentile_lower</th>\n",
       "      <th>teff_percentile_upper</th>\n",
       "      <th>bp_rp</th>\n",
       "      <th>phot_g_mean_mag</th>\n",
       "      <th>j_m</th>\n",
       "      <th>j_msigcom</th>\n",
       "      <th>h_m</th>\n",
       "      <th>h_msigcom</th>\n",
       "      <th>k_m</th>\n",
       "      <th>k_msigcom</th>\n",
       "    </tr>\n",
       "  </thead>\n",
       "  <tbody>\n",
       "    <tr>\n",
       "      <th>314</th>\n",
       "      <td>J03511685+2349357</td>\n",
       "      <td>57.820233</td>\n",
       "      <td>23.826606</td>\n",
       "      <td>9.96</td>\n",
       "      <td>2.33</td>\n",
       "      <td>7.947</td>\n",
       "      <td>1</td>\n",
       "      <td>2.00</td>\n",
       "      <td>-0.62</td>\n",
       "      <td>0.80</td>\n",
       "      <td>...</td>\n",
       "      <td>4892.000000</td>\n",
       "      <td>5084.000000</td>\n",
       "      <td>1.245935</td>\n",
       "      <td>12.095963</td>\n",
       "      <td>10.616</td>\n",
       "      <td>0.021</td>\n",
       "      <td>10.077</td>\n",
       "      <td>0.029</td>\n",
       "      <td>9.957</td>\n",
       "      <td>0.021</td>\n",
       "    </tr>\n",
       "    <tr>\n",
       "      <th>315</th>\n",
       "      <td>J03512213+2509580</td>\n",
       "      <td>57.842225</td>\n",
       "      <td>25.166136</td>\n",
       "      <td>10.66</td>\n",
       "      <td>3.51</td>\n",
       "      <td>7.569</td>\n",
       "      <td>1</td>\n",
       "      <td>2.49</td>\n",
       "      <td>-1.10</td>\n",
       "      <td>0.62</td>\n",
       "      <td>...</td>\n",
       "      <td>3879.803467</td>\n",
       "      <td>4446.470215</td>\n",
       "      <td>1.820186</td>\n",
       "      <td>13.620668</td>\n",
       "      <td>11.493</td>\n",
       "      <td>0.021</td>\n",
       "      <td>10.828</td>\n",
       "      <td>0.015</td>\n",
       "      <td>10.655</td>\n",
       "      <td>0.021</td>\n",
       "    </tr>\n",
       "    <tr>\n",
       "      <th>316</th>\n",
       "      <td>J03512440+2405147</td>\n",
       "      <td>58.348742</td>\n",
       "      <td>24.065061</td>\n",
       "      <td>10.27</td>\n",
       "      <td>3.14</td>\n",
       "      <td>5.469</td>\n",
       "      <td>3</td>\n",
       "      <td>2.37</td>\n",
       "      <td>-0.89</td>\n",
       "      <td>0.69</td>\n",
       "      <td>...</td>\n",
       "      <td>5240.000000</td>\n",
       "      <td>5772.000000</td>\n",
       "      <td>1.009373</td>\n",
       "      <td>11.162713</td>\n",
       "      <td>9.949</td>\n",
       "      <td>0.022</td>\n",
       "      <td>9.564</td>\n",
       "      <td>0.027</td>\n",
       "      <td>9.439</td>\n",
       "      <td>0.021</td>\n",
       "    </tr>\n",
       "    <tr>\n",
       "      <th>317</th>\n",
       "      <td>J03512993+2353572</td>\n",
       "      <td>58.348742</td>\n",
       "      <td>24.065061</td>\n",
       "      <td>10.30</td>\n",
       "      <td>3.06</td>\n",
       "      <td>0.884</td>\n",
       "      <td>3</td>\n",
       "      <td>2.34</td>\n",
       "      <td>-0.89</td>\n",
       "      <td>0.70</td>\n",
       "      <td>...</td>\n",
       "      <td>5240.000000</td>\n",
       "      <td>5772.000000</td>\n",
       "      <td>1.009373</td>\n",
       "      <td>11.162713</td>\n",
       "      <td>9.949</td>\n",
       "      <td>0.022</td>\n",
       "      <td>9.564</td>\n",
       "      <td>0.027</td>\n",
       "      <td>9.439</td>\n",
       "      <td>0.021</td>\n",
       "    </tr>\n",
       "    <tr>\n",
       "      <th>318</th>\n",
       "      <td>J03514044+2458594</td>\n",
       "      <td>57.918500</td>\n",
       "      <td>24.983186</td>\n",
       "      <td>9.14</td>\n",
       "      <td>1.67</td>\n",
       "      <td>3.370</td>\n",
       "      <td>1</td>\n",
       "      <td>1.59</td>\n",
       "      <td>-0.13</td>\n",
       "      <td>1.01</td>\n",
       "      <td>...</td>\n",
       "      <td>5298.000000</td>\n",
       "      <td>5625.000000</td>\n",
       "      <td>0.916104</td>\n",
       "      <td>10.697075</td>\n",
       "      <td>9.535</td>\n",
       "      <td>0.021</td>\n",
       "      <td>9.219</td>\n",
       "      <td>0.015</td>\n",
       "      <td>9.137</td>\n",
       "      <td>0.022</td>\n",
       "    </tr>\n",
       "  </tbody>\n",
       "</table>\n",
       "<p>5 rows × 42 columns</p>\n",
       "</div>"
      ],
      "text/plain": [
       "                  Name         RA        Dec  K2MASS  (V-K)o  Period  Ref  \\\n",
       "314  J03511685+2349357  57.820233  23.826606    9.96    2.33   7.947    1   \n",
       "315  J03512213+2509580  57.842225  25.166136   10.66    3.51   7.569    1   \n",
       "316  J03512440+2405147  58.348742  24.065061   10.27    3.14   5.469    3   \n",
       "317  J03512993+2353572  58.348742  24.065061   10.30    3.06   0.884    3   \n",
       "318  J03514044+2458594  57.918500  24.983186    9.14    1.67   3.370    1   \n",
       "\n",
       "      BCK  logL/Lo  M/Mo    ...     teff_percentile_lower  \\\n",
       "314  2.00    -0.62  0.80    ...               4892.000000   \n",
       "315  2.49    -1.10  0.62    ...               3879.803467   \n",
       "316  2.37    -0.89  0.69    ...               5240.000000   \n",
       "317  2.34    -0.89  0.70    ...               5240.000000   \n",
       "318  1.59    -0.13  1.01    ...               5298.000000   \n",
       "\n",
       "     teff_percentile_upper     bp_rp  phot_g_mean_mag     j_m  j_msigcom  \\\n",
       "314            5084.000000  1.245935        12.095963  10.616      0.021   \n",
       "315            4446.470215  1.820186        13.620668  11.493      0.021   \n",
       "316            5772.000000  1.009373        11.162713   9.949      0.022   \n",
       "317            5772.000000  1.009373        11.162713   9.949      0.022   \n",
       "318            5625.000000  0.916104        10.697075   9.535      0.021   \n",
       "\n",
       "        h_m  h_msigcom     k_m k_msigcom  \n",
       "314  10.077      0.029   9.957     0.021  \n",
       "315  10.828      0.015  10.655     0.021  \n",
       "316   9.564      0.027   9.439     0.021  \n",
       "317   9.564      0.027   9.439     0.021  \n",
       "318   9.219      0.015   9.137     0.022  \n",
       "\n",
       "[5 rows x 42 columns]"
      ]
     },
     "execution_count": 18,
     "metadata": {},
     "output_type": "execute_result"
    }
   ],
   "source": [
    "df.tail(5)"
   ]
  },
  {
   "cell_type": "code",
   "execution_count": 5,
   "metadata": {},
   "outputs": [],
   "source": [
    "df[\"radius_sigma\"] = pd.DataFrame([df[\"radius_percentile_upper\"] - df[\"radius_val\"],\n",
    "                                 df[\"radius_val\"] - df[\"radius_percentile_lower\"]]).mean(axis=0)\n",
    "\n",
    "df[\"lum_sigma\"] = pd.DataFrame([df[\"lum_percentile_upper\"] - df[\"lum_val\"],\n",
    "                                 df[\"lum_val\"] - df[\"lum_percentile_lower\"]]).mean(axis=0)\n",
    "\n",
    "df[\"teff_sigma\"] = pd.DataFrame([df[\"teff_percentile_upper\"] - df[\"teff_val\"],\n",
    "                                 df[\"teff_val\"] - df[\"teff_percentile_lower\"]]).mean(axis=0)"
   ]
  },
  {
   "cell_type": "code",
   "execution_count": 6,
   "metadata": {},
   "outputs": [],
   "source": [
    "df.to_csv(data_dir+\"Pleiades_master.csv\")"
   ]
  },
  {
   "cell_type": "markdown",
   "metadata": {},
   "source": [
    "## Isoclassify $R_*$ Calculations"
   ]
  },
  {
   "cell_type": "markdown",
   "metadata": {},
   "source": [
    "### Convert Data to Isoclassify readable format"
   ]
  },
  {
   "cell_type": "code",
   "execution_count": 30,
   "metadata": {},
   "outputs": [],
   "source": [
    "df = pd.read_csv(data_dir+\"Pleiades_master.csv\")\n",
    "df[\"band\"] = \"kmag\"\n",
    "df[\"parallax\"] = df[\"parallax\"] * 10 ** (-3)\n",
    "df[\"parallax_error\"] = df[\"parallax_error\"] * 10 ** (-3)\n",
    "df[\"Index\"] = df.index\n",
    "df_iso = df[[\"Index\", \"RA\", \"Dec\", \n",
    "              \"parallax\", \n",
    "              \"parallax_error\",\n",
    "              \"j_m\", \"j_msigcom\",\n",
    "              \"h_m\", \"h_msigcom\",\n",
    "              \"k_m\", \"k_msigcom\", \"band\", \"Name\"\n",
    "             ]]\n",
    "df_iso.columns = [\"id_starname\", \"ra\",\"dec\",\n",
    "                  \"parallax\",\"parallax_err\",\n",
    "                  \"jmag\",\"jmag_err\",\"hmag\",\n",
    "                  \"hmag_err\",\"kmag\",\"kmag_err\",\n",
    "                  \"band\",\"comments\"]\n",
    "df = df.drop(columns=\"Index\")\n",
    "df_iso.to_csv(main_dir+\"Pleiades_iso.csv\")\n",
    "df.index = df.Name"
   ]
  },
  {
   "cell_type": "markdown",
   "metadata": {},
   "source": [
    "### Executing Isoclassify"
   ]
  },
  {
   "cell_type": "code",
   "execution_count": 31,
   "metadata": {},
   "outputs": [],
   "source": [
    "import sys\n",
    "from os.path import isdir, isfile\n",
    "sys.path.append(\"/u/kaimibk/Documents/scripts/isoclassify/\")\n",
    "from isoclassify import *"
   ]
  },
  {
   "cell_type": "code",
   "execution_count": 32,
   "metadata": {},
   "outputs": [],
   "source": [
    "k = 0\n",
    "for idx, row in df.iterrows():\n",
    "    out_dir = main_dir+\"output/{}/\".format(idx)\n",
    "    \n",
    "    if isdir(out_dir) == False:\n",
    "        os.makedirs(out_dir)\n",
    "    if isfile(out_dir+\"output.csv\"):\n",
    "        df2 = pd.read_csv(out_dir+\"output.csv\")\n",
    "        ## retrieve radius\n",
    "        df.at[idx, \"iso_rad\"] = float(df2.loc[df2['id_starname'] == 'dir_rad'][str(k)].values)\n",
    "        df.at[idx, \"iso_rad_Err\"] = float(df2.loc[df2['id_starname'] == 'dir_rad_err1'][str(k)].values)\n",
    "        ## retrieve teff\n",
    "        df.at[idx, \"iso_teff\"] = float(df2.loc[df2['id_starname'] == 'dir_teff'][str(k)].values)\n",
    "        df.at[idx, \"iso_teff_Err\"] = float(df2.loc[df2['id_starname'] == 'dir_teff_err1'][str(k)].values)\n",
    "    \n",
    "    else:\n",
    "        kwargs={'method': 'direct', \n",
    "                'id_starname': i, \n",
    "                'csv': main_dir+\"Pleiades_iso.csv\", \n",
    "                'outdir': out_dir, 'dust': 'allsky'}\n",
    "        run(**kwargs);\n",
    "    \n",
    "        df2 = pd.read_csv(out_dir+\"output.csv\")\n",
    "        df2.columns = range(len(columns))\n",
    "        \n",
    "        row[\"iso_rad\"] = float(df2.loc[df2['id_starname'] == 'dir_rad'][str(k)].values)\n",
    "        row[\"iso_rad_Err\"] = float(df2.loc[df2['id_starname'] == 'dir_rad_err1'][str(k)].values)\n",
    "        \n",
    "    k += 1"
   ]
  },
  {
   "cell_type": "code",
   "execution_count": 33,
   "metadata": {},
   "outputs": [
    {
     "name": "stdout",
     "output_type": "stream",
     "text": [
      "The following radii could not be estimated...\n",
      "\t ['J03424239+2320218' 'J03440167+2351462' 'J03442065+2415109'\n",
      " 'J03461984+2459015' 'J03471528+2506554' 'J03473345+2341330'\n",
      " 'J03474785+2513345' 'J03481608+2335155' 'J03491640+2403491'\n",
      " 'J03501225+2359453']\n"
     ]
    }
   ],
   "source": [
    "print(\"The following radii could not be estimated...\")\n",
    "print(\"\\t {}\".format(df.index[df.iso_rad == float(0)].values))"
   ]
  },
  {
   "cell_type": "code",
   "execution_count": 34,
   "metadata": {},
   "outputs": [
    {
     "data": {
      "text/html": [
       "<div>\n",
       "<style scoped>\n",
       "    .dataframe tbody tr th:only-of-type {\n",
       "        vertical-align: middle;\n",
       "    }\n",
       "\n",
       "    .dataframe tbody tr th {\n",
       "        vertical-align: top;\n",
       "    }\n",
       "\n",
       "    .dataframe thead th {\n",
       "        text-align: right;\n",
       "    }\n",
       "</style>\n",
       "<table border=\"1\" class=\"dataframe\">\n",
       "  <thead>\n",
       "    <tr style=\"text-align: right;\">\n",
       "      <th></th>\n",
       "      <th>Name</th>\n",
       "      <th>RA</th>\n",
       "      <th>Dec</th>\n",
       "      <th>K2MASS</th>\n",
       "      <th>(V-K)o</th>\n",
       "      <th>Period</th>\n",
       "      <th>Ref</th>\n",
       "      <th>BCK</th>\n",
       "      <th>logL/Lo</th>\n",
       "      <th>M/Mo</th>\n",
       "      <th>...</th>\n",
       "      <th>k_m</th>\n",
       "      <th>k_msigcom</th>\n",
       "      <th>iso_rad</th>\n",
       "      <th>iso_rad_Err</th>\n",
       "      <th>radius_sigma</th>\n",
       "      <th>lum_sigma</th>\n",
       "      <th>teff_sigma</th>\n",
       "      <th>band</th>\n",
       "      <th>iso_teff</th>\n",
       "      <th>iso_teff_Err</th>\n",
       "    </tr>\n",
       "    <tr>\n",
       "      <th>Name</th>\n",
       "      <th></th>\n",
       "      <th></th>\n",
       "      <th></th>\n",
       "      <th></th>\n",
       "      <th></th>\n",
       "      <th></th>\n",
       "      <th></th>\n",
       "      <th></th>\n",
       "      <th></th>\n",
       "      <th></th>\n",
       "      <th></th>\n",
       "      <th></th>\n",
       "      <th></th>\n",
       "      <th></th>\n",
       "      <th></th>\n",
       "      <th></th>\n",
       "      <th></th>\n",
       "      <th></th>\n",
       "      <th></th>\n",
       "      <th></th>\n",
       "      <th></th>\n",
       "    </tr>\n",
       "  </thead>\n",
       "  <tbody>\n",
       "    <tr>\n",
       "      <th>J03394633+2358531</th>\n",
       "      <td>J03394633+2358531</td>\n",
       "      <td>54.943067</td>\n",
       "      <td>23.981442</td>\n",
       "      <td>11.83</td>\n",
       "      <td>4.89</td>\n",
       "      <td>1.138</td>\n",
       "      <td>1</td>\n",
       "      <td>2.73</td>\n",
       "      <td>-1.66</td>\n",
       "      <td>0.41</td>\n",
       "      <td>...</td>\n",
       "      <td>11.830</td>\n",
       "      <td>0.022</td>\n",
       "      <td>0.328400</td>\n",
       "      <td>0.016717</td>\n",
       "      <td>NaN</td>\n",
       "      <td>NaN</td>\n",
       "      <td>358.076660</td>\n",
       "      <td>kmag</td>\n",
       "      <td>4222.314638</td>\n",
       "      <td>100.0</td>\n",
       "    </tr>\n",
       "    <tr>\n",
       "      <th>J03414664+2301198</th>\n",
       "      <td>J03414664+2301198</td>\n",
       "      <td>55.444367</td>\n",
       "      <td>23.022186</td>\n",
       "      <td>13.16</td>\n",
       "      <td>5.63</td>\n",
       "      <td>0.294</td>\n",
       "      <td>1</td>\n",
       "      <td>2.81</td>\n",
       "      <td>-2.23</td>\n",
       "      <td>0.19</td>\n",
       "      <td>...</td>\n",
       "      <td>13.162</td>\n",
       "      <td>0.028</td>\n",
       "      <td>0.268599</td>\n",
       "      <td>0.009612</td>\n",
       "      <td>NaN</td>\n",
       "      <td>NaN</td>\n",
       "      <td>NaN</td>\n",
       "      <td>kmag</td>\n",
       "      <td>3951.132399</td>\n",
       "      <td>100.0</td>\n",
       "    </tr>\n",
       "    <tr>\n",
       "      <th>J03414895+2303235</th>\n",
       "      <td>J03414895+2303235</td>\n",
       "      <td>55.453963</td>\n",
       "      <td>23.056539</td>\n",
       "      <td>13.19</td>\n",
       "      <td>6.09</td>\n",
       "      <td>0.239</td>\n",
       "      <td>1</td>\n",
       "      <td>2.86</td>\n",
       "      <td>-2.26</td>\n",
       "      <td>0.19</td>\n",
       "      <td>...</td>\n",
       "      <td>13.194</td>\n",
       "      <td>0.033</td>\n",
       "      <td>0.269544</td>\n",
       "      <td>0.014740</td>\n",
       "      <td>NaN</td>\n",
       "      <td>NaN</td>\n",
       "      <td>NaN</td>\n",
       "      <td>kmag</td>\n",
       "      <td>3875.296192</td>\n",
       "      <td>100.0</td>\n",
       "    </tr>\n",
       "    <tr>\n",
       "      <th>J03415671+2358434</th>\n",
       "      <td>J03415671+2358434</td>\n",
       "      <td>55.486317</td>\n",
       "      <td>23.978728</td>\n",
       "      <td>13.25</td>\n",
       "      <td>5.76</td>\n",
       "      <td>0.401</td>\n",
       "      <td>1</td>\n",
       "      <td>2.82</td>\n",
       "      <td>-2.27</td>\n",
       "      <td>0.18</td>\n",
       "      <td>...</td>\n",
       "      <td>13.250</td>\n",
       "      <td>0.029</td>\n",
       "      <td>0.303899</td>\n",
       "      <td>0.012164</td>\n",
       "      <td>NaN</td>\n",
       "      <td>NaN</td>\n",
       "      <td>NaN</td>\n",
       "      <td>kmag</td>\n",
       "      <td>3788.293001</td>\n",
       "      <td>100.0</td>\n",
       "    </tr>\n",
       "    <tr>\n",
       "      <th>J03415864+2257020</th>\n",
       "      <td>J03415864+2257020</td>\n",
       "      <td>55.494367</td>\n",
       "      <td>22.950556</td>\n",
       "      <td>11.90</td>\n",
       "      <td>4.78</td>\n",
       "      <td>6.842</td>\n",
       "      <td>1</td>\n",
       "      <td>2.72</td>\n",
       "      <td>-1.68</td>\n",
       "      <td>0.40</td>\n",
       "      <td>...</td>\n",
       "      <td>11.902</td>\n",
       "      <td>0.020</td>\n",
       "      <td>0.325585</td>\n",
       "      <td>0.016751</td>\n",
       "      <td>NaN</td>\n",
       "      <td>NaN</td>\n",
       "      <td>249.679932</td>\n",
       "      <td>kmag</td>\n",
       "      <td>4135.851442</td>\n",
       "      <td>100.0</td>\n",
       "    </tr>\n",
       "  </tbody>\n",
       "</table>\n",
       "<p>5 rows × 50 columns</p>\n",
       "</div>"
      ],
      "text/plain": [
       "                                Name         RA        Dec  K2MASS  (V-K)o  \\\n",
       "Name                                                                         \n",
       "J03394633+2358531  J03394633+2358531  54.943067  23.981442   11.83    4.89   \n",
       "J03414664+2301198  J03414664+2301198  55.444367  23.022186   13.16    5.63   \n",
       "J03414895+2303235  J03414895+2303235  55.453963  23.056539   13.19    6.09   \n",
       "J03415671+2358434  J03415671+2358434  55.486317  23.978728   13.25    5.76   \n",
       "J03415864+2257020  J03415864+2257020  55.494367  22.950556   11.90    4.78   \n",
       "\n",
       "                   Period  Ref   BCK  logL/Lo  M/Mo     ...          k_m  \\\n",
       "Name                                                    ...                \n",
       "J03394633+2358531   1.138    1  2.73    -1.66  0.41     ...       11.830   \n",
       "J03414664+2301198   0.294    1  2.81    -2.23  0.19     ...       13.162   \n",
       "J03414895+2303235   0.239    1  2.86    -2.26  0.19     ...       13.194   \n",
       "J03415671+2358434   0.401    1  2.82    -2.27  0.18     ...       13.250   \n",
       "J03415864+2257020   6.842    1  2.72    -1.68  0.40     ...       11.902   \n",
       "\n",
       "                   k_msigcom   iso_rad  iso_rad_Err  radius_sigma  lum_sigma  \\\n",
       "Name                                                                           \n",
       "J03394633+2358531      0.022  0.328400     0.016717           NaN        NaN   \n",
       "J03414664+2301198      0.028  0.268599     0.009612           NaN        NaN   \n",
       "J03414895+2303235      0.033  0.269544     0.014740           NaN        NaN   \n",
       "J03415671+2358434      0.029  0.303899     0.012164           NaN        NaN   \n",
       "J03415864+2257020      0.020  0.325585     0.016751           NaN        NaN   \n",
       "\n",
       "                   teff_sigma  band     iso_teff iso_teff_Err  \n",
       "Name                                                           \n",
       "J03394633+2358531  358.076660  kmag  4222.314638        100.0  \n",
       "J03414664+2301198         NaN  kmag  3951.132399        100.0  \n",
       "J03414895+2303235         NaN  kmag  3875.296192        100.0  \n",
       "J03415671+2358434         NaN  kmag  3788.293001        100.0  \n",
       "J03415864+2257020  249.679932  kmag  4135.851442        100.0  \n",
       "\n",
       "[5 rows x 50 columns]"
      ]
     },
     "execution_count": 34,
     "metadata": {},
     "output_type": "execute_result"
    }
   ],
   "source": [
    "df.head()"
   ]
  },
  {
   "cell_type": "code",
   "execution_count": 35,
   "metadata": {},
   "outputs": [],
   "source": [
    "df = df.drop(columns=[\"band\", \"Name\"])\n",
    "df.to_csv(data_dir+\"Pleiades_master.csv\")"
   ]
  },
  {
   "cell_type": "code",
   "execution_count": null,
   "metadata": {},
   "outputs": [],
   "source": []
  }
 ],
 "metadata": {
  "kernelspec": {
   "display_name": "Python 2",
   "language": "python",
   "name": "python2"
  },
  "language_info": {
   "codemirror_mode": {
    "name": "ipython",
    "version": 2
   },
   "file_extension": ".py",
   "mimetype": "text/x-python",
   "name": "python",
   "nbconvert_exporter": "python",
   "pygments_lexer": "ipython2",
   "version": "2.7.15"
  },
  "toc": {
   "base_numbering": 1,
   "nav_menu": {},
   "number_sections": true,
   "sideBar": true,
   "skip_h1_title": false,
   "title_cell": "Table of Contents",
   "title_sidebar": "Contents",
   "toc_cell": true,
   "toc_position": {},
   "toc_section_display": true,
   "toc_window_display": false
  },
  "varInspector": {
   "cols": {
    "lenName": 16,
    "lenType": 16,
    "lenVar": 40
   },
   "kernels_config": {
    "python": {
     "delete_cmd_postfix": "",
     "delete_cmd_prefix": "del ",
     "library": "var_list.py",
     "varRefreshCmd": "print(var_dic_list())"
    },
    "r": {
     "delete_cmd_postfix": ") ",
     "delete_cmd_prefix": "rm(",
     "library": "var_list.r",
     "varRefreshCmd": "cat(var_dic_list()) "
    }
   },
   "types_to_exclude": [
    "module",
    "function",
    "builtin_function_or_method",
    "instance",
    "_Feature"
   ],
   "window_display": false
  }
 },
 "nbformat": 4,
 "nbformat_minor": 2
}
