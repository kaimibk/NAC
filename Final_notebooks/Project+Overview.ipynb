{
 "cells": [
  {
   "cell_type": "markdown",
   "metadata": {},
   "source": [
    "**Collaborators:**\n",
    "- Kaimi Kahihikolo\n",
    "- Kento Masuda\n",
    "\n",
    "**Updated:** 2018-07-16\n",
    "___\n",
    "___"
   ]
  },
  {
   "cell_type": "markdown",
   "metadata": {
    "toc": true
   },
   "source": [
    "<h1>Table of Contents<span class=\"tocSkip\"></span></h1>\n",
    "<div class=\"toc\"><ul class=\"toc-item\"><li><span><a href=\"#Overall-Project-Goals-and-Notes\" data-toc-modified-id=\"Overall-Project-Goals-and-Notes-1\">Overall Project Goals and Notes</a></span></li><li><span><a href=\"#Weekly-Project-Log\" data-toc-modified-id=\"Weekly-Project-Log-2\">Weekly Project Log</a></span><ul class=\"toc-item\"><li><span><a href=\"#Week-1-Log\" data-toc-modified-id=\"Week-1-Log-2.1\">Week 1 Log</a></span></li><li><span><a href=\"#Week-2-Log\" data-toc-modified-id=\"Week-2-Log-2.2\">Week 2 Log</a></span></li><li><span><a href=\"#Week-3-Log\" data-toc-modified-id=\"Week-3-Log-2.3\">Week 3 Log</a></span></li><li><span><a href=\"#Week-4-Log\" data-toc-modified-id=\"Week-4-Log-2.4\">Week 4 Log</a></span></li><li><span><a href=\"#Week-5-Log\" data-toc-modified-id=\"Week-5-Log-2.5\">Week 5 Log</a></span></li></ul></li></ul></div>"
   ]
  },
  {
   "cell_type": "markdown",
   "metadata": {},
   "source": [
    "___\n",
    "## Overall Project Goals and Notes\n",
    "**Needs to be updated\n",
    "___"
   ]
  },
  {
   "cell_type": "markdown",
   "metadata": {},
   "source": [
    "In the [Pleiades paper](http://adsabs.harvard.edu/abs/2018MNRAS.476.3245J) they used $v sin(i)$ and $P_{rot}$ as inputs and assumed the inclination distribution to derive stellar radii, $R_*$. On the other hand, our purpose is to **use the stellar radii directly measured with Gaia as another input to constrain the inclination distribution**\n",
    "\n",
    "1. Write a code to derive the probability distribution of the stellar inclination for each star, given $vsin(i)$, $P_{rot}$, and $R_*$\n",
    "\n",
    "1. Combine those individual constraints to derive the *population-level* distribution for the sample. "
   ]
  },
  {
   "cell_type": "markdown",
   "metadata": {},
   "source": [
    "___\n",
    "## Weekly Project Log\n",
    "___"
   ]
  },
  {
   "cell_type": "markdown",
   "metadata": {},
   "source": [
    "### Week 1 Log\n",
    "___"
   ]
  },
  {
   "cell_type": "markdown",
   "metadata": {},
   "source": [
    "**2018-06-18**\n",
    "- Read in Pleiades csv data files\n",
    "- Query Gaia Database for targets\n",
    "    - Search around target RA/DEC and retrieve: radius_val, luminosity, teff, parallax, phot_g_mean_mag\n",
    "- Merge with csv data files\n",
    "- (optional) Generate sql database for the object"
   ]
  },
  {
   "cell_type": "markdown",
   "metadata": {
    "cell_style": "center"
   },
   "source": [
    "**2018-06-19**\n",
    "- Make the Gaia scrapping algorithm more efficient (parallel procesing).\n",
    "- Obtain point estimates for the stellar inclination, $I_s$ for each star."
   ]
  },
  {
   "cell_type": "markdown",
   "metadata": {},
   "source": [
    "**2018-06-20**\n",
    "- Review Bayesian inference\n",
    "- Meet with Dr. Masuda\n",
    "- Go back to Gaia and get the uncertainties in radius_val, luminosity, teff, parallax, phot_g_mean_mag"
   ]
  },
  {
   "cell_type": "markdown",
   "metadata": {
    "collapsed": true
   },
   "source": [
    "**2018-06-21**\n",
    "- Double check coordinate matching\n",
    "    - Making sure that gaia script is choosing the closest matching coordinate\n",
    "- Handle error propagation and units simultaneously\n",
    "- Generate Histogram of Parallax (see Fig. 1) and $sin(I_s)$ (see Fig. 2)\n",
    "- Plot $vsin(i)$ against $v=2\\pi R/P_{rot}$ with error bars (see Fig. 3)"
   ]
  },
  {
   "cell_type": "markdown",
   "metadata": {
    "cell_style": "center"
   },
   "source": [
    "**2018-06-22**\n",
    "- Update Fig. 3\n",
    "    - Swap x/y axes and add 1:1 line\n",
    "- Search for uncertainties for $P_{rot}$ in literature\n",
    "    - Found [HERE](http://tapvizier.u-strasbg.fr/adql/?%20J/MNRAS/408/475/prd)\n",
    "- Coordinate match new data set and merge with other measurements\n",
    "    - Running into mismatching issues. Further inspection needed."
   ]
  },
  {
   "cell_type": "markdown",
   "metadata": {},
   "source": [
    "<table width=\"800\" border=\"1\" cellpadding=\"3\">\n",
    "\n",
    "<tr>\n",
    "<td align=\"center\" valign=\"center\">\n",
    "    <a href=\"https://plot.ly/~kaimibk/86/?share_key=W75NgvKhTp7DJ8TInHybIB\" target=\"_blank\" title=\"table\" style=\"display: block; text-align: center;\"><img src=\"https://plot.ly/~kaimibk/86.png?share_key=W75NgvKhTp7DJ8TInHybIB\" alt=\"table\" style=\"width: 1000px;height:400px\"  width=\"400\" onerror=\"this.onerror=null;this.src='https://plot.ly/404.png';\" /></a>\n",
    "    <script data-plotly=\"kaimibk:86\" sharekey-plotly=\"W75NgvKhTp7DJ8TInHybIB\" src=\"https://plot.ly/embed.js\" async></script>\n",
    "<br />\n",
    "Merged Catalog for MN_17_3616\n",
    "</td>\n",
    "</tr>\n",
    "\n",
    "<table width=\"800\" border=\"1\" cellpadding=\"3\">\n",
    "\n",
    "<tr>\n",
    "<td align=\"center\" valign=\"center\">\n",
    "    <a href=\"https://plot.ly/~kaimibk/124/?share_key=vpH9Fi67I21Pg5rr5yXH3E\" target=\"_blank\" title=\"parallax_hist\" style=\"display: block; text-align: center;\"><img src=\"https://plot.ly/~kaimibk/124.png?share_key=vpH9Fi67I21Pg5rr5yXH3E\" alt=\"parallax_hist\" style=\"max-width: 100%;width: 400px;\"  width=\"400\" onerror=\"this.onerror=null;this.src='https://plot.ly/404.png';\" /></a>\n",
    "    <script data-plotly=\"kaimibk:124\" sharekey-plotly=\"vpH9Fi67I21Pg5rr5yXH3E\" src=\"https://plot.ly/embed.js\" async></script>\n",
    "<br />\n",
    "Fig. 1 Histogram of Parallax Measurements\n",
    "</td> \n",
    "\n",
    "<td align=\"center\" valign=\"center\">\n",
    "    <a href=\"https://plot.ly/~kaimibk/120/?share_key=VVq9v1abCXiUic9VgWOBrB\" target=\"_blank\" title=\"sinis_hist\" style=\"display: block; text-align: center;\"><img src=\"https://plot.ly/~kaimibk/120.png?share_key=VVq9v1abCXiUic9VgWOBrB\" alt=\"sinis_hist\" style=\"max-width: 100%;width: 400px;\"  width=\"400\" onerror=\"this.onerror=null;this.src='https://plot.ly/404.png';\" /></a>\n",
    "    <script data-plotly=\"kaimibk:120\" sharekey-plotly=\"VVq9v1abCXiUic9VgWOBrB\" src=\"https://plot.ly/embed.js\" async></script>\n",
    "<br />\n",
    "Fig. 2 Histogram of $sin(I_s)$.\n",
    "</td>\n",
    "</tr>\n",
    "\n",
    "<table width=\"800\" border=\"1\" cellpadding=\"3\">\n",
    "<tr>\n",
    "<td align=\"center\" valign=\"center\">\n",
    "    <a href=\"https://plot.ly/~kaimibk/126/?share_key=mrg9PDusaPnwG7z1hjWeEo\" target=\"_blank\" title=\"vsinis_v\" style=\"display: block; text-align: center;\"><img src=\"https://plot.ly/~kaimibk/126.png?share_key=mrg9PDusaPnwG7z1hjWeEo\" alt=\"vsinis_v\" style=\"max-width: 100%;width: 400px;\" width=\"400\" onerror=\"this.onerror=null;this.src='https://plot.ly/404.png';\" /></a>\n",
    "    <script data-plotly=\"kaimibk:126\" sharekey-plotly=\"mrg9PDusaPnwG7z1hjWeEo\" src=\"https://plot.ly/embed.js\" async></script>\n",
    "<br />\n",
    "Fig. 3 $vsin(i)$ against $v=2\\pi R/P_{rot}$\n",
    "</td>\n",
    "</tr>"
   ]
  },
  {
   "cell_type": "markdown",
   "metadata": {},
   "source": [
    "<table width=\"800\" border=\"1\" cellpadding=\"3\">\n",
    "\n",
    "<tr>\n",
    "<td align=\"center\" valign=\"center\">\n",
    "</td>\n",
    "</tr>"
   ]
  },
  {
   "cell_type": "markdown",
   "metadata": {},
   "source": [
    "### Week 2 Log\n",
    "___"
   ]
  },
  {
   "cell_type": "markdown",
   "metadata": {},
   "source": [
    "**2018-06-25**\n",
    "- Remove period error values from catalog - errors are unrealistic.\n",
    "- Derive Eq. 4 of this [paper](http://adsabs.harvard.edu/abs/2017AJ....154..270W)\n",
    "- Review Bayesian Inferences and MCMC\n",
    "- Review literature in general"
   ]
  },
  {
   "cell_type": "markdown",
   "metadata": {},
   "source": [
    "**2018-06-26**\n",
    "- Review Bayesian Inferences and Stats\n",
    "    - Attended stats lecture by [@msyriac](https://github.com/msyriac)\n",
    "- Work on deriving distribution of $sin(I_*)$"
   ]
  },
  {
   "cell_type": "markdown",
   "metadata": {},
   "source": [
    "**2018-06-27**\n",
    "- Meeting with Dr. Masuda\n",
    "- Compute the likelihood, $\\mathcal{L}$, given various $sin(I_*) \\, \\in \\, [0, 1]$ for each star.\n",
    "- Plot $p(sin(I_*))$ see Fig. 4."
   ]
  },
  {
   "cell_type": "markdown",
   "metadata": {},
   "source": [
    "**2018-06-28**\n",
    "- Improve the efficency of Likelihood calculation\n",
    "- Work on calculating $p(cos i)$"
   ]
  },
  {
   "cell_type": "markdown",
   "metadata": {},
   "source": [
    "**2018-06-29**\n",
    "- Incorporate parallel processing to both probability calculations\n",
    "- Plot $p(cos(I_*))$ see Fig. 5\n",
    "- Mandatory internship meetings with Dr. Strauss\n"
   ]
  },
  {
   "cell_type": "markdown",
   "metadata": {},
   "source": [
    "<table width=\"800\" border=\"1\" cellpadding=\"3\">\n",
    "<tr>\n",
    "<td align=\"center\" valign=\"center\">\n",
    "    <a href=\"https://plot.ly/~kaimibk/140/?share_key=RwlpJBWqMfeeTIAwBle9kr\" target=\"_blank\" title=\"psini\" style=\"display: block; text-align: center;\"><img src=\"https://plot.ly/~kaimibk/140.png?share_key=RwlpJBWqMfeeTIAwBle9kr\" alt=\"psini\" style=\"max-width: 100%;width: 600px;\"  width=\"600\" onerror=\"this.onerror=null;this.src='https://plot.ly/404.png';\" /></a>\n",
    "    <script data-plotly=\"kaimibk:140\" sharekey-plotly=\"RwlpJBWqMfeeTIAwBle9kr\" src=\"https://plot.ly/embed.js\" async></script>\n",
    "<br />\n",
    "<center>Fig. 4 $p(sini)$</center>\n",
    "</td>\n",
    "</tr>"
   ]
  },
  {
   "cell_type": "markdown",
   "metadata": {},
   "source": [
    "<table width=\"800\" border=\"1\" cellpadding=\"3\">\n",
    "\n",
    "<tr>\n",
    "<td align=\"center\" valign=\"center\">\n",
    "</td>\n",
    "</tr>"
   ]
  },
  {
   "cell_type": "markdown",
   "metadata": {},
   "source": [
    "<table width=\"800\" border=\"1\" cellpadding=\"3\">\n",
    "<tr>\n",
    "<td align=\"center\" valign=\"center\">\n",
    "    <a href=\"https://plot.ly/~kaimibk/138/?share_key=09XxWtCI9l1zdfeAyQTDF0\" target=\"_blank\" title=\"pcosi\" style=\"display: block; text-align: center;\"><img src=\"https://plot.ly/~kaimibk/138.png?share_key=09XxWtCI9l1zdfeAyQTDF0\" alt=\"pcosi\" style=\"max-width: 100%;width: 600px;\"  width=\"600\" onerror=\"this.onerror=null;this.src='https://plot.ly/404.png';\" /></a>\n",
    "    <script data-plotly=\"kaimibk:138\" sharekey-plotly=\"09XxWtCI9l1zdfeAyQTDF0\" src=\"https://plot.ly/embed.js\" async></script>\n",
    "<br />\n",
    "<center>Fig. 5 $p(cosi)$</center>\n",
    "</td>\n",
    "</tr>"
   ]
  },
  {
   "cell_type": "markdown",
   "metadata": {},
   "source": [
    "<table width=\"800\" border=\"1\" cellpadding=\"3\">\n",
    "\n",
    "<tr>\n",
    "<td align=\"center\" valign=\"center\">\n",
    "</td>\n",
    "</tr>"
   ]
  },
  {
   "cell_type": "markdown",
   "metadata": {},
   "source": [
    "### Week 3 Log\n",
    "___"
   ]
  },
  {
   "cell_type": "markdown",
   "metadata": {},
   "source": [
    "**2018-07-02**\n",
    "- Inspect distributions of inclinations\n",
    "- Start deriving Stellar Radii"
   ]
  },
  {
   "cell_type": "markdown",
   "metadata": {},
   "source": [
    "<table width=\"800\" border=\"1\" cellpadding=\"3\">\n",
    "\n",
    "<tr>\n",
    "<td align=\"center\" valign=\"center\">\n",
    "    <a href=\"https://plot.ly/~kaimibk/144/?share_key=ic6Won6o4kKh8uO33tocct\" target=\"_blank\" title=\"pcosi_mode\" style=\"display: block; text-align: center;\"><img src=\"https://plot.ly/~kaimibk/144.png?share_key=ic6Won6o4kKh8uO33tocct\" alt=\"pcosi_mode\" style=\"max-width: 100%;width: 600px;\"  width=\"600\" onerror=\"this.onerror=null;this.src='https://plot.ly/404.png';\" /></a>\n",
    "    <script data-plotly=\"kaimibk:144\" sharekey-plotly=\"ic6Won6o4kKh8uO33tocct\" src=\"https://plot.ly/embed.js\" async></script>\n",
    "<br />\n",
    "Fig. 6 Histogram of Modes of Individual $p(\\cos(I_*))$\n",
    "</td> \n",
    "\n",
    "<td align=\"center\" valign=\"center\">\n",
    "    <a href=\"https://plot.ly/~kaimibk/146/?share_key=YnwAS9EdolOl85LZjZnYCb\" target=\"_blank\" title=\"pcosi_avg\" style=\"display: block; text-align: center;\"><img src=\"https://plot.ly/~kaimibk/146.png?share_key=YnwAS9EdolOl85LZjZnYCb\" alt=\"pcosi_avg\" style=\"max-width: 100%;width: 600px;\"  width=\"600\" onerror=\"this.onerror=null;this.src='https://plot.ly/404.png';\" /></a>\n",
    "    <script data-plotly=\"kaimibk:146\" sharekey-plotly=\"YnwAS9EdolOl85LZjZnYCb\" src=\"https://plot.ly/embed.js\" async></script>\n",
    "<br />\n",
    "Fig. 7 Average of Individual, normalized $p(\\cos(I_*))$\n",
    "</td>\n",
    "</tr>"
   ]
  },
  {
   "cell_type": "markdown",
   "metadata": {},
   "source": [
    "**2018-07-03**\n",
    "- Edit previous scripts to create SQL tables instead of CSV files\n",
    "- Work on converting *isoclassify* scripts to Python 3.5\n",
    "- \"How to be a good scientist\" ethics workshop"
   ]
  },
  {
   "cell_type": "markdown",
   "metadata": {},
   "source": [
    "**2018-07-04**\n",
    "- Holiday\n",
    "\n",
    "**2018-07-05**\n",
    "- Work on converting *isoclassify* scripts to Python 3.5\n",
    "- Requery Gaia database to obtain magnitude errors\n",
    "- Lecture by Dr. Michael Strauss\n",
    "\n",
    "**2018-07-06**\n",
    "- Set up Python 2.7 environment for *isoclassify*\n",
    "- Attempt to use *isoclassify* direct method.\n",
    "- Mandatory internship meeting with Dr. Michael Strauss"
   ]
  },
  {
   "cell_type": "markdown",
   "metadata": {},
   "source": [
    "<table width=\"800\" border=\"1\" cellpadding=\"3\">\n",
    "\n",
    "<tr>\n",
    "<td align=\"center\" valign=\"center\">\n",
    "</td>\n",
    "</tr>"
   ]
  },
  {
   "cell_type": "markdown",
   "metadata": {},
   "source": [
    "### Week 4 Log\n",
    "___"
   ]
  },
  {
   "cell_type": "markdown",
   "metadata": {},
   "source": [
    "**2018-07-09**\n",
    "- Continue to fix *isoclassify*\n",
    "- Run *isoclassify* for each of the objects"
   ]
  },
  {
   "cell_type": "markdown",
   "metadata": {},
   "source": [
    "**2018-07-10**\n",
    "- Edit *isoclassify* source code to return results to memory rather than saving .csv files\n",
    "- Start to streamline previous Jupyter Notebooks together\n",
    "- Learning some sqlalchemy\n",
    "- Data visulization lecture by Dr. Melchoir"
   ]
  },
  {
   "cell_type": "markdown",
   "metadata": {},
   "source": [
    "**2018-07-11**\n",
    "- Compare radii given in GAIA DR2 to those computed with *isoclassify*, see Fig. 8.\n",
    "- Compare radii given in Jackson et al. (2018) to those computed with *isoclassify*, see Fig. 9.\n",
    "- See Fig. 10, to see the comparison between all three.\n",
    "- Meeting with Dr. Masuda"
   ]
  },
  {
   "cell_type": "markdown",
   "metadata": {},
   "source": [
    "<table width=\"800\" border=\"1\" cellpadding=\"3\">\n",
    "\n",
    "<tr>\n",
    "<td align=\"center\" valign=\"center\">\n",
    "    <a href=\"https://plot.ly/~kaimibk/155/?share_key=02xpx7CO6KMHne1UADFyqW\" target=\"_blank\" title=\"radius_scatter\" style=\"display: block; text-align: center;\"><img src=\"https://plot.ly/~kaimibk/155.png?share_key=02xpx7CO6KMHne1UADFyqW\" alt=\"radius_scatter\" style=\"max-width: 100%;width: 600px;\"  width=\"600\" onerror=\"this.onerror=null;this.src='https://plot.ly/404.png';\" /></a>\n",
    "    <script data-plotly=\"kaimibk:155\" sharekey-plotly=\"02xpx7CO6KMHne1UADFyqW\" src=\"https://plot.ly/embed.js\" async></script>\n",
    "<br />\n",
    "Fig. 8a Scatter plot comparing radius values given in GAIA DR2 and those determined with isoclassify. One-to-one visualized.\n",
    "</td> \n",
    "\n",
    "<td align=\"center\" valign=\"center\">\n",
    "    <a href=\"https://plot.ly/~kaimibk/157/?share_key=VoLxtUIb52Hc1iqvMpQfj4\" target=\"_blank\" title=\"radius_parcoords\" style=\"display: block; text-align: center;\"><img src=\"https://plot.ly/~kaimibk/157.png?share_key=VoLxtUIb52Hc1iqvMpQfj4\" alt=\"radius_parcoords\" style=\"max-width: 100%;width: 600px;\"  width=\"600\" onerror=\"this.onerror=null;this.src='https://plot.ly/404.png';\" /></a>\n",
    "    <script data-plotly=\"kaimibk:157\" sharekey-plotly=\"VoLxtUIb52Hc1iqvMpQfj4\" src=\"https://plot.ly/embed.js\" async></script>\n",
    "<br />\n",
    "Fig. 8b Parcoords plot comparing radius values given in GAIA DR2 and those determined with isoclassify. Those radii stemming from zero are those with missing initial measurements.\n",
    "</td>\n",
    "</tr>"
   ]
  },
  {
   "cell_type": "markdown",
   "metadata": {},
   "source": [
    "<table width=\"800\" border=\"1\" cellpadding=\"3\">\n",
    "\n",
    "<tr>\n",
    "<td align=\"center\" valign=\"center\">\n",
    "    <a href=\"https://plot.ly/~kaimibk/158/?share_key=kpXk2ORxM14yO0SShbQXi8\" target=\"_blank\" title=\"radius_scatter_2\" style=\"display: block; text-align: center;\"><img src=\"https://plot.ly/~kaimibk/158.png?share_key=kpXk2ORxM14yO0SShbQXi8\" alt=\"radius_scatter_2\" style=\"max-width: 100%;width: 600px;\"  width=\"600\" onerror=\"this.onerror=null;this.src='https://plot.ly/404.png';\" /></a>\n",
    "    <script data-plotly=\"kaimibk:158\" sharekey-plotly=\"kpXk2ORxM14yO0SShbQXi8\" src=\"https://plot.ly/embed.js\" async></script>\n",
    "<br />\n",
    "Fig. 9a Scatter plot comparing radius values computed in Jackson et al (2018) and those determined with isoclassify. One-to-one visualized.\n",
    "</td> \n",
    "\n",
    "<td align=\"center\" valign=\"center\">\n",
    "    <a href=\"https://plot.ly/~kaimibk/160/?share_key=nLNfT2nM0YMfNTFtwAeD9w\" target=\"_blank\" title=\"radius_parcoords_2\" style=\"display: block; text-align: center;\"><img src=\"https://plot.ly/~kaimibk/160.png?share_key=nLNfT2nM0YMfNTFtwAeD9w\" alt=\"radius_parcoords_2\" style=\"max-width: 100%;width: 600px;\"  width=\"600\" onerror=\"this.onerror=null;this.src='https://plot.ly/404.png';\" /></a>\n",
    "    <script data-plotly=\"kaimibk:160\" sharekey-plotly=\"nLNfT2nM0YMfNTFtwAeD9w\" src=\"https://plot.ly/embed.js\" async></script>\n",
    "<br />\n",
    "Fig. 9b Parcoords plot comparing radius values computed in Jackson et al (2018) and those determined with isoclassify. Interestingly, isoclassify wasn't able to compute all radii.\n",
    "</td>\n",
    "</tr>"
   ]
  },
  {
   "cell_type": "markdown",
   "metadata": {},
   "source": [
    "<table width=\"800\" border=\"1\" cellpadding=\"3\">\n",
    "\n",
    "<tr>\n",
    "<td align=\"center\" valign=\"center\">\n",
    "</td>\n",
    "</tr>"
   ]
  },
  {
   "cell_type": "markdown",
   "metadata": {},
   "source": [
    "<div>\n",
    "    <a href=\"https://plot.ly/~kaimibk/161/?share_key=SVTSyqioDwfoYZ01ok0kND\" target=\"_blank\" title=\"radius_parcoords_3\" style=\"display: block; text-align: center;\"><img src=\"https://plot.ly/~kaimibk/161.png?share_key=SVTSyqioDwfoYZ01ok0kND\" alt=\"radius_parcoords_3\" style=\"max-width: 100%;width: 600px;\"  width=\"600\" onerror=\"this.onerror=null;this.src='https://plot.ly/404.png';\" /></a>\n",
    "    <script data-plotly=\"kaimibk:161\" sharekey-plotly=\"SVTSyqioDwfoYZ01ok0kND\" src=\"https://plot.ly/embed.js\" async></script>\n",
    "</div>\n",
    "\n",
    "Fig. 10 : Combined Parcoords plot for Jackson et al. (2018), GAIA DR2, and Isoclassify showing correlation of radii calculations."
   ]
  },
  {
   "cell_type": "markdown",
   "metadata": {},
   "source": [
    "**2018-07-12**\n",
    "- Continue working on sqlalchemy\n",
    "- Work on streamlining notebook analyses"
   ]
  },
  {
   "cell_type": "markdown",
   "metadata": {},
   "source": [
    "**2018-07-13**\n",
    "- Continue streamlining analyses\n",
    "- Compare GAIA DR2 radius measurements to Jackson et al (2018). See Fig. 11 for side-by-side comparison.\n",
    "- Make color magnitude diagram. See Fig. 12"
   ]
  },
  {
   "cell_type": "markdown",
   "metadata": {},
   "source": [
    "<table width=\"800\" border=\"1\" cellpadding=\"3\">\n",
    "\n",
    "<tr>\n",
    "<td align=\"center\" valign=\"center\">\n",
    "    <a href=\"https://plot.ly/~kaimibk/155/?share_key=02xpx7CO6KMHne1UADFyqW\" target=\"_blank\" title=\"radius_scatter\" style=\"display: block; text-align: center;\"><img src=\"https://plot.ly/~kaimibk/155.png?share_key=02xpx7CO6KMHne1UADFyqW\" alt=\"radius_scatter\" style=\"max-width: 100%;width: 600px;\"  width=\"600\" onerror=\"this.onerror=null;this.src='https://plot.ly/404.png';\" /></a>\n",
    "    <script data-plotly=\"kaimibk:155\" sharekey-plotly=\"02xpx7CO6KMHne1UADFyqW\" src=\"https://plot.ly/embed.js\" async></script>\n",
    "<br />\n",
    "Fig. 11a Scatter plot comparing radius values given in GAIA DR2 and those determined with isoclassify. One-to-one visualized.\n",
    "</td> \n",
    "\n",
    "<td align=\"center\" valign=\"center\">\n",
    "     <a href=\"https://plot.ly/~kaimibk/158/?share_key=kpXk2ORxM14yO0SShbQXi8\" target=\"_blank\" title=\"radius_scatter_2\" style=\"display: block; text-align: center;\"><img src=\"https://plot.ly/~kaimibk/158.png?share_key=kpXk2ORxM14yO0SShbQXi8\" alt=\"radius_scatter_2\" style=\"max-width: 100%;width: 600px;\"  width=\"600\" onerror=\"this.onerror=null;this.src='https://plot.ly/404.png';\" /></a>\n",
    "    <script data-plotly=\"kaimibk:158\" sharekey-plotly=\"kpXk2ORxM14yO0SShbQXi8\" src=\"https://plot.ly/embed.js\" async></script>\n",
    "<br />\n",
    "Fig. 11b Scatter plot comparing radius values computed in Jackson et al (2018) and those determined with isoclassify. One-to-one visualized.\n",
    "</td>\n",
    "\n",
    "<td align=\"center\" valign=\"center\">\n",
    "    <a href=\"https://plot.ly/~kaimibk/162/?share_key=jfQf0AnvhUwFbeA4L9bk6v\" target=\"_blank\" title=\"radius_scatter_3\" style=\"display: block; text-align: center;\"><img src=\"https://plot.ly/~kaimibk/162.png?share_key=jfQf0AnvhUwFbeA4L9bk6v\" alt=\"radius_scatter_3\" style=\"max-width: 100%;width: 600px;\"  width=\"600\" onerror=\"this.onerror=null;this.src='https://plot.ly/404.png';\" /></a>\n",
    "<br />\n",
    "Fig. 11c Scatter plot comparing radius values computed in Jackson et al (2018) and those given in GAIA DR2. Lack of lower radii measurements due to missing data.\n",
    "</td>\n",
    "\n",
    "\n",
    "</tr>"
   ]
  },
  {
   "cell_type": "markdown",
   "metadata": {},
   "source": [
    "<table width=\"800\" border=\"1\" cellpadding=\"3\">\n",
    "\n",
    "<tr>\n",
    "<td align=\"center\" valign=\"center\">\n",
    "</td>\n",
    "</tr>"
   ]
  },
  {
   "cell_type": "markdown",
   "metadata": {},
   "source": [
    "### Week 5 Log\n",
    "___"
   ]
  },
  {
   "cell_type": "markdown",
   "metadata": {},
   "source": [
    "**2018-07-16**\n",
    "- Continue to update archived notebooks\n",
    "- Generate GAIA CMD, see Fig. 12.\n",
    "- Compare radii measurements, see Fig. 13\n",
    "- Parse VSINI columns to determine whether we should use a normal or flat distribution\n",
    "    - If \"<\" in row, make a note to use a \"flat\" distribution, else, \"normal\""
   ]
  },
  {
   "cell_type": "markdown",
   "metadata": {},
   "source": [
    "\n",
    "<div>\n",
    "    <a href=\"https://plot.ly/~kaimibk/180/?share_key=8mGvn0JYmr2qEQpoH952Cj\" target=\"_blank\" title=\"cmd_combined\" style=\"display: block; text-align: center;\"><img src=\"https://plot.ly/~kaimibk/180.png?share_key=8mGvn0JYmr2qEQpoH952Cj\" alt=\"cmd_combined\" style=\"max-width: 100%;width: 600px;\"  width=\"600\" onerror=\"this.onerror=null;this.src='https://plot.ly/404.png';\" /></a>\n",
    "    <script data-plotly=\"kaimibk:180\" sharekey-plotly=\"8mGvn0JYmr2qEQpoH952Cj\" src=\"https://plot.ly/embed.js\" async></script>\n",
    "    <br />\n",
    "<center>Fig. 12 (top) Color Magnitude Diagram made using 2MASS j, h, k magnitudes. (bottom) Color Magnitude Diagram made using GAIA magnitude and color.</center>\n",
    "</div>"
   ]
  },
  {
   "cell_type": "markdown",
   "metadata": {},
   "source": [
    "<div>\n",
    "    <a href=\"https://plot.ly/~kaimibk/182/?share_key=GfQgrjXKAdLD6Z4BvTBV3K\" target=\"_blank\" title=\"radii_ratio_histogram\" style=\"display: block; text-align: center;\"><img src=\"https://plot.ly/~kaimibk/182.png?share_key=GfQgrjXKAdLD6Z4BvTBV3K\" alt=\"radii_ratio_histogram\" style=\"max-width: 100%;width: 600px;\"  width=\"600\" onerror=\"this.onerror=null;this.src='https://plot.ly/404.png';\" /></a>\n",
    "    <script data-plotly=\"kaimibk:182\" sharekey-plotly=\"GfQgrjXKAdLD6Z4BvTBV3K\" src=\"https://plot.ly/embed.js\" async></script>\n",
    "<br />\n",
    "<center>Fig. 13 Histogram of the radii ratios.</center>\n",
    "</div>\n"
   ]
  },
  {
   "cell_type": "markdown",
   "metadata": {},
   "source": [
    "<table width=\"800\" border=\"1\" cellpadding=\"3\">\n",
    "\n",
    "<tr>\n",
    "<td align=\"center\" valign=\"center\">\n",
    "</td>\n",
    "</tr>"
   ]
  }
 ],
 "metadata": {
  "anaconda-cloud": {},
  "kernelspec": {
   "display_name": "Python 3",
   "language": "python",
   "name": "python3"
  },
  "language_info": {
   "codemirror_mode": {
    "name": "ipython",
    "version": 3
   },
   "file_extension": ".py",
   "mimetype": "text/x-python",
   "name": "python",
   "nbconvert_exporter": "python",
   "pygments_lexer": "ipython3",
   "version": "3.6.5"
  },
  "latex_envs": {
   "LaTeX_envs_menu_present": true,
   "autoclose": true,
   "autocomplete": true,
   "bibliofile": "biblio.bib",
   "cite_by": "apalike",
   "current_citInitial": 1,
   "eqLabelWithNumbers": true,
   "eqNumInitial": 1,
   "hotkeys": {
    "equation": "Ctrl-E",
    "itemize": "Ctrl-I"
   },
   "labels_anchors": false,
   "latex_user_defs": false,
   "report_style_numbering": false,
   "user_envs_cfg": false
  },
  "toc": {
   "base_numbering": 1,
   "nav_menu": {},
   "number_sections": false,
   "sideBar": true,
   "skip_h1_title": true,
   "title_cell": "Table of Contents",
   "title_sidebar": "Contents",
   "toc_cell": true,
   "toc_position": {
    "height": "calc(100% - 180px)",
    "left": "10px",
    "top": "150px",
    "width": "255px"
   },
   "toc_section_display": true,
   "toc_window_display": false
  },
  "varInspector": {
   "cols": {
    "lenName": 16,
    "lenType": 16,
    "lenVar": 40
   },
   "kernels_config": {
    "python": {
     "delete_cmd_postfix": "",
     "delete_cmd_prefix": "del ",
     "library": "var_list.py",
     "varRefreshCmd": "print(var_dic_list())"
    },
    "r": {
     "delete_cmd_postfix": ") ",
     "delete_cmd_prefix": "rm(",
     "library": "var_list.r",
     "varRefreshCmd": "cat(var_dic_list()) "
    }
   },
   "types_to_exclude": [
    "module",
    "function",
    "builtin_function_or_method",
    "instance",
    "_Feature"
   ],
   "window_display": false
  }
 },
 "nbformat": 4,
 "nbformat_minor": 2
}
