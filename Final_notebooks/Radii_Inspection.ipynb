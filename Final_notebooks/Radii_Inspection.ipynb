{
 "cells": [
  {
   "cell_type": "markdown",
   "metadata": {
    "toc": true
   },
   "source": [
    "<h1>Table of Contents<span class=\"tocSkip\"></span></h1>\n",
    "<div class=\"toc\"><ul class=\"toc-item\"><li><span><a href=\"#Analyzing-Results-of-Isoclassify\" data-toc-modified-id=\"Analyzing-Results-of-Isoclassify-1\"><span class=\"toc-item-num\">1&nbsp;&nbsp;</span>Analyzing Results of Isoclassify</a></span><ul class=\"toc-item\"><li><span><a href=\"#Comparing-GAIA-to-Isoclassify\" data-toc-modified-id=\"Comparing-GAIA-to-Isoclassify-1.1\"><span class=\"toc-item-num\">1.1&nbsp;&nbsp;</span>Comparing GAIA to Isoclassify</a></span></li><li><span><a href=\"#Comparing-Jackson-et-al-(2018)-to-Isoclassify\" data-toc-modified-id=\"Comparing-Jackson-et-al-(2018)-to-Isoclassify-1.2\"><span class=\"toc-item-num\">1.2&nbsp;&nbsp;</span>Comparing Jackson et al (2018) to Isoclassify</a></span><ul class=\"toc-item\"><li><span><a href=\"#Inspecting-the-Bifurcation\" data-toc-modified-id=\"Inspecting-the-Bifurcation-1.2.1\"><span class=\"toc-item-num\">1.2.1&nbsp;&nbsp;</span>Inspecting the Bifurcation</a></span></li></ul></li><li><span><a href=\"#Compare-Jackson-et-al-(2018)-to-GAIA\" data-toc-modified-id=\"Compare-Jackson-et-al-(2018)-to-GAIA-1.3\"><span class=\"toc-item-num\">1.3&nbsp;&nbsp;</span>Compare Jackson et al (2018) to GAIA</a></span></li><li><span><a href=\"#Inspect-Teff-vs-Radii\" data-toc-modified-id=\"Inspect-Teff-vs-Radii-1.4\"><span class=\"toc-item-num\">1.4&nbsp;&nbsp;</span>Inspect Teff vs Radii</a></span></li><li><span><a href=\"#VSINI-vs-V\" data-toc-modified-id=\"VSINI-vs-V-1.5\"><span class=\"toc-item-num\">1.5&nbsp;&nbsp;</span>VSINI vs V</a></span></li></ul></li><li><span><a href=\"#Parallel-Coordinates-Plot\" data-toc-modified-id=\"Parallel-Coordinates-Plot-2\"><span class=\"toc-item-num\">2&nbsp;&nbsp;</span>Parallel Coordinates Plot</a></span></li><li><span><a href=\"#Radius-Ratio-Histograms\" data-toc-modified-id=\"Radius-Ratio-Histograms-3\"><span class=\"toc-item-num\">3&nbsp;&nbsp;</span>Radius Ratio Histograms</a></span></li></ul></div>"
   ]
  },
  {
   "cell_type": "code",
   "execution_count": 1,
   "metadata": {},
   "outputs": [],
   "source": [
    "import plotly.plotly as py\n",
    "import plotly.graph_objs as go\n",
    "import pandas as pd\n",
    "import numpy as np"
   ]
  },
  {
   "cell_type": "code",
   "execution_count": 2,
   "metadata": {},
   "outputs": [],
   "source": [
    "main_dir = \"/u/kaimibk/Documents/Research/NAC/\"\n",
    "data_dir = main_dir+\"data/\"\n",
    "out_dir = main_dir+\"output/\""
   ]
  },
  {
   "cell_type": "code",
   "execution_count": 3,
   "metadata": {},
   "outputs": [
    {
     "data": {
      "text/html": [
       "<div>\n",
       "<style scoped>\n",
       "    .dataframe tbody tr th:only-of-type {\n",
       "        vertical-align: middle;\n",
       "    }\n",
       "\n",
       "    .dataframe tbody tr th {\n",
       "        vertical-align: top;\n",
       "    }\n",
       "\n",
       "    .dataframe thead th {\n",
       "        text-align: right;\n",
       "    }\n",
       "</style>\n",
       "<table border=\"1\" class=\"dataframe\">\n",
       "  <thead>\n",
       "    <tr style=\"text-align: right;\">\n",
       "      <th></th>\n",
       "      <th>RA</th>\n",
       "      <th>Dec</th>\n",
       "      <th>K2MASS</th>\n",
       "      <th>(V-K)o</th>\n",
       "      <th>Period</th>\n",
       "      <th>Ref</th>\n",
       "      <th>BCK</th>\n",
       "      <th>logL/Lo</th>\n",
       "      <th>M/Mo</th>\n",
       "      <th>R/Ro</th>\n",
       "      <th>...</th>\n",
       "      <th>h_msigcom</th>\n",
       "      <th>k_m</th>\n",
       "      <th>k_msigcom</th>\n",
       "      <th>iso_rad</th>\n",
       "      <th>iso_rad_Err</th>\n",
       "      <th>radius_sigma</th>\n",
       "      <th>lum_sigma</th>\n",
       "      <th>teff_sigma</th>\n",
       "      <th>iso_teff</th>\n",
       "      <th>iso_teff_Err</th>\n",
       "    </tr>\n",
       "    <tr>\n",
       "      <th>Name</th>\n",
       "      <th></th>\n",
       "      <th></th>\n",
       "      <th></th>\n",
       "      <th></th>\n",
       "      <th></th>\n",
       "      <th></th>\n",
       "      <th></th>\n",
       "      <th></th>\n",
       "      <th></th>\n",
       "      <th></th>\n",
       "      <th></th>\n",
       "      <th></th>\n",
       "      <th></th>\n",
       "      <th></th>\n",
       "      <th></th>\n",
       "      <th></th>\n",
       "      <th></th>\n",
       "      <th></th>\n",
       "      <th></th>\n",
       "      <th></th>\n",
       "      <th></th>\n",
       "    </tr>\n",
       "  </thead>\n",
       "  <tbody>\n",
       "    <tr>\n",
       "      <th>J03394633+2358531</th>\n",
       "      <td>54.943067</td>\n",
       "      <td>23.981442</td>\n",
       "      <td>11.83</td>\n",
       "      <td>4.89</td>\n",
       "      <td>1.138</td>\n",
       "      <td>1</td>\n",
       "      <td>2.73</td>\n",
       "      <td>-1.66</td>\n",
       "      <td>0.41</td>\n",
       "      <td>0.39</td>\n",
       "      <td>...</td>\n",
       "      <td>0.030</td>\n",
       "      <td>11.830</td>\n",
       "      <td>0.022</td>\n",
       "      <td>0.328400</td>\n",
       "      <td>0.016717</td>\n",
       "      <td>NaN</td>\n",
       "      <td>NaN</td>\n",
       "      <td>358.07666</td>\n",
       "      <td>4222.314638</td>\n",
       "      <td>100.0</td>\n",
       "    </tr>\n",
       "    <tr>\n",
       "      <th>J03414664+2301198</th>\n",
       "      <td>55.444367</td>\n",
       "      <td>23.022186</td>\n",
       "      <td>13.16</td>\n",
       "      <td>5.63</td>\n",
       "      <td>0.294</td>\n",
       "      <td>1</td>\n",
       "      <td>2.81</td>\n",
       "      <td>-2.23</td>\n",
       "      <td>0.19</td>\n",
       "      <td>0.24</td>\n",
       "      <td>...</td>\n",
       "      <td>0.031</td>\n",
       "      <td>13.162</td>\n",
       "      <td>0.028</td>\n",
       "      <td>0.268599</td>\n",
       "      <td>0.009612</td>\n",
       "      <td>NaN</td>\n",
       "      <td>NaN</td>\n",
       "      <td>NaN</td>\n",
       "      <td>3951.132399</td>\n",
       "      <td>100.0</td>\n",
       "    </tr>\n",
       "    <tr>\n",
       "      <th>J03414895+2303235</th>\n",
       "      <td>55.453963</td>\n",
       "      <td>23.056539</td>\n",
       "      <td>13.19</td>\n",
       "      <td>6.09</td>\n",
       "      <td>0.239</td>\n",
       "      <td>1</td>\n",
       "      <td>2.86</td>\n",
       "      <td>-2.26</td>\n",
       "      <td>0.19</td>\n",
       "      <td>0.24</td>\n",
       "      <td>...</td>\n",
       "      <td>0.034</td>\n",
       "      <td>13.194</td>\n",
       "      <td>0.033</td>\n",
       "      <td>0.269544</td>\n",
       "      <td>0.014740</td>\n",
       "      <td>NaN</td>\n",
       "      <td>NaN</td>\n",
       "      <td>NaN</td>\n",
       "      <td>3875.296192</td>\n",
       "      <td>100.0</td>\n",
       "    </tr>\n",
       "    <tr>\n",
       "      <th>J03415671+2358434</th>\n",
       "      <td>55.486317</td>\n",
       "      <td>23.978728</td>\n",
       "      <td>13.25</td>\n",
       "      <td>5.76</td>\n",
       "      <td>0.401</td>\n",
       "      <td>1</td>\n",
       "      <td>2.82</td>\n",
       "      <td>-2.27</td>\n",
       "      <td>0.18</td>\n",
       "      <td>0.24</td>\n",
       "      <td>...</td>\n",
       "      <td>0.035</td>\n",
       "      <td>13.250</td>\n",
       "      <td>0.029</td>\n",
       "      <td>0.303899</td>\n",
       "      <td>0.012164</td>\n",
       "      <td>NaN</td>\n",
       "      <td>NaN</td>\n",
       "      <td>NaN</td>\n",
       "      <td>3788.293001</td>\n",
       "      <td>100.0</td>\n",
       "    </tr>\n",
       "  </tbody>\n",
       "</table>\n",
       "<p>4 rows × 48 columns</p>\n",
       "</div>"
      ],
      "text/plain": [
       "                          RA        Dec  K2MASS  (V-K)o  Period  Ref   BCK  \\\n",
       "Name                                                                         \n",
       "J03394633+2358531  54.943067  23.981442   11.83    4.89   1.138    1  2.73   \n",
       "J03414664+2301198  55.444367  23.022186   13.16    5.63   0.294    1  2.81   \n",
       "J03414895+2303235  55.453963  23.056539   13.19    6.09   0.239    1  2.86   \n",
       "J03415671+2358434  55.486317  23.978728   13.25    5.76   0.401    1  2.82   \n",
       "\n",
       "                   logL/Lo  M/Mo  R/Ro     ...       h_msigcom     k_m  \\\n",
       "Name                                       ...                           \n",
       "J03394633+2358531    -1.66  0.41  0.39     ...           0.030  11.830   \n",
       "J03414664+2301198    -2.23  0.19  0.24     ...           0.031  13.162   \n",
       "J03414895+2303235    -2.26  0.19  0.24     ...           0.034  13.194   \n",
       "J03415671+2358434    -2.27  0.18  0.24     ...           0.035  13.250   \n",
       "\n",
       "                   k_msigcom   iso_rad  iso_rad_Err  radius_sigma  lum_sigma  \\\n",
       "Name                                                                           \n",
       "J03394633+2358531      0.022  0.328400     0.016717           NaN        NaN   \n",
       "J03414664+2301198      0.028  0.268599     0.009612           NaN        NaN   \n",
       "J03414895+2303235      0.033  0.269544     0.014740           NaN        NaN   \n",
       "J03415671+2358434      0.029  0.303899     0.012164           NaN        NaN   \n",
       "\n",
       "                   teff_sigma     iso_teff iso_teff_Err  \n",
       "Name                                                     \n",
       "J03394633+2358531   358.07666  4222.314638        100.0  \n",
       "J03414664+2301198         NaN  3951.132399        100.0  \n",
       "J03414895+2303235         NaN  3875.296192        100.0  \n",
       "J03415671+2358434         NaN  3788.293001        100.0  \n",
       "\n",
       "[4 rows x 48 columns]"
      ]
     },
     "execution_count": 3,
     "metadata": {},
     "output_type": "execute_result"
    }
   ],
   "source": [
    "df = pd.read_csv(data_dir+\"Pleiades_master.csv\", index_col=0)\n",
    "df.head(4)"
   ]
  },
  {
   "cell_type": "markdown",
   "metadata": {},
   "source": [
    "## Analyzing Results of Isoclassify"
   ]
  },
  {
   "cell_type": "markdown",
   "metadata": {},
   "source": [
    "### Comparing GAIA to Isoclassify"
   ]
  },
  {
   "cell_type": "code",
   "execution_count": 4,
   "metadata": {},
   "outputs": [
    {
     "data": {
      "text/html": [
       "<iframe id=\"igraph\" scrolling=\"no\" style=\"border:none;\" seamless=\"seamless\" src=\"https://plot.ly/~kaimibk/155.embed\" height=\"525px\" width=\"100%\"></iframe>"
      ],
      "text/plain": [
       "<plotly.tools.PlotlyDisplay object>"
      ]
     },
     "execution_count": 4,
     "metadata": {},
     "output_type": "execute_result"
    }
   ],
   "source": [
    "trace1 = go.Scatter(\n",
    "    mode = \"markers\",\n",
    "    x = df.radius_val,\n",
    "    y = df.iso_rad,\n",
    "    \n",
    "    error_y = {\n",
    "        \"type\" : \"data\",\n",
    "        \"array\" : df.iso_rad_Err,\n",
    "        \"visible\" : True\n",
    "        },\n",
    "    error_x = {\n",
    "        \"type\" : \"data\",\n",
    "        \"array\" : df.radius_sigma,\n",
    "        \"visible\" : True\n",
    "        }\n",
    "    )\n",
    "\n",
    "layout = go.Layout(\n",
    "            yaxis={\n",
    "                \"title\" : \"Radius from Isoclassify\",\n",
    "                \"mirror\" : \"ticks\",\n",
    "                \"linecolor\" : \"black\",\n",
    "                \"linewidth\" : 1,\n",
    "                \"range\" : [0.4,1.4]},\n",
    "            xaxis={\n",
    "                \"title\" : \"Radius from GAIA D2\",\n",
    "                \"mirror\" : \"ticks\",\n",
    "                \"linecolor\" : \"black\",\n",
    "                \"linewidth\" : 1,\n",
    "                \"range\" : [0.4,1.4]},\n",
    "            shapes = [{\n",
    "                \"type\" : \"line\",\n",
    "                \"x0\" : 0,\n",
    "                \"y0\" : 0,\n",
    "                \"x1\" : 1.5,\n",
    "                \"y1\" : 1.5,\n",
    "                \"line\" : {\n",
    "                    \"color\" : \"orange\",\n",
    "                    \"width\" : 3,\n",
    "                },\n",
    "                \"opacity\" : 0.5\n",
    "        \n",
    "            }],\n",
    "    )\n",
    "\n",
    "figure = go.Figure(data=[trace1], layout=layout)\n",
    "\n",
    "py.iplot(figure, filename=\"radius_scatter\")"
   ]
  },
  {
   "cell_type": "markdown",
   "metadata": {},
   "source": [
    "### Comparing Jackson et al (2018) to Isoclassify"
   ]
  },
  {
   "cell_type": "code",
   "execution_count": 5,
   "metadata": {
    "scrolled": false
   },
   "outputs": [
    {
     "data": {
      "text/html": [
       "<iframe id=\"igraph\" scrolling=\"no\" style=\"border:none;\" seamless=\"seamless\" src=\"https://plot.ly/~kaimibk/158.embed\" height=\"525px\" width=\"100%\"></iframe>"
      ],
      "text/plain": [
       "<plotly.tools.PlotlyDisplay object>"
      ]
     },
     "execution_count": 5,
     "metadata": {},
     "output_type": "execute_result"
    }
   ],
   "source": [
    "trace1 = go.Scatter(\n",
    "    mode = \"markers\",\n",
    "    x = df[\"R/Ro\"],\n",
    "    y = df.iso_rad,\n",
    "    \n",
    "    error_y = {\n",
    "        \"type\" : \"data\",\n",
    "        \"array\" : df.iso_rad_Err,\n",
    "        \"visible\" : True\n",
    "        }\n",
    "    )\n",
    "\n",
    "layout = go.Layout(\n",
    "            yaxis={\n",
    "                \"title\" : \"Radius from Isoclassify\",\n",
    "                \"mirror\" : \"ticks\",\n",
    "                \"linecolor\" : \"black\",\n",
    "                \"linewidth\" : 1,\n",
    "                \"range\" : [0.1,1.4]},\n",
    "            xaxis={\n",
    "                \"title\" : \"Radius from Jackson et al. (2018)\",\n",
    "                \"mirror\" : \"ticks\",\n",
    "                \"linecolor\" : \"black\",\n",
    "                \"linewidth\" : 1,\n",
    "                \"range\" : [0.1,1.4]},\n",
    "            shapes = [{\n",
    "                \"type\" : \"line\",\n",
    "                \"x0\" : 0,\n",
    "                \"y0\" : 0,\n",
    "                \"x1\" : 1.5,\n",
    "                \"y1\" : 1.5,\n",
    "                \"line\" : {\n",
    "                    \"color\" : \"orange\",\n",
    "                    \"width\" : 3,\n",
    "                },\n",
    "                \"opacity\" : 0.5\n",
    "        \n",
    "            }],\n",
    "    )\n",
    "\n",
    "figure = go.Figure(data=[trace1], layout=layout)\n",
    "\n",
    "py.iplot(figure, filename=\"radius_scatter_2\")"
   ]
  },
  {
   "cell_type": "markdown",
   "metadata": {},
   "source": [
    "#### Inspecting the Bifurcation\n",
    "We notice in the plot above, there exists 2 clusters around the 1:1 line."
   ]
  },
  {
   "cell_type": "code",
   "execution_count": 12,
   "metadata": {
    "scrolled": true
   },
   "outputs": [
    {
     "data": {
      "text/plain": [
       "Index(['J03394633+2358531', 'J03415864+2257020', 'J03421536+2311311',\n",
       "       'J03421789+2406578', 'J03422626+2351386', 'J03422730+2234248',\n",
       "       'J03424239+2320218', 'J03425653+2404581', 'J03430293+2440110',\n",
       "       'J03432662+2459395', 'J03432743+2237413', 'J03433413+2535261',\n",
       "       'J03434351+2412502', 'J03434841+2511241', 'J03440167+2351462',\n",
       "       'J03440959+2435222', 'J03441968+2353459', 'J03442065+2415109',\n",
       "       'J03442800+2410176', 'J03443741+2508160', 'J03443961+2431442',\n",
       "       'J03444398+2413523', 'J03445409+2426469', 'J03450113+2446411',\n",
       "       'J03451313+2415238', 'J03451534+2517221', 'J03451664+2434325',\n",
       "       'J03452957+2345379', 'J03453671+2439068', 'J03453898+2357011',\n",
       "       'J03453940+2345154', 'J03455048+2352262', 'J03455695+2301292',\n",
       "       'J03455790+2408411', 'J03460562+2436444', 'J03460649+2434027',\n",
       "       'J03460868+2440332', 'J03461174+2437203', 'J03461266+2335139',\n",
       "       'J03461984+2459015', 'J03462735+2508080', 'J03463777+2444517',\n",
       "       'J03465360+2417151', 'J03465491+2447468', 'J03465815+2333391',\n",
       "       'J03470141+2329419', 'J03471352+2342515', 'J03471365+2349535',\n",
       "       'J03471528+2506554', 'J03472201+2321366', 'J03472267+2344071',\n",
       "       'J03472385+2308571', 'J03473218+2318235', 'J03473345+2341330',\n",
       "       'J03473603+2328270', 'J03473977+2300047', 'J03474464+2342033',\n",
       "       'J03474785+2513345', 'J03475286+2259341', 'J03475526+2319060',\n",
       "       'J03480497+2324138', 'J03480796+2344238', 'J03480894+2342235',\n",
       "       'J03481098+2330253', 'J03481523+2326056', 'J03481608+2335155',\n",
       "       'J03481801+2353294', 'J03481983+2336121', 'J03482264+2252217',\n",
       "       'J03482391+2308084', 'J03482658+2311299', 'J03483548+2412033',\n",
       "       'J03484042+2436342', 'J03484097+2314176', 'J03484213+2500285',\n",
       "       'J03484877+2324483', 'J03485827+2305393', 'J03490097+2454102',\n",
       "       'J03490114+2338158', 'J03490591+2306222', 'J03491640+2403491',\n",
       "       'J03491680+2400588', 'J03492873+2342440', 'J03493253+2355426',\n",
       "       'J03493302+2432027', 'J03493653+2417460', 'J03494112+2314596',\n",
       "       'J03494227+2427470', 'J03494270+2419077', 'J03495035+2342202',\n",
       "       'J03500216+2351449', 'J03500505+2407264', 'J03501225+2359453',\n",
       "       'J03501526+2413363', 'J03502089+2428003'],\n",
       "      dtype='object', name='Name')"
      ]
     },
     "execution_count": 12,
     "metadata": {},
     "output_type": "execute_result"
    }
   ],
   "source": [
    "one_to_one = np.arange(0, 1.4)\n",
    "\n",
    "c1 = df.iso_rad < np.interp(df[\"R/Ro\"], one_to_one, one_to_one)\n",
    "\n",
    "df.index[c1]"
   ]
  },
  {
   "cell_type": "code",
   "execution_count": 14,
   "metadata": {},
   "outputs": [
    {
     "data": {
      "text/html": [
       "<iframe id=\"igraph\" scrolling=\"no\" style=\"border:none;\" seamless=\"seamless\" src=\"https://plot.ly/~kaimibk/186.embed\" height=\"525px\" width=\"100%\"></iframe>"
      ],
      "text/plain": [
       "<plotly.tools.PlotlyDisplay object>"
      ]
     },
     "execution_count": 14,
     "metadata": {},
     "output_type": "execute_result"
    }
   ],
   "source": [
    "trace1 = go.Scatter(\n",
    "    mode = \"markers\",\n",
    "    x = df[\"R/Ro\"][~c1],\n",
    "    y = df.iso_rad[~c1],\n",
    "    \n",
    "    error_y = {\n",
    "        \"type\" : \"data\",\n",
    "        \"array\" : df.iso_rad_Err,\n",
    "        \"visible\" : True\n",
    "        },\n",
    "    name = \"Upper bifurcation\"\n",
    "    )\n",
    "\n",
    "trace2 = go.Scatter(\n",
    "    mode = \"markers\",\n",
    "    x = df[\"R/Ro\"][c1],\n",
    "    y = df.iso_rad[c1],\n",
    "    \n",
    "    error_y = {\n",
    "        \"type\" : \"data\",\n",
    "        \"array\" : df.iso_rad_Err[c1],\n",
    "        \"visible\" : True\n",
    "        },\n",
    "    name = \"Lower bifurcation\"\n",
    "    )\n",
    "\n",
    "layout = go.Layout(\n",
    "            yaxis={\n",
    "                \"title\" : \"Radius from Isoclassify\",\n",
    "                \"mirror\" : \"ticks\",\n",
    "                \"linecolor\" : \"black\",\n",
    "                \"linewidth\" : 1,\n",
    "                \"range\" : [0.1,1.4]},\n",
    "            xaxis={\n",
    "                \"title\" : \"Radius from Jackson et al. (2018)\",\n",
    "                \"mirror\" : \"ticks\",\n",
    "                \"linecolor\" : \"black\",\n",
    "                \"linewidth\" : 1,\n",
    "                \"range\" : [0.1,1.4]},\n",
    "            shapes = [{\n",
    "                \"type\" : \"line\",\n",
    "                \"x0\" : 0,\n",
    "                \"y0\" : 0,\n",
    "                \"x1\" : 1.5,\n",
    "                \"y1\" : 1.5,\n",
    "                \"line\" : {\n",
    "                    \"color\" : \"black\",\n",
    "                    \"width\" : 3,\n",
    "                },\n",
    "                \"opacity\" : 0.5\n",
    "        \n",
    "            }],\n",
    "    )\n",
    "\n",
    "figure = go.Figure(data=[trace1, trace2], layout=layout)\n",
    "\n",
    "py.iplot(figure, filename=\"radius_scatter_2_bi\")"
   ]
  },
  {
   "cell_type": "markdown",
   "metadata": {},
   "source": [
    "### Compare Jackson et al (2018) to GAIA"
   ]
  },
  {
   "cell_type": "code",
   "execution_count": 19,
   "metadata": {},
   "outputs": [
    {
     "data": {
      "text/html": [
       "<iframe id=\"igraph\" scrolling=\"no\" style=\"border:none;\" seamless=\"seamless\" src=\"https://plot.ly/~kaimibk/162.embed\" height=\"525px\" width=\"100%\"></iframe>"
      ],
      "text/plain": [
       "<plotly.tools.PlotlyDisplay object>"
      ]
     },
     "execution_count": 19,
     "metadata": {},
     "output_type": "execute_result"
    }
   ],
   "source": [
    "trace1 = go.Scatter(\n",
    "    mode = \"markers\",\n",
    "    x = df[\"R/Ro\"],\n",
    "    y = df.radius_val,\n",
    "    \n",
    "    error_y = {\n",
    "        \"type\" : \"data\",\n",
    "        \"array\" : df.iso_rad_Err,\n",
    "        \"visible\" : True\n",
    "        }\n",
    "    )\n",
    "\n",
    "layout = go.Layout(\n",
    "            yaxis={\n",
    "                \"title\" : \"Radius from GAIA\",\n",
    "                \"mirror\" : \"ticks\",\n",
    "                \"linecolor\" : \"black\",\n",
    "                \"linewidth\" : 1,\n",
    "                \"range\" : [0.1,1.4]},\n",
    "            xaxis={\n",
    "                \"title\" : \"Radius from Jackson et al. (2018)\",\n",
    "                \"mirror\" : \"ticks\",\n",
    "                \"linecolor\" : \"black\",\n",
    "                \"linewidth\" : 1,\n",
    "                \"range\" : [0.1,1.4]},\n",
    "            shapes = [{\n",
    "                \"type\" : \"line\",\n",
    "                \"x0\" : 0,\n",
    "                \"y0\" : 0,\n",
    "                \"x1\" : 1.5,\n",
    "                \"y1\" : 1.5,\n",
    "                \"line\" : {\n",
    "                    \"color\" : \"orange\",\n",
    "                    \"width\" : 3,\n",
    "                },\n",
    "                \"opacity\" : 0.5\n",
    "        \n",
    "            }],\n",
    "    )\n",
    "\n",
    "figure = go.Figure(data=[trace1], layout=layout)\n",
    "\n",
    "py.iplot(figure, filename=\"radius_scatter_3\")"
   ]
  },
  {
   "cell_type": "markdown",
   "metadata": {},
   "source": [
    "### Inspect Teff vs Radii"
   ]
  },
  {
   "cell_type": "code",
   "execution_count": 21,
   "metadata": {},
   "outputs": [
    {
     "data": {
      "text/html": [
       "<iframe id=\"igraph\" scrolling=\"no\" style=\"border:none;\" seamless=\"seamless\" src=\"https://plot.ly/~kaimibk/196.embed\" height=\"525px\" width=\"100%\"></iframe>"
      ],
      "text/plain": [
       "<plotly.tools.PlotlyDisplay object>"
      ]
     },
     "execution_count": 21,
     "metadata": {},
     "output_type": "execute_result"
    }
   ],
   "source": [
    "trace1 = go.Scatter(\n",
    "    mode = \"markers\",\n",
    "    x = df.iso_teff[~c1],\n",
    "    y = df.iso_rad[~c1],\n",
    "    \n",
    "    error_x = {\n",
    "        \"type\" : \"data\",\n",
    "        \"array\" : df.iso_teff_Err[~c1],\n",
    "        \"visible\" : True\n",
    "        },\n",
    "    error_y = {\n",
    "        \"type\" : \"data\",\n",
    "        \"array\" : df.iso_rad_Err[~c1],\n",
    "        \"visible\" : True\n",
    "        },\n",
    "    name = \"Upper bifurcation\"\n",
    "    )\n",
    "\n",
    "trace2 = go.Scatter(\n",
    "    mode = \"markers\",\n",
    "    x = df.iso_teff[c1],\n",
    "    y = df.iso_rad[c1],\n",
    "    error_x = {\n",
    "        \"type\" : \"data\",\n",
    "        \"array\" : df.iso_teff_Err[c1],\n",
    "        \"visible\" : True\n",
    "        },\n",
    "    error_y = {\n",
    "        \"type\" : \"data\",\n",
    "        \"array\" : df.iso_rad_Err[c1],\n",
    "        \"visible\" : True\n",
    "        },\n",
    "    name = \"Lower bifurcation\"\n",
    "    )\n",
    "\n",
    "layout = go.Layout(\n",
    "            legend = {\"x\" : 0.05, \"y\" : 0.95},\n",
    "            yaxis={\n",
    "                \"title\" : \"Radius from Isoclassify\",\n",
    "                \"mirror\" : \"ticks\",\n",
    "                \"linecolor\" : \"black\",\n",
    "                \"linewidth\" : 1,\n",
    "                \"range\" : [0,1.4]},\n",
    "            xaxis={\n",
    "                \"title\" : \"Teff from Isoclassify\",\n",
    "                \"mirror\" : \"ticks\",\n",
    "                \"linecolor\" : \"black\",\n",
    "                \"linewidth\" : 1,\n",
    "                \"range\" : [3000, 6500]}\n",
    "    )\n",
    "\n",
    "figure = go.Figure(data=[trace1, trace2], layout=layout)\n",
    "\n",
    "py.iplot(figure, filename=\"teff_radii_iso\")"
   ]
  },
  {
   "cell_type": "markdown",
   "metadata": {},
   "source": [
    "### VSINI vs V\n",
    "Recall $V = 2\\pi R_* / P_{rot}$"
   ]
  },
  {
   "cell_type": "code",
   "execution_count": 5,
   "metadata": {},
   "outputs": [
    {
     "name": "stderr",
     "output_type": "stream",
     "text": [
      "/u/kaimibk/miniconda3/lib/python3.6/site-packages/quantities/uncertainquantity.py:68: RuntimeWarning:\n",
      "\n",
      "invalid value encountered in true_divide\n",
      "\n"
     ]
    }
   ],
   "source": [
    "from quantities import UncertainQuantity as d\n",
    "\n",
    "df.VSINI.replace(regex=True, inplace=True, to_replace=r'<', value=r'')\n",
    "df.VSINI = df.VSINI.astype(float)\n",
    "\n",
    "df.EVSINI.replace(regex=True, inplace=True, to_replace=r' ---', value=r'')\n",
    "df.EVSINI = pd.to_numeric(df.EVSINI, errors='ignore')\n",
    "\n",
    "p = d(df.Period.values,\n",
    "     units=\"day\").rescale(\"second\")\n",
    "r = d(df.iso_rad.values, \n",
    "      units = \"R_sun\",\n",
    "      uncertainty=df.iso_rad_Err.values).rescale(\"meter\")\n",
    "vs = d(df.VSINI.values, \n",
    "       units=\"kilometer / second\",\n",
    "       uncertainty=df.EVSINI.values).rescale(\"meter / second\")\n",
    "\n",
    "V = (2.0 * np.pi * r / p).rescale(\"km/s\")\n",
    "df[\"V_iso\"] = V.magnitude\n",
    "df[\"V_iso_err\"] = V.udf.VSINI.replace(regex=True, inplace=True, to_replace=r'<', value=r'')\n",
    "df.VSINI = df.VSINI.astype(float)\n",
    "\n",
    "df.EVSINI.replace(regex=True, inplace=True, to_replace=r' ---', value=r'')\n",
    "df.EVSINI = pd.to_numeric(df.EVSINI, errors='ignore')ncertainty"
   ]
  },
  {
   "cell_type": "code",
   "execution_count": 44,
   "metadata": {},
   "outputs": [],
   "source": [
    "upper_limits = np.array(list(map(lambda x: True if x == \"flat\" else False, df.distribution)))"
   ]
  },
  {
   "cell_type": "code",
   "execution_count": 51,
   "metadata": {},
   "outputs": [],
   "source": [
    "#y VSINI , x V\n",
    "## both branch, upper limit VSINI\n",
    "trace1 = go.Scatter(\n",
    "    x = df.V_iso[upper_limits],\n",
    "    y = df.VSINI[upper_limits],\n",
    "    mode = \"markers\",\n",
    "    error_x = {\n",
    "        \"type\" : \"data\",\n",
    "        \"array\" : df.V_iso_err[upper_limits],\n",
    "        \"visible\" : True,\n",
    "        \"color\" : \"#B5D3E7\",\n",
    "        },\n",
    "    error_y = {\n",
    "        \"type\" : \"data\",\n",
    "        \"array\" : df.EVSINI[upper_limits],\n",
    "        \"visible\" : True,\n",
    "        \"color\" : \"#B5D3E7\",\n",
    "        },\n",
    "    \n",
    "    marker = {\n",
    "        \"symbol\" : \"triangle-down\",\n",
    "        \"color\" : \"blue\",\n",
    "        \"size\" : 12,\n",
    "        },\n",
    "    name = None,\n",
    "    showlegend = False\n",
    "    )\n",
    "\n",
    "## lower branch, and upper limit VSINI\n",
    "trace2 = go.Scatter(\n",
    "    x = df.V_iso[upper_limits][c1],\n",
    "    y = df.VSINI[upper_limits][c1],\n",
    "    mode = \"markers\",\n",
    "    error_x = {\n",
    "        \"type\" : \"data\",\n",
    "        \"array\" : df.V_iso_err[upper_limits][c1],\n",
    "        \"visible\" : True,\n",
    "        \"color\" : \"#FFDA6B\"\n",
    "        },\n",
    "    error_y = {\n",
    "        \"type\" : \"data\",\n",
    "        \"array\" : df.EVSINI[upper_limits][c1],\n",
    "        \"visible\" : True,\n",
    "        \"color\" : \"#FFDA6B\"\n",
    "        },\n",
    "    \n",
    "    marker = {\n",
    "        \"symbol\" : \"triangle-down\",\n",
    "        \"color\" : \"orange\",\n",
    "        \"size\" : 12,\n",
    "        },\n",
    "    name = None,\n",
    "    showlegend = False\n",
    "    )\n",
    "\n",
    "## both branch, and not upper limit VSINI\n",
    "trace3 = go.Scatter(\n",
    "    x = df.V_iso[~upper_limits],\n",
    "    y = df.VSINI[~upper_limits],\n",
    "    mode = \"markers\",\n",
    "    error_x = {\n",
    "        \"type\" : \"data\",\n",
    "        \"array\" : df.V_iso_err[~upper_limits],\n",
    "        \"visible\" : True,\n",
    "        \"color\" : \"#B5D3E7\"\n",
    "        },\n",
    "    error_y = {\n",
    "        \"type\" : \"data\",\n",
    "        \"array\" : df.EVSINI[~upper_limits],\n",
    "        \"visible\" : True,\n",
    "        \"color\" : \"#B5D3E7\"\n",
    "        },\n",
    "    \n",
    "    marker = {\n",
    "        \"symbol\" : \"circle-open\",\n",
    "        \"color\" : \"blue\",\n",
    "        \"size\" : 12,\n",
    "        },\n",
    "    name = \"Upper Bifurcation\"\n",
    "    )\n",
    "\n",
    "## lower branch, and not upper limit VSINI\n",
    "trace4 = go.Scatter(\n",
    "    x = df.V_iso[~upper_limits][c1],\n",
    "    y = df.VSINI[~upper_limits][c1],\n",
    "    mode = \"markers\",\n",
    "    error_x = {\n",
    "        \"type\" : \"data\",\n",
    "        \"array\" : df.V_iso_err[~upper_limits][c1],\n",
    "        \"visible\" : True,\n",
    "        \"color\" : \"#FFDA6B\"\n",
    "        },\n",
    "    error_y = {\n",
    "        \"type\" : \"data\",\n",
    "        \"array\" : df.EVSINI[~upper_limits][c1],\n",
    "        \"visible\" : True,\n",
    "        \"color\" : \"#FFDA6B\"\n",
    "        },\n",
    "    \n",
    "    marker = {\n",
    "        \"symbol\" : \"circle-open\",\n",
    "        \"color\" : \"orange\",\n",
    "        \"size\" : 12,\n",
    "        },\n",
    "    name = \"Lower Bifurcation\"\n",
    "    )\n",
    "\n",
    "one_one = go.Scatter(\n",
    "    mode = \"lines\",\n",
    "    x = np.arange(0, 400),\n",
    "    y = np.arange(0, 400),\n",
    "    showlegend = False,\n",
    "    line = {\"color\" : \"grey\"},\n",
    "    hoverinfo = \"skip\"\n",
    "    )"
   ]
  },
  {
   "cell_type": "code",
   "execution_count": 52,
   "metadata": {},
   "outputs": [
    {
     "data": {
      "text/html": [
       "<iframe id=\"igraph\" scrolling=\"no\" style=\"border:none;\" seamless=\"seamless\" src=\"https://plot.ly/~kaimibk/198.embed\" height=\"525px\" width=\"100%\"></iframe>"
      ],
      "text/plain": [
       "<plotly.tools.PlotlyDisplay object>"
      ]
     },
     "execution_count": 52,
     "metadata": {},
     "output_type": "execute_result"
    }
   ],
   "source": [
    "layout = go.Layout(\n",
    "            legend = {\"x\" : 0.05, \"y\" : 0.95},\n",
    "            xaxis={\n",
    "                \"title\" : \"V [km/s]\",\n",
    "                \"mirror\" : \"ticks\",\n",
    "                \"linecolor\" : \"black\",\n",
    "                \"linewidth\" : 1,\n",
    "                \"range\" : [0,2.50],\n",
    "                \"type\" : \"log\",\n",
    "                \"exponentformat\" : \"power\"\n",
    "                },\n",
    "            yaxis={\n",
    "                \"title\" : \"VSINI [kms/s]\",\n",
    "                \"mirror\" : \"ticks\",\n",
    "                \"linecolor\" : \"black\",\n",
    "                \"linewidth\" : 1,\n",
    "                \"range\" : [0,2.50],\n",
    "                \"type\" : \"log\",\n",
    "                \"exponentformat\" : \"power\"\n",
    "                }\n",
    "    )\n",
    "figure = go.Figure(data=[one_one, trace1, trace2, trace3, trace4], layout=layout)\n",
    "\n",
    "py.iplot(figure, filename=\"VSINI_V_iso\")"
   ]
  },
  {
   "cell_type": "markdown",
   "metadata": {},
   "source": [
    "## Parallel Coordinates Plot"
   ]
  },
  {
   "cell_type": "code",
   "execution_count": 21,
   "metadata": {},
   "outputs": [
    {
     "data": {
      "text/html": [
       "<iframe id=\"igraph\" scrolling=\"no\" style=\"border:none;\" seamless=\"seamless\" src=\"https://plot.ly/~kaimibk/161.embed\" height=\"525px\" width=\"100%\"></iframe>"
      ],
      "text/plain": [
       "<plotly.tools.PlotlyDisplay object>"
      ]
     },
     "execution_count": 21,
     "metadata": {},
     "output_type": "execute_result"
    }
   ],
   "source": [
    "trace_all = go.Parcoords(\n",
    "            line = {'color' : 'blue'},\n",
    "            dimensions = list([\n",
    "            dict(range = [0,1.4],\n",
    "                 label = 'Isoclassify', \n",
    "                 values = df.iso_rad,\n",
    "                 constraintrange = [0,0.1]\n",
    "                ),\n",
    "                \n",
    "            dict(range = [0,1.4],\n",
    "                 label = 'GAIA DR2', \n",
    "                 values = df.radius_val,\n",
    "                 constraintrange = [0,0.1]\n",
    "                ),\n",
    "                \n",
    "            dict(range = [0,1.4],\n",
    "                 label = 'Jackson et al. (2018)', \n",
    "                 values = df[\"R/Ro\"]\n",
    "                )\n",
    "                 \n",
    "        ])\n",
    "    )\n",
    "\n",
    "layout = go.Layout(title = \"Radii Measurement Comparison\")\n",
    "\n",
    "figure = go.Figure(data=[trace_all], layout=layout)\n",
    "\n",
    "py.iplot(figure, filename = 'radius_parcoords_3')"
   ]
  },
  {
   "cell_type": "markdown",
   "metadata": {},
   "source": [
    "As we can see in the above Parallel Coordinates plot, isoclassify wasn't able to compute approximately 10 radii predicted by Jackson et al (2018)"
   ]
  },
  {
   "cell_type": "markdown",
   "metadata": {},
   "source": [
    "## Radius Ratio Histograms"
   ]
  },
  {
   "cell_type": "code",
   "execution_count": 19,
   "metadata": {
    "scrolled": false
   },
   "outputs": [
    {
     "data": {
      "text/html": [
       "<iframe id=\"igraph\" scrolling=\"no\" style=\"border:none;\" seamless=\"seamless\" src=\"https://plot.ly/~kaimibk/182.embed\" height=\"525px\" width=\"100%\"></iframe>"
      ],
      "text/plain": [
       "<plotly.tools.PlotlyDisplay object>"
      ]
     },
     "execution_count": 19,
     "metadata": {},
     "output_type": "execute_result"
    }
   ],
   "source": [
    "trace1 = go.Histogram(\n",
    "    \n",
    "    x = df.iso_rad / df[\"R/Ro\"],\n",
    "    cumulative = {\"enabled\" : False},\n",
    "    name = \"Isoclassify / Jackson et al (2018)\",\n",
    "    hoverinfo=\"all\"\n",
    "    )\n",
    "\n",
    "trace2 = go.Histogram(\n",
    "    x = df.radius_val / df[\"R/Ro\"],\n",
    "    cumulative = {\"enabled\" : False},\n",
    "    name = \"GAIA / Jackson et al (2018)\",\n",
    "    hoverinfo=\"all\"\n",
    "    )\n",
    "\n",
    "data = [trace1, trace2]\n",
    "layout = go.Layout(\n",
    "        barmode='overlay',\n",
    "        yaxis={\n",
    "            \"mirror\" : \"ticks\",\n",
    "            \"linecolor\" : \"black\",\n",
    "            \"linewidth\" : 1\n",
    "        },\n",
    "        xaxis={\n",
    "            \"mirror\" : \"ticks\",\n",
    "            \"linecolor\" : \"black\",\n",
    "            \"linewidth\" : 1\n",
    "        },\n",
    "        legend = {\n",
    "            \"x\" : 0.05,\n",
    "            \"y\" : 0.95\n",
    "        }\n",
    "    )\n",
    "\n",
    "fig = go.Figure(data=data, layout=layout)\n",
    "\n",
    "py.iplot(fig, filename='radii_ratio_histogram')"
   ]
  }
 ],
 "metadata": {
  "kernelspec": {
   "display_name": "Python 3",
   "language": "python",
   "name": "python3"
  },
  "language_info": {
   "codemirror_mode": {
    "name": "ipython",
    "version": 3
   },
   "file_extension": ".py",
   "mimetype": "text/x-python",
   "name": "python",
   "nbconvert_exporter": "python",
   "pygments_lexer": "ipython3",
   "version": "3.6.5"
  },
  "toc": {
   "base_numbering": 1,
   "nav_menu": {},
   "number_sections": true,
   "sideBar": true,
   "skip_h1_title": false,
   "title_cell": "Table of Contents",
   "title_sidebar": "Contents",
   "toc_cell": true,
   "toc_position": {},
   "toc_section_display": true,
   "toc_window_display": false
  },
  "varInspector": {
   "cols": {
    "lenName": 16,
    "lenType": 16,
    "lenVar": 40
   },
   "kernels_config": {
    "python": {
     "delete_cmd_postfix": "",
     "delete_cmd_prefix": "del ",
     "library": "var_list.py",
     "varRefreshCmd": "print(var_dic_list())"
    },
    "r": {
     "delete_cmd_postfix": ") ",
     "delete_cmd_prefix": "rm(",
     "library": "var_list.r",
     "varRefreshCmd": "cat(var_dic_list()) "
    }
   },
   "types_to_exclude": [
    "module",
    "function",
    "builtin_function_or_method",
    "instance",
    "_Feature"
   ],
   "window_display": false
  }
 },
 "nbformat": 4,
 "nbformat_minor": 2
}
