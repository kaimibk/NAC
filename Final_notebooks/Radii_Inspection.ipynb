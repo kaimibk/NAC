{
 "cells": [
  {
   "cell_type": "markdown",
   "metadata": {
    "toc": true
   },
   "source": [
    "<h1>Table of Contents<span class=\"tocSkip\"></span></h1>\n",
    "<div class=\"toc\"><ul class=\"toc-item\"><li><span><a href=\"#Scatter-Plots\" data-toc-modified-id=\"Scatter-Plots-1\"><span class=\"toc-item-num\">1&nbsp;&nbsp;</span>Scatter Plots</a></span><ul class=\"toc-item\"><li><span><a href=\"#Comparing-GAIA-to-Isoclassify\" data-toc-modified-id=\"Comparing-GAIA-to-Isoclassify-1.1\"><span class=\"toc-item-num\">1.1&nbsp;&nbsp;</span>Comparing GAIA to Isoclassify</a></span></li><li><span><a href=\"#Comparing-Jackson-et-al-(2018)-to-Isoclassify\" data-toc-modified-id=\"Comparing-Jackson-et-al-(2018)-to-Isoclassify-1.2\"><span class=\"toc-item-num\">1.2&nbsp;&nbsp;</span>Comparing Jackson et al (2018) to Isoclassify</a></span></li><li><span><a href=\"#Compare-Jackson-et-al-(2018)-to-GAIA\" data-toc-modified-id=\"Compare-Jackson-et-al-(2018)-to-GAIA-1.3\"><span class=\"toc-item-num\">1.3&nbsp;&nbsp;</span>Compare Jackson et al (2018) to GAIA</a></span></li></ul></li><li><span><a href=\"#Parallel-Coordinates-Plot\" data-toc-modified-id=\"Parallel-Coordinates-Plot-2\"><span class=\"toc-item-num\">2&nbsp;&nbsp;</span>Parallel Coordinates Plot</a></span><ul class=\"toc-item\"><li><span><a href=\"#Radius-Ratio-Histograms\" data-toc-modified-id=\"Radius-Ratio-Histograms-2.1\"><span class=\"toc-item-num\">2.1&nbsp;&nbsp;</span>Radius Ratio Histograms</a></span></li></ul></li></ul></div>"
   ]
  },
  {
   "cell_type": "code",
   "execution_count": 1,
   "metadata": {},
   "outputs": [],
   "source": [
    "import plotly.plotly as py\n",
    "import plotly.graph_objs as go\n",
    "import pandas as pd"
   ]
  },
  {
   "cell_type": "code",
   "execution_count": 2,
   "metadata": {},
   "outputs": [],
   "source": [
    "main_dir = \"/u/kaimibk/Documents/Research/NAC/\"\n",
    "data_dir = main_dir+\"data/\"\n",
    "out_dir = main_dir+\"output/\""
   ]
  },
  {
   "cell_type": "code",
   "execution_count": 3,
   "metadata": {},
   "outputs": [
    {
     "data": {
      "text/html": [
       "<div>\n",
       "<style scoped>\n",
       "    .dataframe tbody tr th:only-of-type {\n",
       "        vertical-align: middle;\n",
       "    }\n",
       "\n",
       "    .dataframe tbody tr th {\n",
       "        vertical-align: top;\n",
       "    }\n",
       "\n",
       "    .dataframe thead th {\n",
       "        text-align: right;\n",
       "    }\n",
       "</style>\n",
       "<table border=\"1\" class=\"dataframe\">\n",
       "  <thead>\n",
       "    <tr style=\"text-align: right;\">\n",
       "      <th></th>\n",
       "      <th>Name</th>\n",
       "      <th>Name.1</th>\n",
       "      <th>RA</th>\n",
       "      <th>Dec</th>\n",
       "      <th>K2MASS</th>\n",
       "      <th>(V-K)o</th>\n",
       "      <th>Period</th>\n",
       "      <th>Ref</th>\n",
       "      <th>BCK</th>\n",
       "      <th>logL/Lo</th>\n",
       "      <th>...</th>\n",
       "      <th>j_msigcom</th>\n",
       "      <th>h_m</th>\n",
       "      <th>h_msigcom</th>\n",
       "      <th>k_m</th>\n",
       "      <th>k_msigcom</th>\n",
       "      <th>iso_rad</th>\n",
       "      <th>iso_rad_Err</th>\n",
       "      <th>radius_sigma</th>\n",
       "      <th>lum_sigma</th>\n",
       "      <th>teff_sigma</th>\n",
       "    </tr>\n",
       "  </thead>\n",
       "  <tbody>\n",
       "    <tr>\n",
       "      <th>0</th>\n",
       "      <td>J03394633+2358531</td>\n",
       "      <td>J03394633+2358531</td>\n",
       "      <td>54.943067</td>\n",
       "      <td>23.981442</td>\n",
       "      <td>11.83</td>\n",
       "      <td>4.89</td>\n",
       "      <td>1.138</td>\n",
       "      <td>1</td>\n",
       "      <td>2.73</td>\n",
       "      <td>-1.66</td>\n",
       "      <td>...</td>\n",
       "      <td>0.026</td>\n",
       "      <td>12.004</td>\n",
       "      <td>0.030</td>\n",
       "      <td>11.830</td>\n",
       "      <td>0.022</td>\n",
       "      <td>0.328400</td>\n",
       "      <td>0.016717</td>\n",
       "      <td>NaN</td>\n",
       "      <td>NaN</td>\n",
       "      <td>358.07666</td>\n",
       "    </tr>\n",
       "    <tr>\n",
       "      <th>1</th>\n",
       "      <td>J03414664+2301198</td>\n",
       "      <td>J03414664+2301198</td>\n",
       "      <td>55.444367</td>\n",
       "      <td>23.022186</td>\n",
       "      <td>13.16</td>\n",
       "      <td>5.63</td>\n",
       "      <td>0.294</td>\n",
       "      <td>1</td>\n",
       "      <td>2.81</td>\n",
       "      <td>-2.23</td>\n",
       "      <td>...</td>\n",
       "      <td>0.024</td>\n",
       "      <td>13.485</td>\n",
       "      <td>0.031</td>\n",
       "      <td>13.162</td>\n",
       "      <td>0.028</td>\n",
       "      <td>0.268599</td>\n",
       "      <td>0.009612</td>\n",
       "      <td>NaN</td>\n",
       "      <td>NaN</td>\n",
       "      <td>NaN</td>\n",
       "    </tr>\n",
       "    <tr>\n",
       "      <th>2</th>\n",
       "      <td>J03414895+2303235</td>\n",
       "      <td>J03414895+2303235</td>\n",
       "      <td>55.453963</td>\n",
       "      <td>23.056539</td>\n",
       "      <td>13.19</td>\n",
       "      <td>6.09</td>\n",
       "      <td>0.239</td>\n",
       "      <td>1</td>\n",
       "      <td>2.86</td>\n",
       "      <td>-2.26</td>\n",
       "      <td>...</td>\n",
       "      <td>0.026</td>\n",
       "      <td>13.491</td>\n",
       "      <td>0.034</td>\n",
       "      <td>13.194</td>\n",
       "      <td>0.033</td>\n",
       "      <td>0.269544</td>\n",
       "      <td>0.014740</td>\n",
       "      <td>NaN</td>\n",
       "      <td>NaN</td>\n",
       "      <td>NaN</td>\n",
       "    </tr>\n",
       "    <tr>\n",
       "      <th>3</th>\n",
       "      <td>J03415671+2358434</td>\n",
       "      <td>J03415671+2358434</td>\n",
       "      <td>55.486317</td>\n",
       "      <td>23.978728</td>\n",
       "      <td>13.25</td>\n",
       "      <td>5.76</td>\n",
       "      <td>0.401</td>\n",
       "      <td>1</td>\n",
       "      <td>2.82</td>\n",
       "      <td>-2.27</td>\n",
       "      <td>...</td>\n",
       "      <td>0.028</td>\n",
       "      <td>13.568</td>\n",
       "      <td>0.035</td>\n",
       "      <td>13.250</td>\n",
       "      <td>0.029</td>\n",
       "      <td>0.303899</td>\n",
       "      <td>0.012164</td>\n",
       "      <td>NaN</td>\n",
       "      <td>NaN</td>\n",
       "      <td>NaN</td>\n",
       "    </tr>\n",
       "  </tbody>\n",
       "</table>\n",
       "<p>4 rows × 48 columns</p>\n",
       "</div>"
      ],
      "text/plain": [
       "                Name             Name.1         RA        Dec  K2MASS  (V-K)o  \\\n",
       "0  J03394633+2358531  J03394633+2358531  54.943067  23.981442   11.83    4.89   \n",
       "1  J03414664+2301198  J03414664+2301198  55.444367  23.022186   13.16    5.63   \n",
       "2  J03414895+2303235  J03414895+2303235  55.453963  23.056539   13.19    6.09   \n",
       "3  J03415671+2358434  J03415671+2358434  55.486317  23.978728   13.25    5.76   \n",
       "\n",
       "   Period  Ref   BCK  logL/Lo     ...      j_msigcom     h_m  h_msigcom  \\\n",
       "0   1.138    1  2.73    -1.66     ...          0.026  12.004      0.030   \n",
       "1   0.294    1  2.81    -2.23     ...          0.024  13.485      0.031   \n",
       "2   0.239    1  2.86    -2.26     ...          0.026  13.491      0.034   \n",
       "3   0.401    1  2.82    -2.27     ...          0.028  13.568      0.035   \n",
       "\n",
       "      k_m  k_msigcom   iso_rad  iso_rad_Err  radius_sigma  lum_sigma  \\\n",
       "0  11.830      0.022  0.328400     0.016717           NaN        NaN   \n",
       "1  13.162      0.028  0.268599     0.009612           NaN        NaN   \n",
       "2  13.194      0.033  0.269544     0.014740           NaN        NaN   \n",
       "3  13.250      0.029  0.303899     0.012164           NaN        NaN   \n",
       "\n",
       "   teff_sigma  \n",
       "0   358.07666  \n",
       "1         NaN  \n",
       "2         NaN  \n",
       "3         NaN  \n",
       "\n",
       "[4 rows x 48 columns]"
      ]
     },
     "execution_count": 3,
     "metadata": {},
     "output_type": "execute_result"
    }
   ],
   "source": [
    "df = pd.read_csv(data_dir+\"Pleiades_master.csv\", index_col=0)\n",
    "df.head(4)"
   ]
  },
  {
   "cell_type": "markdown",
   "metadata": {},
   "source": [
    "## Scatter Plots"
   ]
  },
  {
   "cell_type": "markdown",
   "metadata": {},
   "source": [
    "### Comparing GAIA to Isoclassify"
   ]
  },
  {
   "cell_type": "code",
   "execution_count": 12,
   "metadata": {},
   "outputs": [
    {
     "data": {
      "text/html": [
       "<iframe id=\"igraph\" scrolling=\"no\" style=\"border:none;\" seamless=\"seamless\" src=\"https://plot.ly/~kaimibk/155.embed\" height=\"525px\" width=\"100%\"></iframe>"
      ],
      "text/plain": [
       "<plotly.tools.PlotlyDisplay object>"
      ]
     },
     "execution_count": 12,
     "metadata": {},
     "output_type": "execute_result"
    }
   ],
   "source": [
    "trace1 = go.Scatter(\n",
    "    mode = \"markers\",\n",
    "    x = df.radius_val,\n",
    "    y = df.iso_rad,\n",
    "    \n",
    "    error_y = {\n",
    "        \"type\" : \"data\",\n",
    "        \"array\" : df.iso_rad_Err,\n",
    "        \"visible\" : True\n",
    "        },\n",
    "    error_x = {\n",
    "        \"type\" : \"data\",\n",
    "        \"array\" : df.radius_sigma,\n",
    "        \"visible\" : True\n",
    "        }\n",
    "    )\n",
    "\n",
    "layout = go.Layout(\n",
    "            yaxis={\n",
    "                \"title\" : \"Radius from Isoclassify\",\n",
    "                \"mirror\" : \"ticks\",\n",
    "                \"linecolor\" : \"black\",\n",
    "                \"linewidth\" : 1,\n",
    "                \"range\" : [0.4,1.4]},\n",
    "            xaxis={\n",
    "                \"title\" : \"Radius from GAIA D2\",\n",
    "                \"mirror\" : \"ticks\",\n",
    "                \"linecolor\" : \"black\",\n",
    "                \"linewidth\" : 1,\n",
    "                \"range\" : [0.4,1.4]},\n",
    "            shapes = [{\n",
    "                \"type\" : \"line\",\n",
    "                \"x0\" : 0,\n",
    "                \"y0\" : 0,\n",
    "                \"x1\" : 1.5,\n",
    "                \"y1\" : 1.5,\n",
    "                \"line\" : {\n",
    "                    \"color\" : \"orange\",\n",
    "                    \"width\" : 3,\n",
    "                },\n",
    "                \"opacity\" : 0.5\n",
    "        \n",
    "            }],\n",
    "    )\n",
    "\n",
    "figure = go.Figure(data=[trace1], layout=layout)\n",
    "\n",
    "py.iplot(figure, filename=\"radius_scatter\")"
   ]
  },
  {
   "cell_type": "markdown",
   "metadata": {},
   "source": [
    "### Comparing Jackson et al (2018) to Isoclassify"
   ]
  },
  {
   "cell_type": "code",
   "execution_count": 18,
   "metadata": {
    "scrolled": false
   },
   "outputs": [
    {
     "data": {
      "text/html": [
       "<iframe id=\"igraph\" scrolling=\"no\" style=\"border:none;\" seamless=\"seamless\" src=\"https://plot.ly/~kaimibk/158.embed\" height=\"525px\" width=\"100%\"></iframe>"
      ],
      "text/plain": [
       "<plotly.tools.PlotlyDisplay object>"
      ]
     },
     "execution_count": 18,
     "metadata": {},
     "output_type": "execute_result"
    }
   ],
   "source": [
    "trace1 = go.Scatter(\n",
    "    mode = \"markers\",\n",
    "    x = df[\"R/Ro\"],\n",
    "    y = df.iso_rad,\n",
    "    \n",
    "    error_y = {\n",
    "        \"type\" : \"data\",\n",
    "        \"array\" : df.iso_rad_Err,\n",
    "        \"visible\" : True\n",
    "        }\n",
    "    )\n",
    "\n",
    "layout = go.Layout(\n",
    "            yaxis={\n",
    "                \"title\" : \"Radius from Isoclassify\",\n",
    "                \"mirror\" : \"ticks\",\n",
    "                \"linecolor\" : \"black\",\n",
    "                \"linewidth\" : 1,\n",
    "                \"range\" : [0.1,1.4]},\n",
    "            xaxis={\n",
    "                \"title\" : \"Radius from Jackson et al. (2018)\",\n",
    "                \"mirror\" : \"ticks\",\n",
    "                \"linecolor\" : \"black\",\n",
    "                \"linewidth\" : 1,\n",
    "                \"range\" : [0.1,1.4]},\n",
    "            shapes = [{\n",
    "                \"type\" : \"line\",\n",
    "                \"x0\" : 0,\n",
    "                \"y0\" : 0,\n",
    "                \"x1\" : 1.5,\n",
    "                \"y1\" : 1.5,\n",
    "                \"line\" : {\n",
    "                    \"color\" : \"orange\",\n",
    "                    \"width\" : 3,\n",
    "                },\n",
    "                \"opacity\" : 0.5\n",
    "        \n",
    "            }],\n",
    "    )\n",
    "\n",
    "figure = go.Figure(data=[trace1], layout=layout)\n",
    "\n",
    "py.iplot(figure, filename=\"radius_scatter_2\")"
   ]
  },
  {
   "cell_type": "markdown",
   "metadata": {},
   "source": [
    "### Compare Jackson et al (2018) to GAIA"
   ]
  },
  {
   "cell_type": "code",
   "execution_count": 19,
   "metadata": {},
   "outputs": [
    {
     "data": {
      "text/html": [
       "<iframe id=\"igraph\" scrolling=\"no\" style=\"border:none;\" seamless=\"seamless\" src=\"https://plot.ly/~kaimibk/162.embed\" height=\"525px\" width=\"100%\"></iframe>"
      ],
      "text/plain": [
       "<plotly.tools.PlotlyDisplay object>"
      ]
     },
     "execution_count": 19,
     "metadata": {},
     "output_type": "execute_result"
    }
   ],
   "source": [
    "trace1 = go.Scatter(\n",
    "    mode = \"markers\",\n",
    "    x = df[\"R/Ro\"],\n",
    "    y = df.radius_val,\n",
    "    \n",
    "    error_y = {\n",
    "        \"type\" : \"data\",\n",
    "        \"array\" : df.iso_rad_Err,\n",
    "        \"visible\" : True\n",
    "        }\n",
    "    )\n",
    "\n",
    "layout = go.Layout(\n",
    "            yaxis={\n",
    "                \"title\" : \"Radius from GAIA\",\n",
    "                \"mirror\" : \"ticks\",\n",
    "                \"linecolor\" : \"black\",\n",
    "                \"linewidth\" : 1,\n",
    "                \"range\" : [0.1,1.4]},\n",
    "            xaxis={\n",
    "                \"title\" : \"Radius from Jackson et al. (2018)\",\n",
    "                \"mirror\" : \"ticks\",\n",
    "                \"linecolor\" : \"black\",\n",
    "                \"linewidth\" : 1,\n",
    "                \"range\" : [0.1,1.4]},\n",
    "            shapes = [{\n",
    "                \"type\" : \"line\",\n",
    "                \"x0\" : 0,\n",
    "                \"y0\" : 0,\n",
    "                \"x1\" : 1.5,\n",
    "                \"y1\" : 1.5,\n",
    "                \"line\" : {\n",
    "                    \"color\" : \"orange\",\n",
    "                    \"width\" : 3,\n",
    "                },\n",
    "                \"opacity\" : 0.5\n",
    "        \n",
    "            }],\n",
    "    )\n",
    "\n",
    "figure = go.Figure(data=[trace1], layout=layout)\n",
    "\n",
    "py.iplot(figure, filename=\"radius_scatter_3\")"
   ]
  },
  {
   "cell_type": "markdown",
   "metadata": {},
   "source": [
    "## Parallel Coordinates Plot"
   ]
  },
  {
   "cell_type": "code",
   "execution_count": 24,
   "metadata": {},
   "outputs": [
    {
     "data": {
      "text/html": [
       "<iframe id=\"igraph\" scrolling=\"no\" style=\"border:none;\" seamless=\"seamless\" src=\"https://plot.ly/~kaimibk/161.embed\" height=\"525px\" width=\"100%\"></iframe>"
      ],
      "text/plain": [
       "<plotly.tools.PlotlyDisplay object>"
      ]
     },
     "execution_count": 24,
     "metadata": {},
     "output_type": "execute_result"
    }
   ],
   "source": [
    "trace_all = go.Parcoords(\n",
    "            line = {'color' : 'blue'},\n",
    "            dimensions = list([\n",
    "            dict(range = [0,1.4],\n",
    "                     label = 'Isoclassify', values = df.iso_rad),\n",
    "                \n",
    "            dict(range = [0,1.4],\n",
    "                     label = 'GAIA DR2', values = df.radius_val),\n",
    "                \n",
    "            dict(range = [0,1.4],\n",
    "                     label = 'Jackson et al. (2018)', values = df[\"R/Ro\"])\n",
    "                 \n",
    "        ])\n",
    "    )\n",
    "\n",
    "layout = go.Layout(title = \"Radii Measurement Comparison\")\n",
    "\n",
    "figure = go.Figure(data=[trace_all], layout=layout)\n",
    "\n",
    "py.iplot(figure, filename = 'radius_parcoords_3')"
   ]
  },
  {
   "cell_type": "markdown",
   "metadata": {},
   "source": [
    "As we can see in the above Parallel Coordinates plot, isoclassify wasn't able to compute approximately 10 radii predicted by Jackson et al (2018)"
   ]
  },
  {
   "cell_type": "markdown",
   "metadata": {},
   "source": [
    "### Radius Ratio Histograms"
   ]
  },
  {
   "cell_type": "code",
   "execution_count": 19,
   "metadata": {},
   "outputs": [
    {
     "data": {
      "text/html": [
       "<iframe id=\"igraph\" scrolling=\"no\" style=\"border:none;\" seamless=\"seamless\" src=\"https://plot.ly/~kaimibk/182.embed\" height=\"525px\" width=\"100%\"></iframe>"
      ],
      "text/plain": [
       "<plotly.tools.PlotlyDisplay object>"
      ]
     },
     "execution_count": 19,
     "metadata": {},
     "output_type": "execute_result"
    }
   ],
   "source": [
    "trace1 = go.Histogram(\n",
    "    \n",
    "    x = df.iso_rad / df[\"R/Ro\"],\n",
    "    cumulative = {\"enabled\" : False},\n",
    "    name = \"Isoclassify / Jackson et al (2018)\",\n",
    "    hoverinfo=\"all\"\n",
    "    )\n",
    "\n",
    "trace2 = go.Histogram(\n",
    "    x = df.radius_val / df[\"R/Ro\"],\n",
    "    cumulative = {\"enabled\" : False},\n",
    "    name = \"GAIA / Jackson et al (2018)\",\n",
    "    hoverinfo=\"all\"\n",
    "    )\n",
    "\n",
    "data = [trace1, trace2]\n",
    "layout = go.Layout(\n",
    "        barmode='overlay',\n",
    "        yaxis={\n",
    "            \"mirror\" : \"ticks\",\n",
    "            \"linecolor\" : \"black\",\n",
    "            \"linewidth\" : 1\n",
    "        },\n",
    "        xaxis={\n",
    "            \"mirror\" : \"ticks\",\n",
    "            \"linecolor\" : \"black\",\n",
    "            \"linewidth\" : 1\n",
    "        },\n",
    "        legend = {\n",
    "            \"x\" : 0.05,\n",
    "            \"y\" : 0.95\n",
    "        }\n",
    "    )\n",
    "\n",
    "fig = go.Figure(data=data, layout=layout)\n",
    "\n",
    "py.iplot(fig, filename='radii_ratio_histogram')"
   ]
  },
  {
   "cell_type": "code",
   "execution_count": null,
   "metadata": {},
   "outputs": [],
   "source": []
  }
 ],
 "metadata": {
  "kernelspec": {
   "display_name": "Python 3",
   "language": "python",
   "name": "python3"
  },
  "language_info": {
   "codemirror_mode": {
    "name": "ipython",
    "version": 3
   },
   "file_extension": ".py",
   "mimetype": "text/x-python",
   "name": "python",
   "nbconvert_exporter": "python",
   "pygments_lexer": "ipython3",
   "version": "3.6.5"
  },
  "toc": {
   "base_numbering": 1,
   "nav_menu": {},
   "number_sections": true,
   "sideBar": true,
   "skip_h1_title": false,
   "title_cell": "Table of Contents",
   "title_sidebar": "Contents",
   "toc_cell": true,
   "toc_position": {},
   "toc_section_display": true,
   "toc_window_display": false
  },
  "varInspector": {
   "cols": {
    "lenName": 16,
    "lenType": 16,
    "lenVar": 40
   },
   "kernels_config": {
    "python": {
     "delete_cmd_postfix": "",
     "delete_cmd_prefix": "del ",
     "library": "var_list.py",
     "varRefreshCmd": "print(var_dic_list())"
    },
    "r": {
     "delete_cmd_postfix": ") ",
     "delete_cmd_prefix": "rm(",
     "library": "var_list.r",
     "varRefreshCmd": "cat(var_dic_list()) "
    }
   },
   "types_to_exclude": [
    "module",
    "function",
    "builtin_function_or_method",
    "instance",
    "_Feature"
   ],
   "window_display": false
  }
 },
 "nbformat": 4,
 "nbformat_minor": 2
}
