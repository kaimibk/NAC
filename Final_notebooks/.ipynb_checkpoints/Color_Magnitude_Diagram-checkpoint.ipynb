{
 "cells": [
  {
   "cell_type": "markdown",
   "metadata": {
    "toc": true
   },
   "source": [
    "<h1>Table of Contents<span class=\"tocSkip\"></span></h1>\n",
    "<div class=\"toc\"><ul class=\"toc-item\"><li><span><a href=\"#Using-2MASS-Photometry\" data-toc-modified-id=\"Using-2MASS-Photometry-1\"><span class=\"toc-item-num\">1&nbsp;&nbsp;</span>Using 2MASS Photometry</a></span></li><li><span><a href=\"#Using-GAIA-Measurements\" data-toc-modified-id=\"Using-GAIA-Measurements-2\"><span class=\"toc-item-num\">2&nbsp;&nbsp;</span>Using GAIA Measurements</a></span></li></ul></div>"
   ]
  },
  {
   "cell_type": "code",
   "execution_count": 1,
   "metadata": {},
   "outputs": [],
   "source": [
    "import plotly.plotly as py\n",
    "import plotly.graph_objs as go\n",
    "from plotly.tools import make_subplots\n",
    "import pandas as pd\n",
    "from uncertainties import unumpy"
   ]
  },
  {
   "cell_type": "code",
   "execution_count": 2,
   "metadata": {},
   "outputs": [],
   "source": [
    "main_dir = \"/u/kaimibk/Documents/Research/NAC/\"\n",
    "data_dir = main_dir+\"data/\"\n",
    "out_dir = main_dir+\"output/\""
   ]
  },
  {
   "cell_type": "code",
   "execution_count": 3,
   "metadata": {},
   "outputs": [
    {
     "data": {
      "text/html": [
       "<div>\n",
       "<style scoped>\n",
       "    .dataframe tbody tr th:only-of-type {\n",
       "        vertical-align: middle;\n",
       "    }\n",
       "\n",
       "    .dataframe tbody tr th {\n",
       "        vertical-align: top;\n",
       "    }\n",
       "\n",
       "    .dataframe thead th {\n",
       "        text-align: right;\n",
       "    }\n",
       "</style>\n",
       "<table border=\"1\" class=\"dataframe\">\n",
       "  <thead>\n",
       "    <tr style=\"text-align: right;\">\n",
       "      <th></th>\n",
       "      <th>Name</th>\n",
       "      <th>RA</th>\n",
       "      <th>Dec</th>\n",
       "      <th>K2MASS</th>\n",
       "      <th>(V-K)o</th>\n",
       "      <th>Period</th>\n",
       "      <th>Ref</th>\n",
       "      <th>BCK</th>\n",
       "      <th>logL/Lo</th>\n",
       "      <th>M/Mo</th>\n",
       "      <th>...</th>\n",
       "      <th>k_msigcom</th>\n",
       "      <th>radius_sigma</th>\n",
       "      <th>lum_sigma</th>\n",
       "      <th>teff_sigma</th>\n",
       "      <th>V_iso</th>\n",
       "      <th>V_iso_err</th>\n",
       "      <th>iso_rad</th>\n",
       "      <th>iso_rad_Err</th>\n",
       "      <th>iso_teff</th>\n",
       "      <th>iso_teff_Err</th>\n",
       "    </tr>\n",
       "  </thead>\n",
       "  <tbody>\n",
       "    <tr>\n",
       "      <th>0</th>\n",
       "      <td>J03394633+2358531</td>\n",
       "      <td>54.943067</td>\n",
       "      <td>23.981442</td>\n",
       "      <td>11.83</td>\n",
       "      <td>4.89</td>\n",
       "      <td>1.138</td>\n",
       "      <td>1</td>\n",
       "      <td>2.73</td>\n",
       "      <td>-1.66</td>\n",
       "      <td>0.41</td>\n",
       "      <td>...</td>\n",
       "      <td>0.022</td>\n",
       "      <td>NaN</td>\n",
       "      <td>NaN</td>\n",
       "      <td>358.07666</td>\n",
       "      <td>18.646667</td>\n",
       "      <td>0.593949</td>\n",
       "      <td>0.419426</td>\n",
       "      <td>0.013360</td>\n",
       "      <td>4222.314643</td>\n",
       "      <td>100.0</td>\n",
       "    </tr>\n",
       "    <tr>\n",
       "      <th>1</th>\n",
       "      <td>J03414664+2301198</td>\n",
       "      <td>55.444367</td>\n",
       "      <td>23.022186</td>\n",
       "      <td>13.16</td>\n",
       "      <td>5.63</td>\n",
       "      <td>0.294</td>\n",
       "      <td>1</td>\n",
       "      <td>2.81</td>\n",
       "      <td>-2.23</td>\n",
       "      <td>0.19</td>\n",
       "      <td>...</td>\n",
       "      <td>0.028</td>\n",
       "      <td>NaN</td>\n",
       "      <td>NaN</td>\n",
       "      <td>NaN</td>\n",
       "      <td>46.221644</td>\n",
       "      <td>1.654124</td>\n",
       "      <td>0.268599</td>\n",
       "      <td>0.009612</td>\n",
       "      <td>3951.132391</td>\n",
       "      <td>100.0</td>\n",
       "    </tr>\n",
       "  </tbody>\n",
       "</table>\n",
       "<p>2 rows × 51 columns</p>\n",
       "</div>"
      ],
      "text/plain": [
       "                Name         RA        Dec  K2MASS  (V-K)o  Period  Ref   BCK  \\\n",
       "0  J03394633+2358531  54.943067  23.981442   11.83    4.89   1.138    1  2.73   \n",
       "1  J03414664+2301198  55.444367  23.022186   13.16    5.63   0.294    1  2.81   \n",
       "\n",
       "   logL/Lo  M/Mo      ...       k_msigcom  radius_sigma  lum_sigma  \\\n",
       "0    -1.66  0.41      ...           0.022           NaN        NaN   \n",
       "1    -2.23  0.19      ...           0.028           NaN        NaN   \n",
       "\n",
       "   teff_sigma      V_iso  V_iso_err   iso_rad  iso_rad_Err     iso_teff  \\\n",
       "0   358.07666  18.646667   0.593949  0.419426     0.013360  4222.314643   \n",
       "1         NaN  46.221644   1.654124  0.268599     0.009612  3951.132391   \n",
       "\n",
       "   iso_teff_Err  \n",
       "0         100.0  \n",
       "1         100.0  \n",
       "\n",
       "[2 rows x 51 columns]"
      ]
     },
     "execution_count": 3,
     "metadata": {},
     "output_type": "execute_result"
    }
   ],
   "source": [
    "df = pd.read_csv(data_dir+\"Pleiades_master.csv\", index_col=0)\n",
    "df.head(2)"
   ]
  },
  {
   "cell_type": "markdown",
   "metadata": {},
   "source": [
    "### Using 2MASS Photometry"
   ]
  },
  {
   "cell_type": "markdown",
   "metadata": {},
   "source": [
    "Here we inspect the color magnitude diagram using the *j*, *h*, and *k* magnitudes reported by the 2MASS survey. We investigate *k* vs. *j - k* AND *j* vs. *j - h*."
   ]
  },
  {
   "cell_type": "code",
   "execution_count": 4,
   "metadata": {},
   "outputs": [],
   "source": [
    "j = unumpy.uarray(df.j_m.values, df.j_msigcom.values)\n",
    "h = unumpy.uarray(df.h_m.values, df.h_msigcom.values)\n",
    "k = unumpy.uarray(df.k_m.values, df.k_msigcom.values)"
   ]
  },
  {
   "cell_type": "code",
   "execution_count": 5,
   "metadata": {},
   "outputs": [
    {
     "data": {
      "text/plain": [
       "14    J03424239+2320218\n",
       "22    J03430293+2440110\n",
       "29    J03432662+2459395\n",
       "30    J03432743+2237413\n",
       "Name: Name, dtype: object"
      ]
     },
     "execution_count": 5,
     "metadata": {},
     "output_type": "execute_result"
    }
   ],
   "source": [
    "one_to_one = np.arange(0, 1.4)\n",
    "\n",
    "c1 = df.iso_rad < np.interp(df[\"R/Ro\"], one_to_one, one_to_one)\n",
    "\n",
    "df.Name[c1].head(4)"
   ]
  },
  {
   "cell_type": "code",
   "execution_count": 6,
   "metadata": {},
   "outputs": [
    {
     "data": {
      "text/plain": [
       "Index(['Name', 'RA', 'Dec', 'K2MASS', '(V-K)o', 'Period', 'Ref', 'BCK',\n",
       "       'logL/Lo', 'M/Mo', 'R/Ro', '(vsini)p', 'MK', 'SNR', 'RV', 'SRV', 'FWHM',\n",
       "       'SFWHM', 'FWHMo', 'VSINI', 'EVSINI', 'Rsini', 'distribution',\n",
       "       'parallax', 'parallax_error', 'radius_val', 'radius_percentile_lower',\n",
       "       'radius_percentile_upper', 'lum_val', 'lum_percentile_lower',\n",
       "       'lum_percentile_upper', 'teff_val', 'teff_percentile_lower',\n",
       "       'teff_percentile_upper', 'bp_rp', 'phot_g_mean_mag', 'j_m', 'j_msigcom',\n",
       "       'h_m', 'h_msigcom', 'k_m', 'k_msigcom', 'radius_sigma', 'lum_sigma',\n",
       "       'teff_sigma', 'V_iso', 'V_iso_err', 'iso_rad', 'iso_rad_Err',\n",
       "       'iso_teff', 'iso_teff_Err'],\n",
       "      dtype='object')"
      ]
     },
     "execution_count": 6,
     "metadata": {},
     "output_type": "execute_result"
    }
   ],
   "source": [
    "df.columns"
   ]
  },
  {
   "cell_type": "code",
   "execution_count": 7,
   "metadata": {},
   "outputs": [],
   "source": [
    "text = [df.Name[i]+\"\\n Iso Radius: {} \\n Jackson Radius {}\".format(df.iso_rad[i], df[\"R/Ro\"][i]) for i in range(len(df))]"
   ]
  },
  {
   "cell_type": "code",
   "execution_count": 8,
   "metadata": {},
   "outputs": [],
   "source": [
    "text = np.array(text)"
   ]
  },
  {
   "cell_type": "code",
   "execution_count": 11,
   "metadata": {},
   "outputs": [
    {
     "name": "stdout",
     "output_type": "stream",
     "text": [
      "This is the format of your plot grid:\n",
      "[ (1,1) x1,y1 ]  [ (1,2) x2,y2 ]\n",
      "\n"
     ]
    }
   ],
   "source": [
    "j_k_trace = go.Scatter(\n",
    "    mode = \"markers\",\n",
    "    text = text[~c1],\n",
    "    hoverinfo = \"text+x+y\",\n",
    "    \n",
    "    x = unumpy.nominal_values(j-k)[~c1],\n",
    "    y = unumpy.nominal_values(k)[~c1],\n",
    "    \n",
    "    error_x = {\n",
    "        \"type\" : \"data\",\n",
    "        \"array\" : unumpy.std_devs(j-k)[~c1],\n",
    "        \"visible\" : False,\n",
    "        \"color\" : 'black'\n",
    "        },\n",
    "    error_y = {\n",
    "        \"type\" : \"data\",\n",
    "        \"array\" : unumpy.std_devs(k)[~c1],\n",
    "        \"visible\" : False,\n",
    "        \"color\" : 'black'\n",
    "        },\n",
    "    marker = {\n",
    "        #\"color\" : 'rgba(10, 100, 255, 0.3)',\n",
    "        \"size\" : 5,\n",
    "        \"line\" : {\n",
    "            \"color\" : 'rgb(0, 0, 0)',\n",
    "            \"width\" : 0.5\n",
    "            }\n",
    "        }\n",
    "    )\n",
    "j_k_trace2 = go.Scatter(\n",
    "    mode = \"markers\",\n",
    "    text = text[c1],\n",
    "    hoverinfo = \"text+x+y\",\n",
    "    \n",
    "    x = unumpy.nominal_values(j-k)[c1],\n",
    "    y = unumpy.nominal_values(k)[c1],\n",
    "    \n",
    "    error_x = {\n",
    "        \"type\" : \"data\",\n",
    "        \"array\" : unumpy.std_devs(j-k)[c1],\n",
    "        \"visible\" : False,\n",
    "        \"color\" : 'black'\n",
    "        },\n",
    "    error_y = {\n",
    "        \"type\" : \"data\",\n",
    "        \"array\" : unumpy.std_devs(k)[c1],\n",
    "        \"visible\" : False,\n",
    "        \"color\" : 'black'\n",
    "        },\n",
    "    marker = {\n",
    "        #\"color\" : 'rgba(10, 100, 255, 0.3)',\n",
    "        \"size\" : 5,\n",
    "        \"line\" : {\n",
    "            \"color\" : 'rgb(0, 0, 0)',\n",
    "            \"width\" : 0.5\n",
    "            }\n",
    "        }\n",
    "    )\n",
    "\n",
    "j_h_trace = go.Scatter(\n",
    "    mode = \"markers\",\n",
    "    text = text[~c1],\n",
    "    hoverinfo = \"text+x+y\",\n",
    "    \n",
    "    x = unumpy.nominal_values(j-h)[~c1],\n",
    "    y = unumpy.nominal_values(h)[~c1],\n",
    "    \n",
    "    error_x = {\n",
    "        \"type\" : \"data\",\n",
    "        \"array\" : unumpy.std_devs(j-h)[~c1],\n",
    "        \"visible\" : False,\n",
    "        \"color\" : 'black'\n",
    "        },\n",
    "    error_y = {\n",
    "        \"type\" : \"data\",\n",
    "        \"array\" : unumpy.std_devs(j)[~c1],\n",
    "        \"visible\" : False,\n",
    "        \"color\" : 'black'\n",
    "        },\n",
    "    marker = {\n",
    "        #\"color\" : 'rgba(255, 100, 15, 0.3)',\n",
    "        \"size\" : 5,\n",
    "        \"line\" : {\n",
    "            \"color\" : 'rgb(0, 0, 0)',\n",
    "            \"width\" : 0.5\n",
    "            }\n",
    "        }\n",
    "    )\n",
    "\n",
    "j_h_trace2 = go.Scatter(\n",
    "    mode = \"markers\",\n",
    "    text = text[c1],\n",
    "    hoverinfo = \"text+x+y\",\n",
    "    \n",
    "    x = unumpy.nominal_values(j-h)[c1],\n",
    "    y = unumpy.nominal_values(h)[c1],\n",
    "    \n",
    "    error_x = {\n",
    "        \"type\" : \"data\",\n",
    "        \"array\" : unumpy.std_devs(j-h)[c1],\n",
    "        \"visible\" : False,\n",
    "        \"color\" : 'black'\n",
    "        },\n",
    "    error_y = {\n",
    "        \"type\" : \"data\",\n",
    "        \"array\" : unumpy.std_devs(j)[c1],\n",
    "        \"visible\" : False,\n",
    "        \"color\" : 'black'\n",
    "        },\n",
    "    marker = {\n",
    "        #\"color\" : 'rgba(255, 100, 15, 0.3)',\n",
    "        \"size\" : 5,\n",
    "        \"line\" : {\n",
    "            \"color\" : 'rgb(0, 0, 0)',\n",
    "            \"width\" : 0.5\n",
    "            }\n",
    "        }\n",
    "    )\n",
    "\n",
    "fig = make_subplots(rows=1, cols=2)\n",
    "fig.append_trace(j_k_trace, 1, 1)\n",
    "fig.append_trace(j_k_trace2, 1, 1)\n",
    "fig.append_trace(j_h_trace, 1, 2)\n",
    "fig.append_trace(j_h_trace2, 1, 2)\n",
    "\n",
    "# fig = make_subplots(rows=2, cols=1)\n",
    "# fig.append_trace(j_k_trace, 1, 1)\n",
    "# fig.append_trace(j_k_trace2, 1, 1)\n",
    "# fig.append_trace(j_h_trace, 2, 1)\n",
    "# fig.append_trace(j_h_trace2, 2, 1)\n",
    "\n",
    "fig['layout'].update(showlegend=False)\n",
    "\n",
    "fig['layout']['xaxis1'].update(title='j-k', mirror='ticks', linecolor='black', linewidth=1)\n",
    "fig['layout']['xaxis2'].update(title='j-h', mirror='ticks', linecolor='black', linewidth=1)\n",
    "\n",
    "fig['layout']['yaxis1'].update(title='k', autorange = 'reversed', mirror='ticks', linecolor='black', linewidth=1)\n",
    "fig['layout']['yaxis2'].update(title='j', autorange = 'reversed', mirror='ticks', linecolor='black', linewidth=1)\n",
    "\n",
    "\n",
    "\n",
    "#py.iplot(fig, filename=\"cmd_2mass_jk\")"
   ]
  },
  {
   "cell_type": "markdown",
   "metadata": {},
   "source": [
    "### Using GAIA Measurements"
   ]
  },
  {
   "cell_type": "markdown",
   "metadata": {},
   "source": [
    "Here we inspect the color magnitude diagram using information provided by the GAIA survey, specifically *bp_rp*, color, and *phot_g_mean_mag*, apparent magnitude. Recall that apparent magnitude is converted using the following relation,\n",
    "\n",
    "$$M = m + 5(\\log_{10} p + 1)$$"
   ]
  },
  {
   "cell_type": "code",
   "execution_count": 12,
   "metadata": {},
   "outputs": [],
   "source": [
    "df[\"gaia_abs_mag\"] = df.phot_g_mean_mag + 5*np.log10(df.parallax + 1)"
   ]
  },
  {
   "cell_type": "code",
   "execution_count": 13,
   "metadata": {},
   "outputs": [
    {
     "data": {
      "text/plain": [
       "0    20.176881\n",
       "1    21.836556\n",
       "2    22.282054\n",
       "3    21.659404\n",
       "4    20.259029\n",
       "Name: gaia_abs_mag, dtype: float64"
      ]
     },
     "execution_count": 13,
     "metadata": {},
     "output_type": "execute_result"
    }
   ],
   "source": [
    "df.gaia_abs_mag.head(5)"
   ]
  },
  {
   "cell_type": "code",
   "execution_count": 14,
   "metadata": {},
   "outputs": [],
   "source": [
    "gaia_trace = go.Scatter(\n",
    "    mode = \"markers\",\n",
    "    text = text[~c1],\n",
    "    hoverinfo = \"text+x+y\",\n",
    "    \n",
    "    x = df.bp_rp[~c1],\n",
    "    y = df.gaia_abs_mag[~c1],\n",
    "\n",
    "    marker = {\n",
    "        \"size\" : 6,\n",
    "        \"line\" : {\n",
    "            \"color\" : 'rgb(0, 0, 0)',\n",
    "            \"width\" : 1\n",
    "            }\n",
    "        }\n",
    "    )\n",
    "\n",
    "gaia_trace2 = go.Scatter(\n",
    "    mode = \"markers\",\n",
    "    text = text[c1],\n",
    "    hoverinfo = \"text+x+y\",\n",
    "    \n",
    "    x = df.bp_rp[c1],\n",
    "    y = df.gaia_abs_mag[c1],\n",
    "\n",
    "    marker = {\n",
    "        \"size\" : 6,\n",
    "        \"line\" : {\n",
    "            \"color\" : 'rgb(0, 0, 0)',\n",
    "            \"width\" : 1\n",
    "            }\n",
    "        }\n",
    "    )\n",
    "\n",
    "layout = go.Layout(\n",
    "            xaxis={\n",
    "                \"title\" : \"bp_rp\",\n",
    "                \"mirror\" : \"ticks\",\n",
    "                \"linecolor\" : \"black\",\n",
    "                \"linewidth\" : 1\n",
    "            },\n",
    "            yaxis={\n",
    "                \"title\" : \"M_G\",\n",
    "                \"mirror\" : \"ticks\",\n",
    "                \"linecolor\" : \"black\",\n",
    "                \"linewidth\" : 1,\n",
    "                \"autorange\" : \"reversed\"\n",
    "            },\n",
    "    )\n",
    "\n",
    "#figure = go.Figure(data=[gaia_trace, gaia_trace2], layout=layout)\n",
    "\n",
    "#py.iplot(figure, filename=\"cmd_gaia\")"
   ]
  },
  {
   "cell_type": "code",
   "execution_count": 15,
   "metadata": {},
   "outputs": [
    {
     "name": "stderr",
     "output_type": "stream",
     "text": [
      "/u/kaimibk/miniconda3/lib/python3.6/site-packages/plotly/graph_objs/_deprecations.py:318: DeprecationWarning:\n",
      "\n",
      "plotly.graph_objs.Font is deprecated.\n",
      "Please replace it with one of the following more specific types\n",
      "  - plotly.graph_objs.layout.Font\n",
      "  - plotly.graph_objs.layout.hoverlabel.Font\n",
      "  - etc.\n",
      "\n",
      "\n"
     ]
    },
    {
     "name": "stdout",
     "output_type": "stream",
     "text": [
      "This is the format of your plot grid:\n",
      "[ (1,1) x1,y1 ]  [ (1,2) x2,y2 ]\n",
      "[ (2,1) x3,y3           -      ]\n",
      "\n"
     ]
    },
    {
     "data": {
      "text/html": [
       "<iframe id=\"igraph\" scrolling=\"no\" style=\"border:none;\" seamless=\"seamless\" src=\"https://plot.ly/~kaimibk/180.embed\" height=\"525px\" width=\"100%\"></iframe>"
      ],
      "text/plain": [
       "<plotly.tools.PlotlyDisplay object>"
      ]
     },
     "execution_count": 15,
     "metadata": {},
     "output_type": "execute_result"
    }
   ],
   "source": [
    "fig = make_subplots(rows=2, cols=2, specs=[[{}, {}], [{'colspan': 2}, None]],\n",
    "                          subplot_titles=('2MASS J-K','2MASS J-H', 'GAIA G Magnitude'))\n",
    "\n",
    "fig.append_trace(j_k_trace, 1, 1)\n",
    "fig.append_trace(j_k_trace2, 1, 1)\n",
    "\n",
    "fig.append_trace(j_h_trace, 1, 2)\n",
    "fig.append_trace(j_h_trace2, 1, 2)\n",
    "\n",
    "fig.append_trace(gaia_trace, 2, 1)\n",
    "fig.append_trace(gaia_trace2, 2, 1)\n",
    "\n",
    "fig['layout'].update(showlegend=False)\n",
    "\n",
    "fig['layout']['xaxis1'].update(title='j-k', mirror='ticks', linecolor='black', linewidth=1)\n",
    "fig['layout']['xaxis2'].update(title='j-h', mirror='ticks', linecolor='black', linewidth=1)\n",
    "fig['layout']['xaxis3'].update(title='bp_rp', mirror='ticks', linecolor='black', linewidth=1)\n",
    "\n",
    "\n",
    "fig['layout']['yaxis1'].update(title='k', autorange = 'reversed', mirror='ticks', linecolor='black', linewidth=1)\n",
    "fig['layout']['yaxis2'].update(title='j', autorange = 'reversed', mirror='ticks', linecolor='black', linewidth=1)\n",
    "fig['layout']['yaxis3'].update(title='M_G', autorange = 'reversed', mirror='ticks', linecolor='black', linewidth=1)\n",
    "\n",
    "\n",
    "py.iplot(fig, filename='cmd_combined')"
   ]
  },
  {
   "cell_type": "code",
   "execution_count": 16,
   "metadata": {},
   "outputs": [
    {
     "ename": "KeyError",
     "evalue": "\"labels ['Name.1'] not contained in axis\"",
     "output_type": "error",
     "traceback": [
      "\u001b[0;31m---------------------------------------------------------------------------\u001b[0m",
      "\u001b[0;31mKeyError\u001b[0m                                  Traceback (most recent call last)",
      "\u001b[0;32m<ipython-input-16-4632b57d3a59>\u001b[0m in \u001b[0;36m<module>\u001b[0;34m()\u001b[0m\n\u001b[0;32m----> 1\u001b[0;31m \u001b[0mdf\u001b[0m\u001b[0;34m[\u001b[0m\u001b[0mdf\u001b[0m\u001b[0;34m.\u001b[0m\u001b[0miso_rad\u001b[0m \u001b[0;34m==\u001b[0m \u001b[0;36m0\u001b[0m\u001b[0;34m]\u001b[0m\u001b[0;34m.\u001b[0m\u001b[0mdrop\u001b[0m\u001b[0;34m(\u001b[0m\u001b[0mcolumns\u001b[0m\u001b[0;34m=\u001b[0m\u001b[0;34m\"Name.1\"\u001b[0m\u001b[0;34m)\u001b[0m\u001b[0;34m.\u001b[0m\u001b[0mto_csv\u001b[0m\u001b[0;34m(\u001b[0m\u001b[0mmain_dir\u001b[0m\u001b[0;34m+\u001b[0m\u001b[0;34m\"iso_fail.csv\"\u001b[0m\u001b[0;34m)\u001b[0m\u001b[0;34m\u001b[0m\u001b[0m\n\u001b[0m",
      "\u001b[0;32m~/miniconda3/lib/python3.6/site-packages/pandas/core/frame.py\u001b[0m in \u001b[0;36mdrop\u001b[0;34m(self, labels, axis, index, columns, level, inplace, errors)\u001b[0m\n\u001b[1;32m   3695\u001b[0m                                            \u001b[0mindex\u001b[0m\u001b[0;34m=\u001b[0m\u001b[0mindex\u001b[0m\u001b[0;34m,\u001b[0m \u001b[0mcolumns\u001b[0m\u001b[0;34m=\u001b[0m\u001b[0mcolumns\u001b[0m\u001b[0;34m,\u001b[0m\u001b[0;34m\u001b[0m\u001b[0m\n\u001b[1;32m   3696\u001b[0m                                            \u001b[0mlevel\u001b[0m\u001b[0;34m=\u001b[0m\u001b[0mlevel\u001b[0m\u001b[0;34m,\u001b[0m \u001b[0minplace\u001b[0m\u001b[0;34m=\u001b[0m\u001b[0minplace\u001b[0m\u001b[0;34m,\u001b[0m\u001b[0;34m\u001b[0m\u001b[0m\n\u001b[0;32m-> 3697\u001b[0;31m                                            errors=errors)\n\u001b[0m\u001b[1;32m   3698\u001b[0m \u001b[0;34m\u001b[0m\u001b[0m\n\u001b[1;32m   3699\u001b[0m     @rewrite_axis_style_signature('mapper', [('copy', True),\n",
      "\u001b[0;32m~/miniconda3/lib/python3.6/site-packages/pandas/core/generic.py\u001b[0m in \u001b[0;36mdrop\u001b[0;34m(self, labels, axis, index, columns, level, inplace, errors)\u001b[0m\n\u001b[1;32m   3106\u001b[0m         \u001b[0;32mfor\u001b[0m \u001b[0maxis\u001b[0m\u001b[0;34m,\u001b[0m \u001b[0mlabels\u001b[0m \u001b[0;32min\u001b[0m \u001b[0maxes\u001b[0m\u001b[0;34m.\u001b[0m\u001b[0mitems\u001b[0m\u001b[0;34m(\u001b[0m\u001b[0;34m)\u001b[0m\u001b[0;34m:\u001b[0m\u001b[0;34m\u001b[0m\u001b[0m\n\u001b[1;32m   3107\u001b[0m             \u001b[0;32mif\u001b[0m \u001b[0mlabels\u001b[0m \u001b[0;32mis\u001b[0m \u001b[0;32mnot\u001b[0m \u001b[0;32mNone\u001b[0m\u001b[0;34m:\u001b[0m\u001b[0;34m\u001b[0m\u001b[0m\n\u001b[0;32m-> 3108\u001b[0;31m                 \u001b[0mobj\u001b[0m \u001b[0;34m=\u001b[0m \u001b[0mobj\u001b[0m\u001b[0;34m.\u001b[0m\u001b[0m_drop_axis\u001b[0m\u001b[0;34m(\u001b[0m\u001b[0mlabels\u001b[0m\u001b[0;34m,\u001b[0m \u001b[0maxis\u001b[0m\u001b[0;34m,\u001b[0m \u001b[0mlevel\u001b[0m\u001b[0;34m=\u001b[0m\u001b[0mlevel\u001b[0m\u001b[0;34m,\u001b[0m \u001b[0merrors\u001b[0m\u001b[0;34m=\u001b[0m\u001b[0merrors\u001b[0m\u001b[0;34m)\u001b[0m\u001b[0;34m\u001b[0m\u001b[0m\n\u001b[0m\u001b[1;32m   3109\u001b[0m \u001b[0;34m\u001b[0m\u001b[0m\n\u001b[1;32m   3110\u001b[0m         \u001b[0;32mif\u001b[0m \u001b[0minplace\u001b[0m\u001b[0;34m:\u001b[0m\u001b[0;34m\u001b[0m\u001b[0m\n",
      "\u001b[0;32m~/miniconda3/lib/python3.6/site-packages/pandas/core/generic.py\u001b[0m in \u001b[0;36m_drop_axis\u001b[0;34m(self, labels, axis, level, errors)\u001b[0m\n\u001b[1;32m   3138\u001b[0m                 \u001b[0mnew_axis\u001b[0m \u001b[0;34m=\u001b[0m \u001b[0maxis\u001b[0m\u001b[0;34m.\u001b[0m\u001b[0mdrop\u001b[0m\u001b[0;34m(\u001b[0m\u001b[0mlabels\u001b[0m\u001b[0;34m,\u001b[0m \u001b[0mlevel\u001b[0m\u001b[0;34m=\u001b[0m\u001b[0mlevel\u001b[0m\u001b[0;34m,\u001b[0m \u001b[0merrors\u001b[0m\u001b[0;34m=\u001b[0m\u001b[0merrors\u001b[0m\u001b[0;34m)\u001b[0m\u001b[0;34m\u001b[0m\u001b[0m\n\u001b[1;32m   3139\u001b[0m             \u001b[0;32melse\u001b[0m\u001b[0;34m:\u001b[0m\u001b[0;34m\u001b[0m\u001b[0m\n\u001b[0;32m-> 3140\u001b[0;31m                 \u001b[0mnew_axis\u001b[0m \u001b[0;34m=\u001b[0m \u001b[0maxis\u001b[0m\u001b[0;34m.\u001b[0m\u001b[0mdrop\u001b[0m\u001b[0;34m(\u001b[0m\u001b[0mlabels\u001b[0m\u001b[0;34m,\u001b[0m \u001b[0merrors\u001b[0m\u001b[0;34m=\u001b[0m\u001b[0merrors\u001b[0m\u001b[0;34m)\u001b[0m\u001b[0;34m\u001b[0m\u001b[0m\n\u001b[0m\u001b[1;32m   3141\u001b[0m             \u001b[0mdropped\u001b[0m \u001b[0;34m=\u001b[0m \u001b[0mself\u001b[0m\u001b[0;34m.\u001b[0m\u001b[0mreindex\u001b[0m\u001b[0;34m(\u001b[0m\u001b[0;34m**\u001b[0m\u001b[0;34m{\u001b[0m\u001b[0maxis_name\u001b[0m\u001b[0;34m:\u001b[0m \u001b[0mnew_axis\u001b[0m\u001b[0;34m}\u001b[0m\u001b[0;34m)\u001b[0m\u001b[0;34m\u001b[0m\u001b[0m\n\u001b[1;32m   3142\u001b[0m             \u001b[0;32mtry\u001b[0m\u001b[0;34m:\u001b[0m\u001b[0;34m\u001b[0m\u001b[0m\n",
      "\u001b[0;32m~/miniconda3/lib/python3.6/site-packages/pandas/core/indexes/base.py\u001b[0m in \u001b[0;36mdrop\u001b[0;34m(self, labels, errors)\u001b[0m\n\u001b[1;32m   4386\u001b[0m             \u001b[0;32mif\u001b[0m \u001b[0merrors\u001b[0m \u001b[0;34m!=\u001b[0m \u001b[0;34m'ignore'\u001b[0m\u001b[0;34m:\u001b[0m\u001b[0;34m\u001b[0m\u001b[0m\n\u001b[1;32m   4387\u001b[0m                 raise KeyError(\n\u001b[0;32m-> 4388\u001b[0;31m                     'labels %s not contained in axis' % labels[mask])\n\u001b[0m\u001b[1;32m   4389\u001b[0m             \u001b[0mindexer\u001b[0m \u001b[0;34m=\u001b[0m \u001b[0mindexer\u001b[0m\u001b[0;34m[\u001b[0m\u001b[0;34m~\u001b[0m\u001b[0mmask\u001b[0m\u001b[0;34m]\u001b[0m\u001b[0;34m\u001b[0m\u001b[0m\n\u001b[1;32m   4390\u001b[0m         \u001b[0;32mreturn\u001b[0m \u001b[0mself\u001b[0m\u001b[0;34m.\u001b[0m\u001b[0mdelete\u001b[0m\u001b[0;34m(\u001b[0m\u001b[0mindexer\u001b[0m\u001b[0;34m)\u001b[0m\u001b[0;34m\u001b[0m\u001b[0m\n",
      "\u001b[0;31mKeyError\u001b[0m: \"labels ['Name.1'] not contained in axis\""
     ]
    }
   ],
   "source": [
    "df[df.iso_rad == 0].drop(columns=\"Name.1\").to_csv(main_dir+\"iso_fail.csv\")"
   ]
  },
  {
   "cell_type": "code",
   "execution_count": null,
   "metadata": {},
   "outputs": [],
   "source": []
  }
 ],
 "metadata": {
  "kernelspec": {
   "display_name": "Python 3",
   "language": "python",
   "name": "python3"
  },
  "language_info": {
   "codemirror_mode": {
    "name": "ipython",
    "version": 3
   },
   "file_extension": ".py",
   "mimetype": "text/x-python",
   "name": "python",
   "nbconvert_exporter": "python",
   "pygments_lexer": "ipython3",
   "version": "3.6.5"
  },
  "toc": {
   "base_numbering": 1,
   "nav_menu": {},
   "number_sections": true,
   "sideBar": true,
   "skip_h1_title": false,
   "title_cell": "Table of Contents",
   "title_sidebar": "Contents",
   "toc_cell": true,
   "toc_position": {},
   "toc_section_display": true,
   "toc_window_display": true
  },
  "varInspector": {
   "cols": {
    "lenName": 16,
    "lenType": 16,
    "lenVar": 40
   },
   "kernels_config": {
    "python": {
     "delete_cmd_postfix": "",
     "delete_cmd_prefix": "del ",
     "library": "var_list.py",
     "varRefreshCmd": "print(var_dic_list())"
    },
    "r": {
     "delete_cmd_postfix": ") ",
     "delete_cmd_prefix": "rm(",
     "library": "var_list.r",
     "varRefreshCmd": "cat(var_dic_list()) "
    }
   },
   "types_to_exclude": [
    "module",
    "function",
    "builtin_function_or_method",
    "instance",
    "_Feature"
   ],
   "window_display": false
  }
 },
 "nbformat": 4,
 "nbformat_minor": 2
}
