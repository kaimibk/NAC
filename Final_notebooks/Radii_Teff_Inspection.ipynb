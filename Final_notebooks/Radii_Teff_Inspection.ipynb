{
 "cells": [
  {
   "cell_type": "code",
   "execution_count": 1,
   "metadata": {},
   "outputs": [],
   "source": [
    "import pandas as pd\n",
    "import plotly.plotly as py\n",
    "import plotly.graph_objs as go\n",
    "from plotly.tools import make_subplots\n"
   ]
  },
  {
   "cell_type": "code",
   "execution_count": 2,
   "metadata": {},
   "outputs": [],
   "source": [
    "main_dir = \"/u/kaimibk/Documents/Research/NAC/\"\n",
    "data_dir = main_dir+\"data/\"\n",
    "out_dir = main_dir+\"output/\""
   ]
  },
  {
   "cell_type": "code",
   "execution_count": 3,
   "metadata": {},
   "outputs": [
    {
     "data": {
      "text/html": [
       "<div>\n",
       "<style scoped>\n",
       "    .dataframe tbody tr th:only-of-type {\n",
       "        vertical-align: middle;\n",
       "    }\n",
       "\n",
       "    .dataframe tbody tr th {\n",
       "        vertical-align: top;\n",
       "    }\n",
       "\n",
       "    .dataframe thead th {\n",
       "        text-align: right;\n",
       "    }\n",
       "</style>\n",
       "<table border=\"1\" class=\"dataframe\">\n",
       "  <thead>\n",
       "    <tr style=\"text-align: right;\">\n",
       "      <th></th>\n",
       "      <th>Name</th>\n",
       "      <th>RA</th>\n",
       "      <th>Dec</th>\n",
       "      <th>K2MASS</th>\n",
       "      <th>(V-K)o</th>\n",
       "      <th>Period</th>\n",
       "      <th>Ref</th>\n",
       "      <th>BCK</th>\n",
       "      <th>logL/Lo</th>\n",
       "      <th>M/Mo</th>\n",
       "      <th>...</th>\n",
       "      <th>k2_e_bmag</th>\n",
       "      <th>k2_vmag</th>\n",
       "      <th>k2_e_vmag</th>\n",
       "      <th>k2_teff</th>\n",
       "      <th>k2_e_teff</th>\n",
       "      <th>band</th>\n",
       "      <th>iso_rad_K2</th>\n",
       "      <th>iso_rad_err_K2</th>\n",
       "      <th>iso_teff_K2</th>\n",
       "      <th>iso_teff_err_K2</th>\n",
       "    </tr>\n",
       "  </thead>\n",
       "  <tbody>\n",
       "    <tr>\n",
       "      <th>0</th>\n",
       "      <td>J03394633+2358531</td>\n",
       "      <td>54.943067</td>\n",
       "      <td>23.981442</td>\n",
       "      <td>11.83</td>\n",
       "      <td>4.89</td>\n",
       "      <td>1.138</td>\n",
       "      <td>1.0</td>\n",
       "      <td>2.73</td>\n",
       "      <td>-1.66</td>\n",
       "      <td>0.41</td>\n",
       "      <td>...</td>\n",
       "      <td>NaN</td>\n",
       "      <td>NaN</td>\n",
       "      <td>NaN</td>\n",
       "      <td>3959.0</td>\n",
       "      <td>348.0</td>\n",
       "      <td>kmag</td>\n",
       "      <td>NaN</td>\n",
       "      <td>NaN</td>\n",
       "      <td>NaN</td>\n",
       "      <td>NaN</td>\n",
       "    </tr>\n",
       "    <tr>\n",
       "      <th>1</th>\n",
       "      <td>J03414664+2301198</td>\n",
       "      <td>55.444367</td>\n",
       "      <td>23.022186</td>\n",
       "      <td>13.16</td>\n",
       "      <td>5.63</td>\n",
       "      <td>0.294</td>\n",
       "      <td>1.0</td>\n",
       "      <td>2.81</td>\n",
       "      <td>-2.23</td>\n",
       "      <td>0.19</td>\n",
       "      <td>...</td>\n",
       "      <td>NaN</td>\n",
       "      <td>NaN</td>\n",
       "      <td>NaN</td>\n",
       "      <td>3514.0</td>\n",
       "      <td>144.0</td>\n",
       "      <td>kmag</td>\n",
       "      <td>NaN</td>\n",
       "      <td>NaN</td>\n",
       "      <td>NaN</td>\n",
       "      <td>NaN</td>\n",
       "    </tr>\n",
       "    <tr>\n",
       "      <th>2</th>\n",
       "      <td>J03414895+2303235</td>\n",
       "      <td>55.453963</td>\n",
       "      <td>23.056539</td>\n",
       "      <td>13.19</td>\n",
       "      <td>6.09</td>\n",
       "      <td>0.239</td>\n",
       "      <td>1.0</td>\n",
       "      <td>2.86</td>\n",
       "      <td>-2.26</td>\n",
       "      <td>0.19</td>\n",
       "      <td>...</td>\n",
       "      <td>NaN</td>\n",
       "      <td>NaN</td>\n",
       "      <td>NaN</td>\n",
       "      <td>3687.0</td>\n",
       "      <td>169.0</td>\n",
       "      <td>kmag</td>\n",
       "      <td>NaN</td>\n",
       "      <td>NaN</td>\n",
       "      <td>NaN</td>\n",
       "      <td>NaN</td>\n",
       "    </tr>\n",
       "    <tr>\n",
       "      <th>3</th>\n",
       "      <td>J03415671+2358434</td>\n",
       "      <td>55.486317</td>\n",
       "      <td>23.978728</td>\n",
       "      <td>13.25</td>\n",
       "      <td>5.76</td>\n",
       "      <td>0.401</td>\n",
       "      <td>1.0</td>\n",
       "      <td>2.82</td>\n",
       "      <td>-2.27</td>\n",
       "      <td>0.18</td>\n",
       "      <td>...</td>\n",
       "      <td>NaN</td>\n",
       "      <td>NaN</td>\n",
       "      <td>NaN</td>\n",
       "      <td>3654.0</td>\n",
       "      <td>169.0</td>\n",
       "      <td>kmag</td>\n",
       "      <td>NaN</td>\n",
       "      <td>NaN</td>\n",
       "      <td>NaN</td>\n",
       "      <td>NaN</td>\n",
       "    </tr>\n",
       "  </tbody>\n",
       "</table>\n",
       "<p>4 rows × 73 columns</p>\n",
       "</div>"
      ],
      "text/plain": [
       "                Name         RA        Dec  K2MASS  (V-K)o  Period  Ref   BCK  \\\n",
       "0  J03394633+2358531  54.943067  23.981442   11.83    4.89   1.138  1.0  2.73   \n",
       "1  J03414664+2301198  55.444367  23.022186   13.16    5.63   0.294  1.0  2.81   \n",
       "2  J03414895+2303235  55.453963  23.056539   13.19    6.09   0.239  1.0  2.86   \n",
       "3  J03415671+2358434  55.486317  23.978728   13.25    5.76   0.401  1.0  2.82   \n",
       "\n",
       "   logL/Lo  M/Mo       ...         k2_e_bmag  k2_vmag  k2_e_vmag  k2_teff  \\\n",
       "0    -1.66  0.41       ...               NaN      NaN        NaN   3959.0   \n",
       "1    -2.23  0.19       ...               NaN      NaN        NaN   3514.0   \n",
       "2    -2.26  0.19       ...               NaN      NaN        NaN   3687.0   \n",
       "3    -2.27  0.18       ...               NaN      NaN        NaN   3654.0   \n",
       "\n",
       "   k2_e_teff  band  iso_rad_K2  iso_rad_err_K2  iso_teff_K2  iso_teff_err_K2  \n",
       "0      348.0  kmag         NaN             NaN          NaN              NaN  \n",
       "1      144.0  kmag         NaN             NaN          NaN              NaN  \n",
       "2      169.0  kmag         NaN             NaN          NaN              NaN  \n",
       "3      169.0  kmag         NaN             NaN          NaN              NaN  \n",
       "\n",
       "[4 rows x 73 columns]"
      ]
     },
     "execution_count": 3,
     "metadata": {},
     "output_type": "execute_result"
    }
   ],
   "source": [
    "df = pd.read_csv(data_dir+\"Pleiades_master.csv\", index_col=0)\n",
    "df.head(4)"
   ]
  },
  {
   "cell_type": "markdown",
   "metadata": {},
   "source": [
    "## Comparing Radii Measurements"
   ]
  },
  {
   "cell_type": "code",
   "execution_count": 4,
   "metadata": {},
   "outputs": [
    {
     "data": {
      "text/html": [
       "<iframe id=\"igraph\" scrolling=\"no\" style=\"border:none;\" seamless=\"seamless\" src=\"https://plot.ly/~kaimibk/206.embed\" height=\"525px\" width=\"100%\"></iframe>"
      ],
      "text/plain": [
       "<plotly.tools.PlotlyDisplay object>"
      ]
     },
     "execution_count": 4,
     "metadata": {},
     "output_type": "execute_result"
    }
   ],
   "source": [
    "trace_all = go.Parcoords(\n",
    "            line = {'color' : 'blue'},\n",
    "            dimensions = list([      \n",
    "                dict(\n",
    "                    range = [0,1.4],\n",
    "                    label = 'Jackson et al. (2018)', \n",
    "                    values = df[\"R/Ro\"]\n",
    "                    ),\n",
    "                dict(\n",
    "                    range = [0,1.4],\n",
    "                    label = \"GAIA DR2\",\n",
    "                    values = df.radius_val\n",
    "                    ),  \n",
    "                dict(\n",
    "                    range = [0,1.4],\n",
    "                    label = \"Isoclassify (2MASS)\",\n",
    "                    values = df.iso_rad\n",
    "                    ), \n",
    "                dict(\n",
    "                    #range = [0,1.4],\n",
    "                    label = \"K2\",\n",
    "                    values = df.K2_rad\n",
    "                    ), \n",
    "                dict(\n",
    "                    range = [0,1.4],\n",
    "                    label = \"Isoclassify (K2)\",\n",
    "                    values = df.iso_rad_K2\n",
    "                    ),  \n",
    "                 \n",
    "        ])\n",
    "    )\n",
    "\n",
    "layout = go.Layout(title = \"Radii Measurement Comparison\")\n",
    "\n",
    "figure = go.Figure(data=[trace_all], layout=layout)\n",
    "\n",
    "py.iplot(figure, filename = 'radius_parcoords_k2')"
   ]
  },
  {
   "cell_type": "markdown",
   "metadata": {},
   "source": [
    "## Comparing Teff Measurements"
   ]
  },
  {
   "cell_type": "code",
   "execution_count": 5,
   "metadata": {},
   "outputs": [
    {
     "data": {
      "text/html": [
       "<iframe id=\"igraph\" scrolling=\"no\" style=\"border:none;\" seamless=\"seamless\" src=\"https://plot.ly/~kaimibk/207.embed\" height=\"525px\" width=\"100%\"></iframe>"
      ],
      "text/plain": [
       "<plotly.tools.PlotlyDisplay object>"
      ]
     },
     "execution_count": 5,
     "metadata": {},
     "output_type": "execute_result"
    }
   ],
   "source": [
    "trace_all = go.Parcoords(\n",
    "            line = {'color' : 'blue'},\n",
    "            dimensions = list([      \n",
    "                dict(\n",
    "                    range = [0,6500],\n",
    "                    label = \"GAIA DR2\",\n",
    "                    values = df.teff_val\n",
    "                    ),  \n",
    "                dict(\n",
    "                    range = [0,6500],\n",
    "                    label = \"Isoclassify (2MASS)\",\n",
    "                    values = df.iso_teff\n",
    "                    ), \n",
    "                dict(\n",
    "                    range = [0,6500],\n",
    "                    label = \"K2\",\n",
    "                    values = df.K2_teff\n",
    "                    ), \n",
    "                dict(\n",
    "                    range = [0,6500],\n",
    "                    label = \"Isoclassify (K2)\",\n",
    "                    values = df.iso_teff_K2\n",
    "                    ),  \n",
    "                 \n",
    "        ])\n",
    "    )\n",
    "\n",
    "layout = go.Layout(title = \"Teff Measurement Comparison\")\n",
    "\n",
    "figure = go.Figure(data=[trace_all], layout=layout)\n",
    "\n",
    "py.iplot(figure, filename = 'Teff_parcoords_k2')"
   ]
  },
  {
   "cell_type": "markdown",
   "metadata": {},
   "source": [
    "## Scatter"
   ]
  },
  {
   "cell_type": "markdown",
   "metadata": {},
   "source": [
    "plot isoclassify(K2) vs isoclassify(2MASS), and K2 vs isoclassify(2MASS) as separate y vs x plots with the identity line, without zero values"
   ]
  },
  {
   "cell_type": "code",
   "execution_count": 6,
   "metadata": {},
   "outputs": [],
   "source": [
    "## Radius Plots\n",
    "trace1 = go.Scatter(\n",
    "        mode = 'markers',\n",
    "        x = df.iso_rad,\n",
    "        error_x = {\n",
    "            \"type\" : \"data\",\n",
    "            \"array\" : df.iso_rad_Err,\n",
    "            \"visible\" : True\n",
    "            },\n",
    "        y = df.iso_rad_K2,\n",
    "        error_y = {\n",
    "            \"type\" : \"data\",\n",
    "            \"array\" : df.iso_rad_err_K2,\n",
    "            \"visible\" : True\n",
    "            },\n",
    "        text = df.Name,\n",
    "        hoverinfo = \"text+x+y\"\n",
    "    )\n",
    "\n",
    "trace2 = go.Scatter(\n",
    "        mode = 'markers',\n",
    "        x = df.iso_rad,\n",
    "        error_x = {\n",
    "            \"type\" : \"data\",\n",
    "            \"array\" : df.iso_rad_Err,\n",
    "            \"visible\" : True\n",
    "            },\n",
    "        y = df.K2_rad,\n",
    "        error_y = {\n",
    "            \"type\" : \"data\",\n",
    "            \"array\" : df.K2_rad_err,\n",
    "            \"visible\" : True\n",
    "            },\n",
    "        text = df.Name,\n",
    "        hoverinfo = \"text+x+y\"\n",
    "    )\n",
    "## Teff Plots\n",
    "trace3 = go.Scatter(\n",
    "        mode = 'markers',\n",
    "        x = df.iso_teff,\n",
    "        error_x = {\n",
    "            \"type\" : \"data\",\n",
    "            \"array\" : df.iso_teff_Err,\n",
    "            \"visible\" : True\n",
    "            },\n",
    "        y = df.iso_teff_K2,\n",
    "        error_y = {\n",
    "            \"type\" : \"data\",\n",
    "            \"array\" : df.iso_teff_err_K2,\n",
    "            \"visible\" : True\n",
    "            },\n",
    "        text = df.Name,\n",
    "        hoverinfo = \"text+x+y\"\n",
    "    )\n",
    "\n",
    "trace4 = go.Scatter(\n",
    "        mode = 'markers',\n",
    "        x = df.iso_teff,\n",
    "        error_x = {\n",
    "            \"type\" : \"data\",\n",
    "            \"array\" : df.iso_teff_Err,\n",
    "            \"visible\" : True\n",
    "            },\n",
    "        y = df.K2_teff,\n",
    "        error_y = {\n",
    "            \"type\" : \"data\",\n",
    "            \"array\" : df.K2_teff_err,\n",
    "            \"visible\" : True\n",
    "            },\n",
    "        text = df.Name,\n",
    "        hoverinfo = \"text+x+y\"\n",
    "    )"
   ]
  },
  {
   "cell_type": "code",
   "execution_count": 7,
   "metadata": {},
   "outputs": [
    {
     "name": "stdout",
     "output_type": "stream",
     "text": [
      "This is the format of your plot grid:\n",
      "[ (1,1) x1,y1 ]  [ (1,2) x2,y2 ]\n",
      "[ (2,1) x3,y3 ]  [ (2,2) x4,y4 ]\n",
      "\n"
     ]
    },
    {
     "data": {
      "text/html": [
       "<iframe id=\"igraph\" scrolling=\"no\" style=\"border:none;\" seamless=\"seamless\" src=\"https://plot.ly/~kaimibk/210.embed\" height=\"525px\" width=\"100%\"></iframe>"
      ],
      "text/plain": [
       "<plotly.tools.PlotlyDisplay object>"
      ]
     },
     "execution_count": 7,
     "metadata": {},
     "output_type": "execute_result"
    }
   ],
   "source": [
    "fig = make_subplots(rows=2, cols=2)\n",
    "fig.append_trace(trace1, 1, 1)\n",
    "fig.append_trace(trace2, 1, 2)\n",
    "fig.append_trace(trace3, 2, 1)\n",
    "fig.append_trace(trace4, 2, 2)\n",
    "#type = \"rect\",x0 = \"1980-01-01\", x1 = \"1985-01-01\", xref = \"x\", y0 = 4,     y1 = 12.5, yref = \"y\"),\n",
    "#type = \"rect\",x0 = \"1980-01-01\", x1 = \"1985-01-01\", xref = \"x2\",y0 = 4000,  y1 = 6000, yref = \"y2\")))\n",
    "\n",
    "fig['layout'].update(showlegend=False)\n",
    "\n",
    "fig['layout']['xaxis1'].update(title=\"Isoclassify(2MASS) Radii\", \n",
    "                       mirror='ticks', linecolor='black', linewidth=1, range=[0.3, 1.4])\n",
    "fig['layout']['xaxis2'].update(title='Isoclassify(2MASS) Radii', \n",
    "                       mirror='ticks', linecolor='black', linewidth=1, range=[0.1,1.4])\n",
    "fig['layout']['xaxis3'].update(title=\"Isoclassify(2MASS) Teff\", \n",
    "                       mirror='ticks', linecolor='black', linewidth=1, range=[3800,6200])\n",
    "fig['layout']['xaxis4'].update(title='Isoclassify(2MASS) Teff', \n",
    "                       mirror='ticks', linecolor='black', linewidth=1, range=[3400, 6200])\n",
    "\n",
    "fig['layout']['yaxis1'].update(title=\"Isoclassify(K2) Radii\", \n",
    "                       mirror='ticks', linecolor='black', linewidth=1, range=[0.2, 1.3])\n",
    "fig['layout']['yaxis2'].update(title='K2 Radii', mirror='ticks', \n",
    "                       linecolor='black', linewidth=1, range=[0.2, 11])\n",
    "fig['layout']['yaxis3'].update(title=\"Isoclassify(K2) Teff\", \n",
    "                       mirror='ticks', linecolor='black', linewidth=1, range=[2800, 6200])\n",
    "fig['layout']['yaxis4'].update(title='K2 Teff', mirror='ticks', \n",
    "                       linecolor='black', linewidth=1)\n",
    "\n",
    "fig['layout']['shapes'] = (\n",
    "    [\n",
    "    {'type': 'line', 'x0': 0, 'y0': 0, 'x1': 1.7,'y1': 1.7, \n",
    "        'line': {'color': 'black','width': 3}, \"xref\":'x', \"yref\" : 'y'},\n",
    "    {'type': 'line', 'x0': 0, 'y0': 0, 'x1': 1.7,'y1': 1.7, \n",
    "        'line': {'color': 'black','width': 3}, \"xref\" : 'x2', \"yref\" : 'y2'},\n",
    "    {'type': 'line', 'x0': 2500, 'y0': 2500, 'x1': 6500,'y1': 6500, \n",
    "        'line': {'color': 'black','width': 3}, \"xref\" : 'x3', \"yref\" : 'y3'},\n",
    "    {'type': 'line', 'x0': 2500, 'y0': 2500, 'x1': 6500,'y1': 6500, \n",
    "        'line': {'color': 'black','width': 3}, \"xref\" : 'x4', \"yref\" : 'y4'},\n",
    "    ])\n",
    "\n",
    "py.iplot(fig, filename='radii_teff_scatter')"
   ]
  },
  {
   "cell_type": "code",
   "execution_count": null,
   "metadata": {},
   "outputs": [],
   "source": []
  }
 ],
 "metadata": {
  "kernelspec": {
   "display_name": "Python 3",
   "language": "python",
   "name": "python3"
  },
  "language_info": {
   "codemirror_mode": {
    "name": "ipython",
    "version": 3
   },
   "file_extension": ".py",
   "mimetype": "text/x-python",
   "name": "python",
   "nbconvert_exporter": "python",
   "pygments_lexer": "ipython3",
   "version": "3.6.5"
  },
  "toc": {
   "base_numbering": 1,
   "nav_menu": {},
   "number_sections": true,
   "sideBar": true,
   "skip_h1_title": false,
   "title_cell": "Table of Contents",
   "title_sidebar": "Contents",
   "toc_cell": false,
   "toc_position": {},
   "toc_section_display": true,
   "toc_window_display": false
  },
  "varInspector": {
   "cols": {
    "lenName": 16,
    "lenType": 16,
    "lenVar": 40
   },
   "kernels_config": {
    "python": {
     "delete_cmd_postfix": "",
     "delete_cmd_prefix": "del ",
     "library": "var_list.py",
     "varRefreshCmd": "print(var_dic_list())"
    },
    "r": {
     "delete_cmd_postfix": ") ",
     "delete_cmd_prefix": "rm(",
     "library": "var_list.r",
     "varRefreshCmd": "cat(var_dic_list()) "
    }
   },
   "types_to_exclude": [
    "module",
    "function",
    "builtin_function_or_method",
    "instance",
    "_Feature"
   ],
   "window_display": false
  }
 },
 "nbformat": 4,
 "nbformat_minor": 2
}
